{
 "cells": [
  {
   "cell_type": "code",
   "execution_count": 1,
   "metadata": {},
   "outputs": [
    {
     "name": "stderr",
     "output_type": "stream",
     "text": [
      "[W:pyppeteer.chromium_downloader] start chromium download.\n",
      "Download may take a few minutes.\n",
      "100%|██████████| 84299992/84299992 [00:03<00:00, 22930044.36it/s]\n",
      "[W:pyppeteer.chromium_downloader] \n",
      "chromium download done.\n",
      "[W:pyppeteer.chromium_downloader] chromium extracted to: /Users/nakamuratatsuya/Library/Application Support/pyppeteer/local-chromium/575458\n"
     ]
    }
   ],
   "source": [
    "import csv\n",
    "from requests_html import HTMLSession\n",
    "\n",
    "session = HTMLSession()\n",
    "r = session.get('https://www.jleague.jp/sp/club/sapporo/day/#player')\n",
    "\n",
    "# Javascriptレンダリング\n",
    "r.html.render()\n",
    "\n",
    "with open('player.csv', 'w') as fw:\n",
    "    writer = csv.writer(fw, dialect='excel', lineterminator='\\n')\n",
    "\n",
    "    for trs in r.html.find('#loadArea > section > table > tbody > tr'):\n",
    "        result = [td.text.replace('\\n', '') for td in trs.find('td')]\n",
    "        writer.writerow(result)"
   ]
  },
  {
   "cell_type": "code",
   "execution_count": null,
   "metadata": {},
   "outputs": [],
   "source": []
  }
 ],
 "metadata": {
  "kernelspec": {
   "display_name": "Python 3",
   "language": "python",
   "name": "python3"
  },
  "language_info": {
   "codemirror_mode": {
    "name": "ipython",
    "version": 3
   },
   "file_extension": ".py",
   "mimetype": "text/x-python",
   "name": "python",
   "nbconvert_exporter": "python",
   "pygments_lexer": "ipython3",
   "version": "3.6.4"
  }
 },
 "nbformat": 4,
 "nbformat_minor": 2
}
