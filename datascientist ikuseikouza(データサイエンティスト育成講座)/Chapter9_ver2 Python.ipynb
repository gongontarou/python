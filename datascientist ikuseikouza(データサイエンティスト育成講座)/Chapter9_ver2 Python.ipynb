{
 "cells": [
  {
   "cell_type": "markdown",
   "metadata": {},
   "source": [
    "# 9 データベースとSQLの基礎 (Python)"
   ]
  },
  {
   "cell_type": "markdown",
   "metadata": {},
   "source": [
    "- **[9.7 Pythonとの連携](#9.7-Pythonとの連携)**\n",
    "    - [9.7.1 Pythonからの接続方法と具体例](#9.7.1-Pythonからの接続方法と具体例)\n",
    "<br><br>\n",
    "- **[9.8 総合問題](#9.8-総合問題)** \n",
    "    - [9.8.3 総合問題3](#9.8.3-総合問題3)"
   ]
  },
  {
   "cell_type": "markdown",
   "metadata": {},
   "source": [
    "***"
   ]
  },
  {
   "cell_type": "markdown",
   "metadata": {},
   "source": [
    "## 9.7 Pythonとの連携\n",
    "この章のゴール：PythonとMysqlを接続して、データのハンドリングができる"
   ]
  },
  {
   "cell_type": "markdown",
   "metadata": {},
   "source": [
    "### 9.7.1 Pythonからの接続方法と具体例 \n",
    "キーワード：pymysql"
   ]
  },
  {
   "cell_type": "markdown",
   "metadata": {},
   "source": [
    "この章では、前章までで学んだSQLとPythonを連携して、データをハンドリングする手法を身につけましょう。基本的には、Pythonからの接続方法さえ覚えれば、あとはSQLの問題になりますので、前章のSQLができれば大丈夫です。"
   ]
  },
  {
   "cell_type": "markdown",
   "metadata": {},
   "source": [
    "なお、今回はモジュールを使いますので、以下のコマンドをterminal上で実行して、ダウンロードしてください。(新しくモジュールをダウンロードする時によく使いますので、余力がある方は使えるようになりましょう。)　terminalはjupyterのトップ画面へいき、右側にある「New」からterminalを選択して実行します。黒い画面にコマンド打ち込んでいきます。"
   ]
  },
  {
   "cell_type": "markdown",
   "metadata": {},
   "source": [
    "pip install pymysql"
   ]
  },
  {
   "cell_type": "markdown",
   "metadata": {},
   "source": [
    "以下から実装です。なお、データをダウンロードした時に使用したパラメータを見て、以下のconnectメソッドのパラメータも適宜変更して実行してください。"
   ]
  },
  {
   "cell_type": "code",
   "execution_count": 1,
   "metadata": {},
   "outputs": [],
   "source": [
    "import pymysql.cursors"
   ]
  },
  {
   "cell_type": "code",
   "execution_count": 2,
   "metadata": {
    "scrolled": false
   },
   "outputs": [
    {
     "name": "stdout",
     "output_type": "stream",
     "text": [
      "1 Yamada 14 1 150\n",
      "2 Tanaka 13 2 150\n",
      "3 Suzuki 13 1 150\n",
      "4 Kato 15 2 150\n",
      "5 Ito 12 3 155\n",
      "6 Takeuchi 16 2 155\n",
      "7 Kimura 11 3 160\n",
      "8 Sato 14 1 160\n",
      "100 dummy_Yamada None None None\n",
      "200 dummy_Tanaka None None None\n"
     ]
    }
   ],
   "source": [
    "dbh = pymysql.connect(\n",
    "    host='zdb',\n",
    "    user='root',\n",
    "    password='gci',\n",
    "    db='TEST1',\n",
    "    charset='utf8',\n",
    "    cursorclass=pymysql.cursors.DictCursor )#カーソルのクラスを指定できます。ここでは辞書型にしています。\n",
    "\n",
    "#カーソル取得\n",
    "stmt = dbh.cursor()\n",
    "\n",
    "#処理したいSQL\n",
    "sql = \"select * from meibo limit 10\"\n",
    "\n",
    "#SQL実行\n",
    "stmt.execute(sql)\n",
    "\n",
    "#結果取得 辞書型で取得できます。\n",
    "rows = stmt.fetchall()\n",
    "\n",
    "#表示\n",
    "for row in rows:\n",
    "    print(row['id'],row['name'],row['age'],row['class'],row['height'])\n",
    "\n",
    "\n",
    "#切る\n",
    "stmt.close()\n",
    "dbh.close()"
   ]
  },
  {
   "cell_type": "markdown",
   "metadata": {},
   "source": [
    "基本的には、SQLでの操作になりますので、前に学んだ記述方法と同じです。\n",
    "\n",
    "contextlibにあるclosingとwith文を組み合わせると，以下のようにしてcursorを自動でcloseすることができます。withを使うと例外が発生したときでもcursorを自動的に閉じてくれます。"
   ]
  },
  {
   "cell_type": "code",
   "execution_count": 3,
   "metadata": {
    "collapsed": true
   },
   "outputs": [],
   "source": [
    "from contextlib import closing"
   ]
  },
  {
   "cell_type": "code",
   "execution_count": 4,
   "metadata": {
    "collapsed": true
   },
   "outputs": [],
   "source": [
    "db = pymysql.connect(\n",
    "    host='zdb',\n",
    "    user='root',\n",
    "    password='gci',\n",
    "    db='TEST1',\n",
    "    charset='utf8',\n",
    "    cursorclass=pymysql.cursors.DictCursor )"
   ]
  },
  {
   "cell_type": "code",
   "execution_count": 5,
   "metadata": {},
   "outputs": [
    {
     "name": "stdout",
     "output_type": "stream",
     "text": [
      "1 Yamada 14 1 150\n",
      "2 Tanaka 13 2 150\n",
      "3 Suzuki 13 1 150\n",
      "4 Kato 15 2 150\n",
      "5 Ito 12 3 155\n",
      "6 Takeuchi 16 2 155\n",
      "7 Kimura 11 3 160\n",
      "8 Sato 14 1 160\n",
      "100 dummy_Yamada None None None\n",
      "200 dummy_Tanaka None None None\n"
     ]
    }
   ],
   "source": [
    "with closing(db.cursor()) as cur:\n",
    "    cur.execute(\"select * from meibo limit 10\")\n",
    "    row = cur.fetchone()\n",
    "    while row is not None:\n",
    "        print(row['id'],row['name'],row['age'],row['class'],row['height'])\n",
    "        row = cur.fetchone()"
   ]
  },
  {
   "cell_type": "markdown",
   "metadata": {},
   "source": [
    "以下のようにパラメータを設定して、データを抽出することもできます。以下はageをパラメータとして、15歳以上のデータを抽出しています。"
   ]
  },
  {
   "cell_type": "code",
   "execution_count": 6,
   "metadata": {},
   "outputs": [
    {
     "name": "stdout",
     "output_type": "stream",
     "text": [
      "Kato 15\n",
      "Takeuchi 16\n"
     ]
    }
   ],
   "source": [
    "with closing(db.cursor()) as cur:\n",
    "    age = 15\n",
    "    cur.execute(\"select * from meibo where  age>= %s\", (age,))\n",
    "    row = cur.fetchone()\n",
    "    while row is not None:\n",
    "        print(row['name'],row['age'])\n",
    "        row = cur.fetchone()"
   ]
  },
  {
   "cell_type": "code",
   "execution_count": 7,
   "metadata": {
    "collapsed": true
   },
   "outputs": [],
   "source": [
    "db.close()"
   ]
  },
  {
   "cell_type": "markdown",
   "metadata": {},
   "source": [
    "***"
   ]
  },
  {
   "cell_type": "markdown",
   "metadata": {},
   "source": [
    "## 9.8 総合問題"
   ]
  },
  {
   "cell_type": "markdown",
   "metadata": {},
   "source": [
    "### 9.8.3 総合問題3"
   ]
  },
  {
   "cell_type": "markdown",
   "metadata": {
    "collapsed": true
   },
   "source": [
    "9.8.2と同じデータベースを使って以下の問に答えてください。\n",
    "\n",
    "(1)給料支払日毎の支払い済み給料の四分位点、最頻値を求めてください。\n",
    "\n",
    "4分位点はnumpyのpercentile関数、最頻値はstatisticsのmode関数で求められます。いずれもmysql上で計算するのは不可能ではありませんが、python上で計算してみてください。"
   ]
  },
  {
   "cell_type": "code",
   "execution_count": 8,
   "metadata": {},
   "outputs": [
    {
     "name": "stdout",
     "output_type": "stream",
     "text": [
      "日付\t25パーセンタイル、\t50パーセンタイル\t75パーセンタイル\t最頻値\n",
      "1997-01-01 \t 3.375 \t 3.96 \t 6.1425 \t 6.3000\n",
      "1997-02-01 \t 3.360925 \t 3.96 \t 6.1425 \t 6.3000\n",
      "1997-03-01 \t 3.35815 \t 3.96 \t 6.1425 \t 6.3000\n",
      "1997-04-01 \t 3.3542 \t 3.96 \t 6.1425 \t 6.3000\n",
      "1997-05-01 \t 3.372025 \t 3.96 \t 6.1425 \t 6.3000\n",
      "1997-06-01 \t 3.363425 \t 3.96 \t 6.1425 \t 6.3000\n",
      "1997-07-01 \t 3.356725 \t 3.96 \t 6.1425 \t 6.3000\n",
      "1997-08-01 \t 3.34105 \t 3.96 \t 6.1425 \t 6.3000\n",
      "1997-09-01 \t 3.349725 \t 3.96 \t 6.1425 \t 6.3000\n",
      "1997-10-01 \t 3.368775 \t 3.96 \t 6.1425 \t 6.3000\n",
      "1997-11-01 \t 3.358575 \t 3.96 \t 6.1425 \t 6.3000\n",
      "1997-12-01 \t 3.35905 \t 3.96 \t 6.1425 \t 6.3000\n",
      "1998-01-01 \t 3.373 \t 4.5 \t 9.5714 \t 7.0000\n",
      "1998-02-01 \t 3.3716 \t 4.5 \t 9.5714 \t 7.0000\n",
      "1998-03-01 \t 3.37345 \t 4.5 \t 9.5714 \t 7.0000\n",
      "1998-04-01 \t 3.375 \t 4.5 \t 9.5714 \t 7.0000\n",
      "1998-05-01 \t 3.38615 \t 4.5 \t 9.5714 \t 7.0000\n",
      "1998-06-01 \t 3.36025 \t 4.5 \t 9.5714 \t 7.0000\n",
      "1998-07-01 \t 3.3737 \t 4.5 \t 9.5714 \t 7.0000\n",
      "1998-08-01 \t 3.37725 \t 4.5 \t 9.5714 \t 7.0000\n",
      "1998-09-01 \t 3.36775 \t 4.5 \t 9.5714 \t 7.0000\n",
      "1998-10-01 \t 3.3773 \t 4.5 \t 9.5714 \t 7.0000\n",
      "1998-11-01 \t 3.3805 \t 4.5 \t 9.5714 \t 7.0000\n",
      "1998-12-01 \t 3.37665 \t 4.5 \t 9.5714 \t 7.0000\n"
     ]
    }
   ],
   "source": [
    "# 解答例\n",
    "import pymysql.cursors\n",
    "import numpy as np\n",
    "import statistics as st\n",
    "from contextlib import closing\n",
    "\n",
    "dbh = pymysql.connect(\n",
    "    host='zdb',\n",
    "    user='root',\n",
    "    password='gci',\n",
    "    db='foodmart',\n",
    "    charset='utf8',\n",
    "    cursorclass=pymysql.cursors.Cursor )\n",
    "\n",
    "sqls = [];\n",
    "dates = [];\n",
    "\n",
    "#日付毎のデータを取得するSQLを生成する。※とりあえず全レコード取得してから分割しても良い。\n",
    "with closing(dbh.cursor()) as cur:\n",
    "    cur.execute(\"select date_format(t.pay_date,'%Y-%m-%d') date from salary t group by t.pay_date\")\n",
    "    row = cur.fetchone()\n",
    "    while row is not None:\n",
    "        sqls.append(\"select salary_paid from salary where pay_date = '\" + row[0] +\"';\")\n",
    "        dates.append(row[0])\n",
    "        row = cur.fetchone()\n",
    "\n",
    "print(\"日付\\t25パーセンタイル、\\t50パーセンタイル\\t75パーセンタイル\\t最頻値\")\n",
    "with closing(dbh.cursor()) as cur:\n",
    "    for sql in sqls:\n",
    "        cur.execute(sql)\n",
    "        result = cur.fetchall()\n",
    "        array = np.array(result).astype(np.float64)\n",
    "        print(dates.pop(0),\"\\t\",\n",
    "              np.percentile(array ,25),\"\\t\",\n",
    "              np.percentile(array ,50),\"\\t\",\n",
    "              np.percentile(array ,75),\"\\t\",\n",
    "              st.mode(result)[0])\n",
    "            \n",
    "            \n",
    "dbh.close()\n"
   ]
  },
  {
   "cell_type": "code",
   "execution_count": null,
   "metadata": {
    "collapsed": true
   },
   "outputs": [],
   "source": []
  }
 ],
 "metadata": {
  "anaconda-cloud": {},
  "kernelspec": {
   "display_name": "Python 3",
   "language": "python",
   "name": "python3"
  },
  "language_info": {
   "codemirror_mode": {
    "name": "ipython",
    "version": 3
   },
   "file_extension": ".py",
   "mimetype": "text/x-python",
   "name": "python",
   "nbconvert_exporter": "python",
   "pygments_lexer": "ipython3",
   "version": "3.6.2"
  }
 },
 "nbformat": 4,
 "nbformat_minor": 1
}
