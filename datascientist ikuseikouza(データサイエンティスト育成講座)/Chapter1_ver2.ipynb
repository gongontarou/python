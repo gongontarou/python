{
 "cells": [
  {
   "cell_type": "markdown",
   "metadata": {
    "nbpresent": {
     "id": "af88da20-0f51-483e-bd72-afc896a9da05"
    }
   },
   "source": [
    "# 1 データサイエンティスト講座概要とPythonの基礎"
   ]
  },
  {
   "cell_type": "markdown",
   "metadata": {},
   "source": [
    "- **[1.1 この講座の概要](#1.1-この講座の概要)**\n",
    "    - [1.1.1 講座の説明](#1.1.1-講座の説明)\n",
    "    - [1.1.2 データサイエンティストについて](#1.1.2-データサイエンティストについて)\n",
    "    - [1.1.3 データ分析の流れ](#1.1.3-データ分析の流れ)\n",
    "    - [1.1.4 （必読！）この講座の注意事項](#1.1.4-（必読！）この講座の注意事項)\n",
    "<br><br>\n",
    "- **[1.2 Pythonの基礎](#1.2-Pythonの基礎)** \n",
    "    - [1.2.1 Jupyterの使い方とPythonの基礎](#1.2.1-Jupyterの使い方とPythonの基礎)\n",
    "    - [1.2.2 クラスとインスタンス](#1.2.2-クラスとインスタンス)\n",
    "<br><br>\n",
    "- **[1.3 総合問題](#1.3-総合問題)** \n",
    "    - [1.3.1 素数判定](#1.3.1-素数判定)"
   ]
  },
  {
   "cell_type": "markdown",
   "metadata": {
    "collapsed": true
   },
   "source": [
    "\n",
    "***"
   ]
  },
  {
   "cell_type": "markdown",
   "metadata": {
    "nbpresent": {
     "id": "dad3a857-8628-4c15-a8ad-312792cb88ac"
    }
   },
   "source": [
    "## 1.1 この講座の概要\n",
    "ゴール：この講座の目的を理解する、データ分析の流れを抑える"
   ]
  },
  {
   "cell_type": "markdown",
   "metadata": {
    "nbpresent": {
     "id": "cc42c471-e943-450e-a441-3dc962f1c40d"
    }
   },
   "source": [
    "### 1.1.1 講座の説明\n",
    "キーワード：データ分析、Python、SQL、線形代数、微分積分学、確率、統計、機械学習"
   ]
  },
  {
   "cell_type": "markdown",
   "metadata": {},
   "source": [
    "この講座では、Jupyter Notebookを使用するため、まずは自分のパソコンにインストールする必要があります。https://pythondatascience.plavox.info/pythonの開発環境/jupyter-notebookを使ってみよう を参考にインストールしてください。\n",
    "\n",
    "この講座を学ぶ前に前提としている知識は、大学で習う微分・積分と線形代数の基礎で、プログラミング経験がある方達(可能ならPython)を想定しています。この講座とは別に、確率と統計の基礎を体系的に学習することをお勧めします。ここは、厳密な数式に基づいた講座（集合・位相や測度論に基づいた確率統計）ではなく、データ分析の現場に必要なスキルを身につけるという視点で、解説をしています。もちろん、難しい箇所もあるかもしれませんが、一度に全てを理解しなくても先には進むことはできます。後から振り返ってわかるということもありますし、分からない箇所があったり、気になっている箇所がありましたら、以下の参考文献なども都度参照してください。"
   ]
  },
  {
   "cell_type": "markdown",
   "metadata": {},
   "source": [
    ">[参照URL]\n",
    "\n",
    ">https://www.python.org\n",
    "\n",
    ">http://www.sejuku.net/blog/3413\n",
    "\n",
    ">http://diveintopython3-ja.rdy.jp/\n",
    "\n",
    ">[参考文献]\n",
    "\n",
    ">『チュートリアルPython』(Bill Lubanovic, オライリージャパン)\n",
    "\n",
    ">『統計学入門』(東京大学出版)\n",
    "\n",
    ">『統計学』(東京大学出版)"
   ]
  },
  {
   "cell_type": "markdown",
   "metadata": {},
   "source": [
    "この講座では一部、線形代数や微分積分学の基礎知識を前提に話を進めますので、不安がある方は以下の文献等見て復習しましょう。後の章でも、固有値等でてきますので、さらっと読んでおきましょう。もちろん全てやる必要はなく、ここの教材をやっていく上で、必要そうな箇所をピックアップしたり、教材で出現する専門用語をネットで調べながら学習を進めてください。さらっと読んでみて、自分にあっている本を1−2冊購入すればよいでしょう。なお、線形代数や微分積分学に限った話ではありませんが、大学の数学は抽象度があがり、苦手意識を持つ人が多いようです。問題演習をこなすことによってイメージがつきやすくなりますので、以下のような文献で例題や演習を中心にやってみてください。"
   ]
  },
  {
   "cell_type": "markdown",
   "metadata": {},
   "source": [
    ">[参考文献]\n",
    "\n",
    ">『線形代数学（新装版）』(川久保　勝夫  (著), 日本評論社)\n",
    "\n",
    ">『入門線形代数 』(三宅 敏恒 (著) , 培風館 )\n",
    "\n",
    ">『明解演習 線形代数 (明解演習シリーズ) 』(小寺 平治(著), 共立出版)\n",
    "\n",
    ">『明解演習 微分積分 (明解演習シリーズ)  』(小寺 平治(著), 共立出版)\n",
    "\n",
    ">『キーポイント多変数の微分積分 (理工系数学のキーポイント (7)) 』(小形 正男 (著), 岩波書店 )\n",
    "\n",
    ">『やさしく学べる微分方程式 』(石村 園子 (著), 共立出版)"
   ]
  },
  {
   "cell_type": "markdown",
   "metadata": {},
   "source": [
    "なお、以下は解析学（微分積分学）のみですが、大学1−2年の数学に不安のある方、数学的な厳密性を求めたい方にオススメします。"
   ]
  },
  {
   "cell_type": "markdown",
   "metadata": {},
   "source": [
    ">[参考文献]\n",
    "\n",
    ">『技術者のための基礎解析学 機械学習に必要な数学を本気で学ぶ』(中井 悦司 (著), 翔泳社)"
   ]
  },
  {
   "cell_type": "markdown",
   "metadata": {},
   "source": [
    "この講座のコンテンツは次のようになります。第1章がこのJupyterNoteBookの使い方とPythonの基礎、2章がNumpy・Scipy・Pandas・Matplotlibの基礎で、データハンドリングに使うライブラリと基本的なテクニックをここで学びます。これらのライブラリのさらなる活用方法については、後の章で学びます。3章が実際のデータを使った記述統計学と回帰分析で、2章で学んだNumpyやPandas等を使っていきます。4章が確率統計の基礎になり、少し理論的なお話になり数式も出てきますが、徐々に慣れていきましょう。\n",
    "\n",
    "5章が科学計算に使われるNumpyやScipy、6章でデータ加工処理に必要となるPandasを使ったテクニック、7章がデータの可視化(Matplotlib)について学びます。この章までにPythonのデータ分析前の処理や加工の基礎を身につけていただき、総合問題でそれらの手法を活用します。具体的には金融の時系列データやマーケティングデータをハンドリングをして、データ分析の実務現場でも使われている基礎的な手法を紹介します。\n",
    "\n",
    "8章からはデータベースの話になり、データベースとSQLの基礎スキルを身につけます。9章でSQLの応用的な処理、10章ではMongoDBのNoSQLについて学びます。データはDBにあるケースもありますし、テキスト形式等で保存されているケースもありますので、ここで学ぶデータ加工処理を学べば、後の工程が楽になります。また、DBはPythonとも連携が可能で、その接続方法などについても紹介します。\n",
    "\n",
    "11章からは、機械学習の単元になります。はじめは教師あり学習、次の12章で教師なし学習、そして13章がその機械学習で学んだモデリングの検証やチューニング方法になります。モデルは作ったら終わりではなく、検証をしっかりとする必要があり、オーバーフィッティング等についても述べます。\n",
    "\n",
    "最後は今後の学習として、14章でデータサイエンスの中級者になるために必要なスキル、例えばPythonの高速化や深層学習入門、Spark(Pyspark)を紹介します。この教材はデータサイエンスの入り口ですので、大事なのはこれからの学習をさらに広げて、深めていくことです。そのために、これらのコンテンツを作成しました。まとめとして、15章は総合問題となります。\n",
    "\n",
    "この講座をすべて完了すれば、データ分析に必要な最低限のスキルと、今注目されている深層学習などを学ぶための前知識も身につけることができます。余談ですが、ここでデータ分析のスキルをしっかりと身につければ、自分の市場価値を上げることができますし、就職や転職するときに選択肢が大きく広がります。"
   ]
  },
  {
   "cell_type": "markdown",
   "metadata": {
    "nbpresent": {
     "id": "93b648ee-643e-46b2-a289-f6b562875bc4"
    }
   },
   "source": [
    "### 1.1.2 データサイエンティストについて\n",
    "キーワード：データサイエンティスト、統計学、プログラミング"
   ]
  },
  {
   "cell_type": "markdown",
   "metadata": {},
   "source": [
    "ここでは、主にデータ分析について学んでいくのですが、まずデータ分析の専門家である「データサイエンティスト」について考えてみましょう。いろいろな書物やネット上で定義されており、一概にはまだ定まっていない状態ですが、ここではデータサイエンティストとは**ビジネスの課題に対して、統計や機械学習（数学）とプログラミング(IT)スキルを使って、解決する人**と定義したいと思います。"
   ]
  },
  {
   "cell_type": "markdown",
   "metadata": {},
   "source": [
    "![comment](http://www.zsassociates.com/solutions/services/technology/technology-services/~/media/791C9080D8914382BC08E27380C24FC6.ashx)"
   ]
  },
  {
   "cell_type": "markdown",
   "metadata": {},
   "source": [
    "参照URL：http://www.zsassociates.com/solutions/services/technology/technology-services/big-data-and-data-scientist-services.aspx"
   ]
  },
  {
   "cell_type": "markdown",
   "metadata": {},
   "source": [
    "このデータサイエンティスト、数学や統計ができる人しかなれないと思われがちですが、それだけではなく、それを実装する力（エンジニアリング力）も必要ですし、そもそもそれらを使ってビジネス課題を解決していく（コンサルティング力みたいなもの）力が求められています。この1つのどれが欠けてもデータサイエンティストではありません。ただ、これらのスキルについてすべてエキスパートだという人はいませんし、以下でも述べますが、それぞれの強みを持っている人たちでグループを作り、データサイエンスチームを結成することもあります。詳しいことは、以下の参考文献や色々とデータ分析関連の本が出ていますので、ぜひ読んでみてください。"
   ]
  },
  {
   "cell_type": "markdown",
   "metadata": {},
   "source": [
    ">[参考文献]\n",
    "\n",
    ">『最強のデータ分析組織 なぜ大阪ガスは成功したのか』(河本 薫 (著)、日経BP社)\n",
    "\n",
    ">『機械脳の時代―――データサイエンスは戦略・組織・仕事をどう変えるのか?』(加藤 エルテス 聡志 (著)、ダイヤモンド社)\n",
    "\n",
    ">『アクセンチュアのプロフェッショナルが教えるデータ・アナリティクス実践講座』(アクセンチュアアナリティクス (著), 工藤卓哉  (監修), 保科学世 (監修), 翔泳社)\n",
    "\n",
    ">『会社を変える分析の力 (講談社現代新書) 』(河本 薫 (著)、講談社)"
   ]
  },
  {
   "cell_type": "markdown",
   "metadata": {
    "nbpresent": {
     "id": "8972370e-3b2e-4fe5-b7d5-e6f410f4df68"
    }
   },
   "source": [
    "### 1.1.3 データ分析の流れ\n",
    "キーワード：データ分析の流れ、PDCA"
   ]
  },
  {
   "cell_type": "markdown",
   "metadata": {},
   "source": [
    "次に、実際のデータ分析の流れを簡単に説明します。データ分析のプロジェクトでは、そのビジネス理解、データ理解、データ加工、処理、モデリング、検証、運用の流れを創ることが大事になってきます。特に、実際のビジネス現場で重要になるのは、ビジネス理解です。ここを外すと意味がなくなってしまいます。目的ありきで、分析ありきではありません。ここがモデリングだけにしか興味がない人たちには面白くないかもしれませんが、さらに大変なのが、クライアントや関係者がはっきりと目的を持っている場合は少ないということです（！）。話し合い等をしながら、こちら側から課題を見つけ、提案していくことが求められます。ここは、他の人たち（コンサルタント、営業等）と協力する必要がありますし、またクライアントや関係者ともコミュニケーションをとっていく必要があり、とても大事です。また、どこかの段階が終わったら完了ではなく、サイクルを回し続けるいわゆるPDCAサイクルの流れまで持っていく必要があります。\n",
    "\n",
    "ただ、そういった側面があるという現実をお伝えした上で、それをどうアプローチしていくのか、どうやって具体化（実装）するのか学んでいくのがこの講座です。"
   ]
  },
  {
   "cell_type": "markdown",
   "metadata": {},
   "source": [
    "![comment](https://upload.wikimedia.org/wikipedia/commons/thumb/b/ba/Data_visualization_process_v1.png/525px-Data_visualization_process_v1.png)"
   ]
  },
  {
   "cell_type": "markdown",
   "metadata": {},
   "source": [
    "参照URL：http://www.kdnuggets.com/2016/03/data-science-process.html"
   ]
  },
  {
   "cell_type": "markdown",
   "metadata": {},
   "source": [
    ">**[ポイント]**\n",
    "\n",
    ">データ分析の現場で大事になるのは、ビジネス理解やその目的を明確化し、PDCAサイクルの流れ（データ分析のプロセス）を創ることです。"
   ]
  },
  {
   "cell_type": "markdown",
   "metadata": {},
   "source": [
    "データ分析のプロジェクトの流れ等については、以下のような参考文献があります。"
   ]
  },
  {
   "cell_type": "markdown",
   "metadata": {},
   "source": [
    ">[参考文献]\n",
    "\n",
    ">『真実を見抜く分析力 ビジネスエリートは知っているデータ活用の基礎知識』(トーマス・H・ダベンポート (著), キム・ジノ(Jin-ho Kim) (著), 河本 薫 (監修), & 1 その他、日経BP社)\n",
    "\n",
    ">『データ分析プロジェクトの手引: データの前処理から予測モデルの運用までを俯瞰する20章』(D. ネトルトン (著), David Nettleton (原著), 市川 太祐 (翻訳), 島田 直希 (翻訳)、共立出版 )"
   ]
  },
  {
   "cell_type": "markdown",
   "metadata": {},
   "source": [
    "さらに、上記のようなデータ分析のフローや結果をシステム化したり、実務で運用していくためには様々なことを考慮する必要があります。以下の本がオススメです。"
   ]
  },
  {
   "cell_type": "markdown",
   "metadata": {},
   "source": [
    ">[参考文献]\n",
    "\n",
    ">『仕事ではじめる機械学習』(有賀 康顕  (著),中山 心太 (著),西林 孝 (著)、オライリージャパン)"
   ]
  },
  {
   "cell_type": "markdown",
   "metadata": {},
   "source": [
    "### 1.1.4 （必読！）この講座の注意事項\n",
    "キーワード：自分の手を動かして学ぼう"
   ]
  },
  {
   "cell_type": "markdown",
   "metadata": {},
   "source": [
    "ビジネスの理解ができても、それを形にする（実装する）ことができなければ、データサイエンティストではありません。ここでは、様々なデータに対処して、実装できることを目指します。そこで、学習する上でとても大切になってくるのが、**「自分で考えて手を動かしながら学ぶこと」**です。\n",
    "\n",
    "この講座の中で、実際に変数を変えてみたり、コードを実行して、結果をみてください。基本、上から順に実行するだけで良いのですが、ただコードを眺めているだけでは、分析やコーディングのスキルは身につきません。コードをすぐに実行できる環境があるという点が、この講義の大きな特徴です。実際に試行錯誤することでしか、コーディングスキルは身につきません。講座のところどころに、「〜をしてみてください」だとか「考えてください」という文言（**[やってみよう]**）があるので、次に進む前に、ちゃんと立ち止まって考えて、コーディングしてみてください。\n",
    "\n",
    "さらに、練習問題等に関わらず、ご自身の中で「ここの数字を変えたり、処理を変えたらどうなんだろう」など、仮説やアイデアが浮かんだら是非色々と試してみてください。時間はかかるかもしれません。詰まる時もあるかもしれませんし、エラー文などが返ってくるかもしれませんが、エラー文も見ながら、まずは自分で調べながらやることも大事です。また、コードが複数行あって、講座の説明文だけでは分からない処理があるかもしれません。その時は、1行1行実行して、どういう結果が返ってくるのか、見ていきましょう。そこから1つ1つ学ぶことができるのです。（もちろん、簡単だと思われる場合は、適宜スキップしてください。）"
   ]
  },
  {
   "cell_type": "markdown",
   "metadata": {},
   "source": [
    "この教材を進めていく中で、わからないキーワードやライブラリ、コードなどが出てくることもあると思います。その場合は、上の参考文献等を見るだけではなく、検索エンジン（グーグルなど）を積極的に使って調べていきましょう。はじめは調べたいものがすぐに見つからず、時間がかかるかもしれませんが、慣れてくれば調べるコツも分かってきます。この**調べる力もとても重要**です。\n",
    "\n",
    "また、この教材に書いてあることを全て丸暗記しようなどとは思わないでください。あくまでこの教材は、PythonやSQL等を使っていろんな処理ができるというのを学んでもらうためのものであって、全て覚えてもらうことを想定していません。学んだばかりの処理は、すぐに使いこなせないかもしれませんが、必要なものは使う頻度も多くなって、そのうち手が覚えて、自然に使えるようになります。実際に、現場で働いている多くのエンジニアは、わからないことがある場合は、ネットで探したり、掲示板で聞いたりして、仕事をしています。ですので、特に初学者の方は、この教材ではいろいろな方法があるというのをまず知って、必要な時に振り返って、使えればよいでしょう。"
   ]
  },
  {
   "cell_type": "markdown",
   "metadata": {},
   "source": [
    "色々と御託を並べてきましたが、自分で考えてコーディングしたものが動いて、結果が返ってくるというのはとても楽しいです。もちろん、単純作業もありますが、それを自動化したり、うまく処理できるスクリプトができた時も快感です。クリエティブな要素も多いです。ぜひその感触もここで掴んでください。"
   ]
  },
  {
   "cell_type": "markdown",
   "metadata": {},
   "source": [
    ">**[ポイント]**\n",
    "\n",
    ">実際にPythonのコードを書いて実行し、結果をみながら、試行錯誤しよう。そして、楽しんでプログラミングしよう。"
   ]
  },
  {
   "cell_type": "markdown",
   "metadata": {},
   "source": [
    "なお、Pythonを使った自動化については、以下のような本が出版されていますので、参考にしてください。URLは上記の英語版（原本）ですが、無料です。PDF版もあるようです。フリーの教材や講義は英語が多いので、ついでに英語の勉強もしましょう。"
   ]
  },
  {
   "cell_type": "markdown",
   "metadata": {},
   "source": [
    ">[参考文献]\n",
    "\n",
    ">『退屈なことはPythonにやらせよう ―ノンプログラマーにもできる自動化処理プログラミング』(Al Sweigart (著), 相川 愛三 (翻訳)、オライリージャパン)\n",
    "\n",
    ">[参照URL]\n",
    "\n",
    ">https://automatetheboringstuff.com"
   ]
  },
  {
   "cell_type": "markdown",
   "metadata": {
    "collapsed": true
   },
   "source": [
    "***"
   ]
  },
  {
   "cell_type": "markdown",
   "metadata": {
    "nbpresent": {
     "id": "b0fc1861-b979-45c5-abd0-3b05200de3b6"
    }
   },
   "source": [
    "## 1.2 Pythonの基礎\n",
    "ゴール：Jupyterを使ってPythonの基礎的な実装ができる"
   ]
  },
  {
   "cell_type": "markdown",
   "metadata": {},
   "source": [
    "### 1.2.1 Jupyterの使い方とPythonの基礎\n",
    "キーワード：演算、文字列、変数、リスト、内包表記、制御、関数、オブジェクト指向"
   ]
  },
  {
   "cell_type": "markdown",
   "metadata": {},
   "source": [
    "ここからいよいよ実装です。本講座ではPythonを使用します。そもそもなぜPythonを使うのでしょうか。それは、他のプログラミング言語と比べてコーディングがしやすく、色々なこと（データの加工、取得、モデリング等）が一貫して簡単にできるからです。また、データ解析や機械学習系のライブラリが揃っているため、多くのデータサイエンティストに利用されています。Python以外でプログラムをやってきた人はもちろん、プログラム経験がない人たちでもすぐに扱うことができます。なお、コードは基本的に上から順に実行してください。"
   ]
  },
  {
   "cell_type": "markdown",
   "metadata": {},
   "source": [
    "早速、Pythonのコードを見て、実行していきましょう。（なお、PythonやJupyter環境に慣れている人は、ここはスキップして、次のNumpy等に進んでください。）"
   ]
  },
  {
   "cell_type": "markdown",
   "metadata": {},
   "source": [
    "プログラミング言語入門でおなじみの「Hello, world!」の出力もこれだけのコードで足ります。"
   ]
  },
  {
   "cell_type": "code",
   "execution_count": 1,
   "metadata": {
    "collapsed": false
   },
   "outputs": [
    {
     "name": "stdout",
     "output_type": "stream",
     "text": [
      "Hello, world!\n"
     ]
    }
   ],
   "source": [
    "print(\"Hello, world!\")"
   ]
  },
  {
   "cell_type": "markdown",
   "metadata": {},
   "source": [
    "以下のセルは、いくつかの演算例です。上記もprintを使って出力していますが、printなしでも出力できて、電卓みたいに使えます。セルを選択し、Shift + return で実行すると、結果が表示され、次のセルに移動します。上の再生ボタンみたいなもの（▶︎|）を押しても、実行できます。なお、#はコメントアウトで、無視されます。後々のために、適宜、コメントを残すことも大事です。"
   ]
  },
  {
   "cell_type": "code",
   "execution_count": 2,
   "metadata": {
    "collapsed": false
   },
   "outputs": [
    {
     "name": "stdout",
     "output_type": "stream",
     "text": [
      "2\n",
      "10\n",
      "1000\n"
     ]
    }
   ],
   "source": [
    "# 演算とその出力例\n",
    "print(1 + 1)\n",
    "print(2 * 5)\n",
    "print(10 ** 3) # 10の3乗, 〜乗は**を使う"
   ]
  },
  {
   "cell_type": "markdown",
   "metadata": {},
   "source": [
    "**なお、以下は基本的なJupyterの使い方の解説です。（トップ画面のHelp -> Launch Classic Notebookで旧バージョンのNotebookで作業が可能です。）**\n",
    "\n",
    "画面の左上にある＋を押して、セルを追加し、数字を入力して、いくつか計算を実行してみましょう。また、セルを切り取りたい場合はハサミマークを、セルを上下に持って行きたい時は↑↓ボタンを押せばよいです。なお、コードを書く時はデフォルトで「Code」になっていますが、文章等を記述したい時は、「Markdown」を選択してください。メモを残したい場合などに便利です。さらに、色々なアウトプットが出せるので、もし詳しく知りたい方は以下の参照などを見ながら実行することをお勧めします。なお、下図はPython 2の表記になっていますが、現在のPythonの最新バージョンはPython 3となります。Python 2 と3ではコードの書き方が変わっており、本講座はPython 3に基づいています。Python 2のサポートは2020年までとなっているため、今後はPython 3を使用していくことをお勧めします。"
   ]
  },
  {
   "cell_type": "markdown",
   "metadata": {},
   "source": [
    "![dd](https://qiita-image-store.s3.amazonaws.com/0/67592/6634bd1a-4e49-7fcf-4a6f-700009ea0594.png)"
   ]
  },
  {
   "cell_type": "markdown",
   "metadata": {},
   "source": [
    ">[参考URL]\n",
    "\n",
    ">http://pythondatascience.plavox.info/pythonの開発環境/jupyter-notebookを使ってみよう/\n",
    "\n",
    ">http://jupyter-notebook.readthedocs.io/en/latest/examples/Notebook/Working%20With%20Markdown%20Cells.html"
   ]
  },
  {
   "cell_type": "markdown",
   "metadata": {},
   "source": [
    "もっと作業の効率を高めたい場合は、ショートカットキーを使いこなせるようになりましょう。編集モードでない状態（「esc」を押します。）で「h」を押すと以下のような画面が出てくるので、例えば、新しいセルを下に追加したい場合は、「b」を押します。他にも、コピー(「c」)、貼り付け(「v」)などもありますので、ぜひ使いこなしてください。ショートカットキーに慣れていない人は、はじめちょっと大変かもしれませんが、慣れると圧倒的に作業時間が短くなります。"
   ]
  },
  {
   "cell_type": "markdown",
   "metadata": {},
   "source": [
    "![comment](http://www.perfectlyrandom.org/assets/jupyter-keyboard-shortcuts.png)"
   ]
  },
  {
   "cell_type": "markdown",
   "metadata": {},
   "source": [
    ">**[ポイント]**\n",
    "\n",
    ">作業（コーディング）を効率よく進めるためには、ショートカットキーを使いなそう。"
   ]
  },
  {
   "cell_type": "markdown",
   "metadata": {},
   "source": [
    "なお、ショートカットキーを使う場面はJupyterだけではありません。ほとんどの方がWindowsかMacを使っていると思いますので、それぞれのショートカットキーも使えると作業効率が高まります（エクセルなどもそうです）。全く使っていなかった方は是非使えるようになりましょう。スポーツ（野球やバスケットなど）でいうところの基礎練習（素振り、ドリブルなど）だと思って、手を慣らしてください。"
   ]
  },
  {
   "cell_type": "markdown",
   "metadata": {},
   "source": [
    ">[参考URL]\n",
    "\n",
    ">https://ja.wikipedia.org/wiki/ショートカットキー一覧"
   ]
  },
  {
   "cell_type": "markdown",
   "metadata": {},
   "source": [
    "次の例は、変数に文字を割り当て、printでその変数に入っている値を表示させています。なお、普通のプログラミング言語（CやJavaなど）では、変数を扱うときに整数なのか文字なのか「型」を設定する必要があります（int x など）が、Pythonは変数の型を指定しなくてよいです。（これを静的型付け言語といいます。C言語などの言語は静的型付け言語といいます。）"
   ]
  },
  {
   "cell_type": "code",
   "execution_count": 3,
   "metadata": {
    "collapsed": false
   },
   "outputs": [
    {
     "name": "stdout",
     "output_type": "stream",
     "text": [
      "test\n"
     ]
    }
   ],
   "source": [
    "# 文字列\n",
    "sample_str = \"test\"\n",
    "print(sample_str)"
   ]
  },
  {
   "cell_type": "code",
   "execution_count": 4,
   "metadata": {
    "collapsed": false
   },
   "outputs": [
    {
     "data": {
      "text/plain": [
       "'t'"
      ]
     },
     "execution_count": 4,
     "metadata": {},
     "output_type": "execute_result"
    }
   ],
   "source": [
    "# 文字の抜き出しも可能。なお、0から始まる。\n",
    "sample_str[0]"
   ]
  },
  {
   "cell_type": "code",
   "execution_count": 5,
   "metadata": {
    "collapsed": false
   },
   "outputs": [
    {
     "data": {
      "text/plain": [
       "'e'"
      ]
     },
     "execution_count": 5,
     "metadata": {},
     "output_type": "execute_result"
    }
   ],
   "source": [
    "# 2番目の文字は1を指定\n",
    "sample_str[1]"
   ]
  },
  {
   "cell_type": "markdown",
   "metadata": {},
   "source": [
    "以下は、インデックス5の文字を指定していますが、最後はインデックス3のtであるため、6番目の文字は存在しないため、エラーが出ています。"
   ]
  },
  {
   "cell_type": "code",
   "execution_count": 6,
   "metadata": {
    "collapsed": false
   },
   "outputs": [
    {
     "ename": "IndexError",
     "evalue": "string index out of range",
     "output_type": "error",
     "traceback": [
      "\u001b[0;31m---------------------------------------------------------------------------\u001b[0m",
      "\u001b[0;31mIndexError\u001b[0m                                Traceback (most recent call last)",
      "\u001b[0;32m<ipython-input-6-a99414d7448b>\u001b[0m in \u001b[0;36m<module>\u001b[0;34m()\u001b[0m\n\u001b[1;32m      1\u001b[0m \u001b[1;31m# 実行してもエラーが出るので注意\u001b[0m\u001b[1;33m\u001b[0m\u001b[1;33m\u001b[0m\u001b[0m\n\u001b[0;32m----> 2\u001b[0;31m \u001b[0msample_str\u001b[0m\u001b[1;33m[\u001b[0m\u001b[1;36m5\u001b[0m\u001b[1;33m]\u001b[0m\u001b[1;33m\u001b[0m\u001b[0m\n\u001b[0m",
      "\u001b[0;31mIndexError\u001b[0m: string index out of range"
     ]
    }
   ],
   "source": [
    "# 実行してもエラーが出るので注意\n",
    "sample_str[5]"
   ]
  },
  {
   "cell_type": "markdown",
   "metadata": {},
   "source": [
    "今後、実装して計算を実行したあとにエラーに遭遇することは多々あります。そのときに、解決の手がかりとなるのがこの表示されるエラーメッセージです。上のエラーでは、最後に「IndexError: string index out of range」と記載されています。インデックスエラーと出ています。文字インデックスが範囲外だといっているので、5というのはおかしいなというのがわかります。\n",
    "\n",
    "当たり前のことですが、エラーが起きた場合は、まずはエラーメッセージを見ましょう。「----> 」がエラーが発生している場所を指しています。ただし、エラーメッセージがわからないこともあると思いますので、その時はそのままエラーメッセージをグーグルなどで検索してみましょう。他の人も同じようなエラーに遭遇している可能性は意外と高いので、早く解決策が見つかるかもしれません。"
   ]
  },
  {
   "cell_type": "markdown",
   "metadata": {},
   "source": [
    ">**[ポイント]**\n",
    "\n",
    ">エラーが出た時は、慌てずにエラーメッセージをしっかり確認しましょう。わからなければ、そのままエラーメッセージを検索エンジンで探しましょう。"
   ]
  },
  {
   "cell_type": "markdown",
   "metadata": {},
   "source": [
    "さて、先ほどは変数に文字を割り当てましたが、もちろん数字を割り当てることもでき、その変数を使って、演算も可能です。なお、=は等しいという意味ではなく、右の値を左の値に割り当てするという意味です。"
   ]
  },
  {
   "cell_type": "code",
   "execution_count": 7,
   "metadata": {
    "collapsed": false
   },
   "outputs": [
    {
     "name": "stdout",
     "output_type": "stream",
     "text": [
      "1\n",
      "11\n"
     ]
    }
   ],
   "source": [
    "#　変数にデータを割り当て\n",
    "sample_data_int = 1\n",
    "print(sample_data_int)\n",
    "\n",
    "# 上の数字に10を足す\n",
    "sample_data_int = sample_data_int + 10\n",
    "print(sample_data_int)"
   ]
  },
  {
   "cell_type": "markdown",
   "metadata": {
    "nbpresent": {
     "id": "6dccff7c-9bb1-447a-9692-656ca1687626"
    }
   },
   "source": [
    "何か変数を作成するときは、可能な限り変数名は考えて作成しましょう。ただ、単なる数字のチェック等をするのみであれば a = などでも良いですし、この講座でも一時的に使う変数などは特に凝った名前は付けていません。\n",
    "\n",
    "大規模な開発になってくるほど変数名は大事です。もちろん、第3者のためにという意味でメリットになりますが、将来の自分のためにもなります。変数を書いた直後はどんな変数を割り当てたのか覚えていますが、1週間、1ヶ月後その変数xを見たときに、どうでしょうか。何の変数だったのか忘れてしまうことは多々あります。さらにコードが長くなってくると、変数も増えてきて、わからなくなります。\n",
    "\n",
    "コーディングについては、絶対的なルールはないですが、ある程度は規定されているので、ぜひ以下のサイトなど見て参考にしてください。"
   ]
  },
  {
   "cell_type": "markdown",
   "metadata": {},
   "source": [
    ">[参考URL]\n",
    "\n",
    ">http://pep8-ja.readthedocs.io/ja/latest/"
   ]
  },
  {
   "cell_type": "markdown",
   "metadata": {},
   "source": [
    "他、変数に関する注意点として、プログラミング言語には、**予約語**といわれる、あらかじめ用意してある変数や組み込みオブジェクトなど(while, if, sumなど)がありますので、それらを変数名として使わないように注意しましょう。それをしてしまうと、後からその機能が使えなくなってしまいますので、以下の情報等も参考に、変数名の設定には注意してください。"
   ]
  },
  {
   "cell_type": "code",
   "execution_count": 8,
   "metadata": {
    "collapsed": false,
    "scrolled": true
   },
   "outputs": [
    {
     "data": {
      "text/plain": [
       "['False',\n",
       " 'None',\n",
       " 'True',\n",
       " 'and',\n",
       " 'as',\n",
       " 'assert',\n",
       " 'break',\n",
       " 'class',\n",
       " 'continue',\n",
       " 'def',\n",
       " 'del',\n",
       " 'elif',\n",
       " 'else',\n",
       " 'except',\n",
       " 'finally',\n",
       " 'for',\n",
       " 'from',\n",
       " 'global',\n",
       " 'if',\n",
       " 'import',\n",
       " 'in',\n",
       " 'is',\n",
       " 'lambda',\n",
       " 'nonlocal',\n",
       " 'not',\n",
       " 'or',\n",
       " 'pass',\n",
       " 'raise',\n",
       " 'return',\n",
       " 'try',\n",
       " 'while',\n",
       " 'with',\n",
       " 'yield']"
      ]
     },
     "execution_count": 8,
     "metadata": {},
     "output_type": "execute_result"
    }
   ],
   "source": [
    "# 予約語\n",
    "__import__('keyword').kwlist"
   ]
  },
  {
   "cell_type": "code",
   "execution_count": 9,
   "metadata": {
    "collapsed": false
   },
   "outputs": [
    {
     "data": {
      "text/plain": [
       "['ArithmeticError',\n",
       " 'AssertionError',\n",
       " 'AttributeError',\n",
       " 'BaseException',\n",
       " 'BlockingIOError',\n",
       " 'BrokenPipeError',\n",
       " 'BufferError',\n",
       " 'BytesWarning',\n",
       " 'ChildProcessError',\n",
       " 'ConnectionAbortedError',\n",
       " 'ConnectionError',\n",
       " 'ConnectionRefusedError',\n",
       " 'ConnectionResetError',\n",
       " 'DeprecationWarning',\n",
       " 'EOFError',\n",
       " 'Ellipsis',\n",
       " 'EnvironmentError',\n",
       " 'Exception',\n",
       " 'False',\n",
       " 'FileExistsError',\n",
       " 'FileNotFoundError',\n",
       " 'FloatingPointError',\n",
       " 'FutureWarning',\n",
       " 'GeneratorExit',\n",
       " 'IOError',\n",
       " 'ImportError',\n",
       " 'ImportWarning',\n",
       " 'IndentationError',\n",
       " 'IndexError',\n",
       " 'InterruptedError',\n",
       " 'IsADirectoryError',\n",
       " 'KeyError',\n",
       " 'KeyboardInterrupt',\n",
       " 'LookupError',\n",
       " 'MemoryError',\n",
       " 'NameError',\n",
       " 'None',\n",
       " 'NotADirectoryError',\n",
       " 'NotImplemented',\n",
       " 'NotImplementedError',\n",
       " 'OSError',\n",
       " 'OverflowError',\n",
       " 'PendingDeprecationWarning',\n",
       " 'PermissionError',\n",
       " 'ProcessLookupError',\n",
       " 'RecursionError',\n",
       " 'ReferenceError',\n",
       " 'ResourceWarning',\n",
       " 'RuntimeError',\n",
       " 'RuntimeWarning',\n",
       " 'StopAsyncIteration',\n",
       " 'StopIteration',\n",
       " 'SyntaxError',\n",
       " 'SyntaxWarning',\n",
       " 'SystemError',\n",
       " 'SystemExit',\n",
       " 'TabError',\n",
       " 'TimeoutError',\n",
       " 'True',\n",
       " 'TypeError',\n",
       " 'UnboundLocalError',\n",
       " 'UnicodeDecodeError',\n",
       " 'UnicodeEncodeError',\n",
       " 'UnicodeError',\n",
       " 'UnicodeTranslateError',\n",
       " 'UnicodeWarning',\n",
       " 'UserWarning',\n",
       " 'ValueError',\n",
       " 'Warning',\n",
       " 'WindowsError',\n",
       " 'ZeroDivisionError',\n",
       " '__IPYTHON__',\n",
       " '__build_class__',\n",
       " '__debug__',\n",
       " '__doc__',\n",
       " '__import__',\n",
       " '__loader__',\n",
       " '__name__',\n",
       " '__package__',\n",
       " '__spec__',\n",
       " 'abs',\n",
       " 'all',\n",
       " 'any',\n",
       " 'ascii',\n",
       " 'bin',\n",
       " 'bool',\n",
       " 'bytearray',\n",
       " 'bytes',\n",
       " 'callable',\n",
       " 'chr',\n",
       " 'classmethod',\n",
       " 'compile',\n",
       " 'complex',\n",
       " 'copyright',\n",
       " 'credits',\n",
       " 'delattr',\n",
       " 'dict',\n",
       " 'dir',\n",
       " 'divmod',\n",
       " 'dreload',\n",
       " 'enumerate',\n",
       " 'eval',\n",
       " 'exec',\n",
       " 'filter',\n",
       " 'float',\n",
       " 'format',\n",
       " 'frozenset',\n",
       " 'get_ipython',\n",
       " 'getattr',\n",
       " 'globals',\n",
       " 'hasattr',\n",
       " 'hash',\n",
       " 'help',\n",
       " 'hex',\n",
       " 'id',\n",
       " 'input',\n",
       " 'int',\n",
       " 'isinstance',\n",
       " 'issubclass',\n",
       " 'iter',\n",
       " 'len',\n",
       " 'license',\n",
       " 'list',\n",
       " 'locals',\n",
       " 'map',\n",
       " 'max',\n",
       " 'memoryview',\n",
       " 'min',\n",
       " 'next',\n",
       " 'object',\n",
       " 'oct',\n",
       " 'open',\n",
       " 'ord',\n",
       " 'pow',\n",
       " 'print',\n",
       " 'property',\n",
       " 'range',\n",
       " 'repr',\n",
       " 'reversed',\n",
       " 'round',\n",
       " 'set',\n",
       " 'setattr',\n",
       " 'slice',\n",
       " 'sorted',\n",
       " 'staticmethod',\n",
       " 'str',\n",
       " 'sum',\n",
       " 'super',\n",
       " 'tuple',\n",
       " 'type',\n",
       " 'vars',\n",
       " 'zip']"
      ]
     },
     "execution_count": 9,
     "metadata": {},
     "output_type": "execute_result"
    }
   ],
   "source": [
    "# 組み込みオブジェクト\n",
    "dir(__builtins__)"
   ]
  },
  {
   "cell_type": "markdown",
   "metadata": {},
   "source": [
    ">**[ポイント]**\n",
    "\n",
    ">予約語や組み込みオブジェクトなどに注意して変数名を設定しよう。"
   ]
  },
  {
   "cell_type": "markdown",
   "metadata": {},
   "source": [
    "次は、リストについてです。リストとは、他の言語で言うところの配列みたいなものです。以下は、1から10まで数字が並んでいるデータを作っています。"
   ]
  },
  {
   "cell_type": "code",
   "execution_count": 10,
   "metadata": {
    "collapsed": false
   },
   "outputs": [
    {
     "name": "stdout",
     "output_type": "stream",
     "text": [
      "[1, 2, 3, 4, 5, 6, 7, 8, 9, 10]\n",
      "変数のタイプ: <class 'list'>\n",
      "2番目の数： 2\n",
      "要素数： 10\n"
     ]
    }
   ],
   "source": [
    "# list\n",
    "sample_data_list = [1, 2, 3, 4, 5, 6, 7, 8, 9, 10]\n",
    "print(sample_data_list)\n",
    "\n",
    "# typeで変数のタイプがわかる\n",
    "print(\"変数のタイプ:\", type(sample_data_list))\n",
    "\n",
    "# 1つの要素を指定。0から始まり、[1]は2番目になるので注意。\n",
    "print(\"2番目の数：\", sample_data_list[1])\n",
    "\n",
    "# lenで要素の数を出力。ここでは1から10までの10個なので、結果は10。\n",
    "print(\"要素数：\", len(sample_data_list))"
   ]
  },
  {
   "cell_type": "markdown",
   "metadata": {},
   "source": [
    ">**[やってみよう]**\n",
    "\n",
    ">上の＋を押して（もしくは非編集状態で、「b」を押して）セルを追加し、何かのリストを作成して、要素数を出力してみましょう。"
   ]
  },
  {
   "cell_type": "markdown",
   "metadata": {},
   "source": [
    "なお、リストにあるそれぞれの要素を2倍したい場合、2をかけても、リスト自体が2倍になるだけです。それぞれの要素を2倍したければ、for文を書くか、次で説明するNumpyを使うと良いです。"
   ]
  },
  {
   "cell_type": "code",
   "execution_count": 11,
   "metadata": {
    "collapsed": false,
    "scrolled": true
   },
   "outputs": [
    {
     "data": {
      "text/plain": [
       "[1, 2, 3, 4, 5, 6, 7, 8, 9, 10, 1, 2, 3, 4, 5, 6, 7, 8, 9, 10]"
      ]
     },
     "execution_count": 11,
     "metadata": {},
     "output_type": "execute_result"
    }
   ],
   "source": [
    "# リスト自体が2倍になる\n",
    "sample_data_list * 2 "
   ]
  },
  {
   "cell_type": "markdown",
   "metadata": {},
   "source": [
    "次は、辞書型です。これを使うと、キーと値をペアにして複数の要素を管理することができます。キーは整数だけではなく、文字で設定可能です。また、リストとは違って、順番は特に関係ありません。"
   ]
  },
  {
   "cell_type": "code",
   "execution_count": 12,
   "metadata": {
    "collapsed": false
   },
   "outputs": [
    {
     "name": "stdout",
     "output_type": "stream",
     "text": [
      "500\n"
     ]
    }
   ],
   "source": [
    "# dictionary\n",
    "sample_dic_data = {'apple': 100, 'banana': 100, 'orange': 300, 'mango': 400, 'melon': 500}\n",
    "print(sample_dic_data['melon'])"
   ]
  },
  {
   "cell_type": "markdown",
   "metadata": {},
   "source": [
    ">**[やってみよう]**\n",
    "\n",
    ">上では、melonを表示させましたが、orangeの値を表示させてみましょう。また、キーがappleとorangeの値を足してみましょう。"
   ]
  },
  {
   "cell_type": "markdown",
   "metadata": {},
   "source": [
    "次は、条件分岐です。ifの横にある条件式を満たしている場合(True)に、該当の文(はじめにある:からelse:の手前まで)を実行し、そうでない場合はelse:以下を実行します。以下の処理は、数字の5がリストの中に入っているかどうかを判定しています。入ってなければ、elseに飛びます。また、Pythonのコーディングにおける注意点ですが、if文などを使うとき、次の行はインデント(字下げ)します。通常は半角スペース4つ分をおきます。このJupyter上では、改行をしたときに自動で空白ができますが、開発環境によっては注意しましょう。"
   ]
  },
  {
   "cell_type": "code",
   "execution_count": 13,
   "metadata": {
    "collapsed": false
   },
   "outputs": [
    {
     "name": "stdout",
     "output_type": "stream",
     "text": [
      "5 は入っています。\n"
     ]
    }
   ],
   "source": [
    "# 数字の設定\n",
    "sample_int = 5\n",
    "\n",
    "if sample_int in sample_data_list:\n",
    "    #　\" \" の中に、扱っている変数を表示させたい場合は、以下のように %dと%を組み合わせる\n",
    "    print(\"%d は入っています。\" % (sample_int))\n",
    "else:\n",
    "    print(\"%d は入っていません。\" % (sample_int))"
   ]
  },
  {
   "cell_type": "markdown",
   "metadata": {},
   "source": [
    ">**[やってみよう]**\n",
    "\n",
    ">出力が変わるように、数字の設定（ここでは、sample_int）を変更して、実行してみましょう。また、条件文や、出力結果等を変えてみたりしてください。"
   ]
  },
  {
   "cell_type": "markdown",
   "metadata": {},
   "source": [
    "補足説明として、「print(\" %d は入っています。\" %(sample_int))」では、変数（sample_int）を文字列の中（\"は入っています。\"）に表示させるために、%dと%(sample_int)を使っています。%d は整数、%s は文字列、%f は浮動小数点数の場合に設定します。文字列フォーマットといいます。他、「print(\"{0} は入っていません。\".format(sample_int))」のようにして表示することも可能です（変数を複数設定することもできます）。このformat記法はPython2.6から登場した方法で、%記法を拡張したものとなります。%記法は今後廃止される可能性があるため注意が必要です。"
   ]
  },
  {
   "cell_type": "markdown",
   "metadata": {},
   "source": [
    "次は、繰り返し処理のfor文です。以下は、[1, 2, 3]のリストデータに対して、初めから順番に（1から）データを取り出し、データがなくなる（3まで）まで繰り返し処理（取り出した数字の表示と足し算）を実行しています。初めは0+1=1、次に1+2=3、最後に3+3=6となり、最終的な合計値を表示しています。"
   ]
  },
  {
   "cell_type": "code",
   "execution_count": 14,
   "metadata": {
    "collapsed": false
   },
   "outputs": [
    {
     "name": "stdout",
     "output_type": "stream",
     "text": [
      "num: 1\n",
      "num: 2\n",
      "num: 3\n",
      "total_num: 6\n"
     ]
    }
   ],
   "source": [
    "# 初期値の設定\n",
    "total_num = 0\n",
    "\n",
    "# for 文\n",
    "for num in [1, 2, 3]:\n",
    "    # 取り出した数の表示\n",
    "    print(\"num:\", num)\n",
    "    # 今まで取り出した数の合計\n",
    "    total_num = total_num + num\n",
    "\n",
    "# 最後に合計を表示\n",
    "print(\"total_num:\", total_num)"
   ]
  },
  {
   "cell_type": "markdown",
   "metadata": {},
   "source": [
    "for文を使って、先ほど作成した辞書型のデータを1つ1つ取り出して、それぞれのキーと値を出力しています。これもなくなるまで繰り返します。"
   ]
  },
  {
   "cell_type": "code",
   "execution_count": 15,
   "metadata": {
    "collapsed": false
   },
   "outputs": [
    {
     "name": "stdout",
     "output_type": "stream",
     "text": [
      "mango 400\n",
      "banana 100\n",
      "orange 300\n",
      "apple 100\n",
      "melon 500\n"
     ]
    }
   ],
   "source": [
    "# for 文\n",
    "for dic_key in sample_dic_data:\n",
    "    print(dic_key, sample_dic_data[dic_key])"
   ]
  },
  {
   "cell_type": "markdown",
   "metadata": {},
   "source": [
    "なお、以下のような方法でキーと値を取り出すこともできます。これは、あとで説明する**オブジェクト指向型プログラミング**の特徴で、データ（ここではsample_dic_data）とそれを処理するための**メソッド**（以下のitems()）がセットになっており、それを活用しています。メソッドとはあとで説明する**関数**みたいなもので、それを使って処理（ここでは、キーと値を返す）をします。"
   ]
  },
  {
   "cell_type": "code",
   "execution_count": 16,
   "metadata": {
    "collapsed": false
   },
   "outputs": [
    {
     "name": "stdout",
     "output_type": "stream",
     "text": [
      "mango 400\n",
      "banana 100\n",
      "orange 300\n",
      "apple 100\n",
      "melon 500\n"
     ]
    }
   ],
   "source": [
    "# key, value\n",
    "for key, value in sample_dic_data.items():\n",
    "    print(key, value)"
   ]
  },
  {
   "cell_type": "markdown",
   "metadata": {},
   "source": [
    "次もfor文を使っています。先ほどやろうとしていたリストの要素をそれぞれ2倍する処理です。**内包表記**といいます。"
   ]
  },
  {
   "cell_type": "code",
   "execution_count": 17,
   "metadata": {
    "collapsed": false
   },
   "outputs": [
    {
     "name": "stdout",
     "output_type": "stream",
     "text": [
      "[2, 4, 6, 8, 10, 12, 14, 16, 18, 20]\n"
     ]
    }
   ],
   "source": [
    "# 空のリストを作成\n",
    "sample_data_list1 = []\n",
    "\n",
    "# 内包表記、sample_data_listから1つ1つ要素を取り出し、2倍した数字を新たな要素とするリストを作成\n",
    "sample_data_list1 = [i * 2 for i in sample_data_list]\n",
    "print(sample_data_list1)"
   ]
  },
  {
   "cell_type": "markdown",
   "metadata": {},
   "source": [
    "さらにこれに条件を設定して作成することもできます。例えば偶数の数だけsample_data_listから取り出したい場合は、以下のようにします。「if i %2 ==0」を後につけており、i%2は、iを2で割った余りを意味しています。"
   ]
  },
  {
   "cell_type": "code",
   "execution_count": 18,
   "metadata": {
    "collapsed": false
   },
   "outputs": [
    {
     "data": {
      "text/plain": [
       "[4, 8, 12, 16, 20]"
      ]
     },
     "execution_count": 18,
     "metadata": {},
     "output_type": "execute_result"
    }
   ],
   "source": [
    "[i * 2 for i in sample_data_list if i %2 ==0]"
   ]
  },
  {
   "cell_type": "markdown",
   "metadata": {},
   "source": [
    "なお、連続した整数を作りたいときは、以下のrangeを使うと便利です。数字としては、Nを設定しますが、0からN-1が取り出される点に注意しましょう。"
   ]
  },
  {
   "cell_type": "code",
   "execution_count": 19,
   "metadata": {
    "collapsed": false
   },
   "outputs": [
    {
     "name": "stdout",
     "output_type": "stream",
     "text": [
      "0\n",
      "1\n",
      "2\n",
      "3\n",
      "4\n",
      "5\n",
      "6\n",
      "7\n",
      "8\n",
      "9\n",
      "10\n"
     ]
    }
   ],
   "source": [
    "# range(N)とすると0からN-1までの整数\n",
    "for i in range(11):\n",
    "    print(i)"
   ]
  },
  {
   "cell_type": "markdown",
   "metadata": {},
   "source": [
    "他にも、1から始めたい場合や2つ飛ばしで表示させたい場合は、以下のように引数を変えて実行します。"
   ]
  },
  {
   "cell_type": "code",
   "execution_count": 20,
   "metadata": {
    "collapsed": false
   },
   "outputs": [
    {
     "name": "stdout",
     "output_type": "stream",
     "text": [
      "1\n",
      "3\n",
      "5\n",
      "7\n",
      "9\n"
     ]
    }
   ],
   "source": [
    "# range(1, 11, 2)は1から開始して2つ飛ばしで、11の手前まで取り出す\n",
    "for i in range(1, 11, 2):\n",
    "    print(i)"
   ]
  },
  {
   "cell_type": "markdown",
   "metadata": {},
   "source": [
    "また、for文に関連して、**zip関数**もよく使われるので、紹介します。これは、それぞれ異なるリストを同時に取り出していく処理を実行します。例えば、[1,2,3]というリストと、[11,12,13]という2つのリストがあった場合に、それぞれ同じインデックスで値を取って、表示したい場合は以下のようにします。"
   ]
  },
  {
   "cell_type": "code",
   "execution_count": 21,
   "metadata": {
    "collapsed": false
   },
   "outputs": [
    {
     "name": "stdout",
     "output_type": "stream",
     "text": [
      " 1 & 11\n",
      " 2 & 12\n",
      " 3 & 13\n"
     ]
    }
   ],
   "source": [
    "for one, two in zip([1, 2, 3], [11, 12, 13]):\n",
    "    print(\"\", one, \"&\", two)"
   ]
  },
  {
   "cell_type": "markdown",
   "metadata": {},
   "source": [
    "1と11がはじめに取り出されて、次は2と12、最後は3と13が同時に取り出されます。"
   ]
  },
  {
   "cell_type": "markdown",
   "metadata": {},
   "source": [
    "次の処理は、条件を満たしている限り、計算を続けるwhile文です。数字が10より大きくなった時点で、処理は終わります。"
   ]
  },
  {
   "cell_type": "code",
   "execution_count": 22,
   "metadata": {
    "collapsed": false
   },
   "outputs": [
    {
     "name": "stdout",
     "output_type": "stream",
     "text": [
      "11\n"
     ]
    }
   ],
   "source": [
    "# while 文\n",
    "sample_int =1 \n",
    "while sample_int <= 10:\n",
    "    sample_int = sample_int + 1\n",
    "\n",
    "print(sample_int)"
   ]
  },
  {
   "cell_type": "markdown",
   "metadata": {},
   "source": [
    "以下はdefを使って、関数を作成しています。関数を作成すると、同じような処理を実行したいときに、便利です。また、処理をまとめておくと、後でコードを修正するときも便利です。1つ目のcalc_multi関数は、2つの数字（aとb）を**引数**として、その掛け算を返しています。この引数がインプットとなって、returnで結果を返し（**返り値**といいます）、これがアウトプットになります。その次の関数calc_fibは、再帰と言って、自分の関数を中で呼び出しており、フィボナッチ数（1, 1, 2, 3, 5...と前と前々の数字を足して、その数を並べたもの）を作成しています。\n",
    "\n",
    "なお、コードが長くなって行数をつけたい場合には、該当をセルを選択し、escキーを押した後に「l（エル）」キーを押すと、行数が表示されます。"
   ]
  },
  {
   "cell_type": "code",
   "execution_count": 23,
   "metadata": {
    "collapsed": false
   },
   "outputs": [
    {
     "name": "stdout",
     "output_type": "stream",
     "text": [
      "掛け算: 30\n",
      "フィボナッチ数: 55\n"
     ]
    }
   ],
   "source": [
    "# function multi\n",
    "def calc_multi(a, b):\n",
    "        return a * b\n",
    "\n",
    "# function (再帰)\n",
    "def calc_fib(n):\n",
    "    if n == 1 or n == 2:\n",
    "        return 1\n",
    "    else:\n",
    "        return calc_fib(n-1) + calc_fib(n-2)\n",
    "    \n",
    "# calc\n",
    "print(\"掛け算:\", calc_multi(3, 10))\n",
    "print(\"フィボナッチ数:\", calc_fib(10))"
   ]
  },
  {
   "cell_type": "markdown",
   "metadata": {},
   "source": [
    "次は無名関数といい、コードを簡素化できます。lambdaを使います。普通の関数を作成するときと同じで、lambdaを記述して引数を設定した後、その処理を記述します。後で出てくるmap関数などどよく組み合わせて使うことが多く、pandas機能と一緒に使って、データの加工処理をします。今はあまりメリットを感じられませんが、後で使うので念頭に置いておいてください。"
   ]
  },
  {
   "cell_type": "code",
   "execution_count": 24,
   "metadata": {
    "collapsed": false
   },
   "outputs": [
    {
     "data": {
      "text/plain": [
       "30"
      ]
     },
     "execution_count": 24,
     "metadata": {},
     "output_type": "execute_result"
    }
   ],
   "source": [
    "#　無名関数、aとbを引数として、a * bを返り値とする\n",
    "(lambda a, b: a * b)(3,10)"
   ]
  },
  {
   "cell_type": "markdown",
   "metadata": {},
   "source": [
    "#### <練習問題 1>\n",
    "\n",
    "ある文字列(Data Scienceなど)を変数として、それを1文字ずつ表示させるプログラムを書いてください。"
   ]
  },
  {
   "cell_type": "markdown",
   "metadata": {},
   "source": [
    "#### <練習問題 2>\n",
    "\n",
    "1から50までの自然数の和を計算するプログラムを書いて、最後の計算結果を表示させるプログラムを書いてください。"
   ]
  },
  {
   "cell_type": "markdown",
   "metadata": {},
   "source": [
    "### 1.2.2 クラスとインスタンス\n",
    "キーワード：オブジェクト、クラス、インスタンス"
   ]
  },
  {
   "cell_type": "markdown",
   "metadata": {},
   "source": [
    "最後にクラスとインスタンスです。初めてこれらを聞いた方は、すぐに理解するのは難しいと思いますので、実際に以下の実装例を見て、雰囲気だけつかんでください。プログラミング初学者の方は、ここは飛ばしても大丈夫です。すぐには必要ありませんが、今後、機械学習のライブラリーsklearnなどを使う時に必要な概念（インスタンスなど）です。\n",
    "\n",
    "先ほど少し出てきましたが、Pythonはオブジェクト指向型のプログラミング言語で、クラスは「オブジェクトのひな型」みたいなものです。よく例えられる例が「たい焼き」で、以下のclassのPrintClassはたい焼き機の型を作っています。次に、実際のたい焼きが出来上がったのがインスタンスp1というイメージです。インスタンスとは、クラスからできあがる実体です。インスタンスには属性を追加することができ、以下ではp1.xに10、p1.yに100、p1.zに1000を追加しています。参考ですが、以下はクラスとインスタンスのイメージです。"
   ]
  },
  {
   "cell_type": "markdown",
   "metadata": {},
   "source": [
    "![comment](http://image.itmedia.co.jp/ait/articles/0803/12/r801.gif)"
   ]
  },
  {
   "cell_type": "markdown",
   "metadata": {},
   "source": [
    "参照URL：http://image.itmedia.co.jp/ait/articles/0803/12/r801.gif"
   ]
  },
  {
   "cell_type": "code",
   "execution_count": 25,
   "metadata": {
    "collapsed": true
   },
   "outputs": [],
   "source": [
    "# PrintClassクラスの作成とprint_meメソッド（関数）の作成\n",
    "class PrintClass:\n",
    "    def print_me(self):\n",
    "        print(self.x, self.y)"
   ]
  },
  {
   "cell_type": "code",
   "execution_count": 26,
   "metadata": {
    "collapsed": false
   },
   "outputs": [
    {
     "name": "stdout",
     "output_type": "stream",
     "text": [
      "10 100\n"
     ]
    }
   ],
   "source": [
    "# インスタンスの作成、生成\n",
    "p1 = PrintClass()\n",
    "\n",
    "# 属性の値を割り当て\n",
    "p1.x = 10\n",
    "p1.y = 100\n",
    "p1.z = 1000\n",
    "\n",
    "# メソッドの呼び出し\n",
    "p1.print_me()"
   ]
  },
  {
   "cell_type": "markdown",
   "metadata": {},
   "source": [
    "p1というインスタンスに、print_me()という関数（メソッド）がついていて、それを呼び出して実行しています。新しく追加した属性の値zは以下のように確認できます。"
   ]
  },
  {
   "cell_type": "code",
   "execution_count": 27,
   "metadata": {
    "collapsed": false
   },
   "outputs": [
    {
     "data": {
      "text/plain": [
       "1000"
      ]
     },
     "execution_count": 27,
     "metadata": {},
     "output_type": "execute_result"
    }
   ],
   "source": [
    "# 先ほど追加した属性を表示\n",
    "p1.z"
   ]
  },
  {
   "cell_type": "markdown",
   "metadata": {},
   "source": [
    "このオブジェクト指向とクラスの概念は少し難しいので、もう少し具体的な例を見てみましょう。\n",
    "\n",
    "以下はクラスとしてMyCalcClassを作成しており、いくつかのメソッドを作っています。"
   ]
  },
  {
   "cell_type": "code",
   "execution_count": 28,
   "metadata": {
    "collapsed": true
   },
   "outputs": [],
   "source": [
    "class MyCalcClass:\n",
    "    \n",
    "    #初期化\n",
    "    def __init__(self, x, y):\n",
    "        self.x = x\n",
    "        self.y = y\n",
    "        \n",
    "    def calc_add1(self, a, b):\n",
    "        return a + b\n",
    "    \n",
    "    def calc_add2(self):\n",
    "        return self.x + self.y\n",
    "\n",
    "    def calc_mutli(self, a, b):\n",
    "        return a * b\n",
    "\n",
    "    def calc_print(self, a):\n",
    "        print(\"data:\", a, \"&\", self.y)"
   ]
  },
  {
   "cell_type": "markdown",
   "metadata": {},
   "source": [
    "次に、このクラス（MyCalcClass）からインスタンスを生成します。なお、instance_1とinstance_2は別物として扱われます。上記のたい焼きで例えると、チーズたい焼きとクリームたい焼きは別物ですよね。"
   ]
  },
  {
   "cell_type": "code",
   "execution_count": 29,
   "metadata": {
    "collapsed": false
   },
   "outputs": [],
   "source": [
    "instance_1 = MyCalcClass(1, 2)\n",
    "instance_2 = MyCalcClass(5, 10)"
   ]
  },
  {
   "cell_type": "markdown",
   "metadata": {},
   "source": [
    "これを使って、このインスタンスが持っているメソッドを呼び出します。まずは、instance_1からです。"
   ]
  },
  {
   "cell_type": "code",
   "execution_count": 30,
   "metadata": {
    "collapsed": false
   },
   "outputs": [
    {
     "name": "stdout",
     "output_type": "stream",
     "text": [
      "2つの数の足し算(新たに数字を引数としてセット): 8\n",
      "2つの数の足し算(インスタンス化の時の値): 3\n",
      "2つの数のかけ算: 15\n",
      "data: 5 & 2\n"
     ]
    }
   ],
   "source": [
    "print(\"2つの数の足し算(新たに数字を引数としてセット):\", instance_1.calc_add1(5, 3))\n",
    "print(\"2つの数の足し算(インスタンス化の時の値):\", instance_1.calc_add2())\n",
    "print(\"2つの数のかけ算:\", instance_1.calc_mutli(5, 3))\n",
    "instance_1.calc_print(5)"
   ]
  },
  {
   "cell_type": "markdown",
   "metadata": {},
   "source": [
    "calc_add1は引数5と3を設定しその和を返り値として算出しています。calc_add2は何も引数としてセットされていませんが、selfが初期化の時に設定されており、instance_1 = MyCalcClass(1, 2)で、その値は1と2で初期値が設定されていたため、これらを足した3が表示されます。calc_mutliは引数の掛け算の結果、instance_1.calc_print(5)は、引数5と初期値として設定したself.yの方（2）を表示しています。"
   ]
  },
  {
   "cell_type": "markdown",
   "metadata": {},
   "source": [
    "次は、instance_2を使いましょう。上の結果と数字が変わっているので、なぜ変わっているのか、しっかりと追っていきましょう。"
   ]
  },
  {
   "cell_type": "code",
   "execution_count": 31,
   "metadata": {
    "collapsed": false
   },
   "outputs": [
    {
     "name": "stdout",
     "output_type": "stream",
     "text": [
      "2つの数の足し算(新たに数字を引数としてセット): 13\n",
      "2つの数の足し算(インスタンス化の時の値): 15\n",
      "2つの数のかけ算: 12\n",
      "data: 20 & 10\n"
     ]
    }
   ],
   "source": [
    "print(\"2つの数の足し算(新たに数字を引数としてセット):\", instance_2.calc_add1(10, 3))\n",
    "print(\"2つの数の足し算(インスタンス化の時の値):\", instance_2.calc_add2())\n",
    "print(\"2つの数のかけ算:\", instance_2.calc_mutli(4, 3))\n",
    "instance_2.calc_print(20)"
   ]
  },
  {
   "cell_type": "markdown",
   "metadata": {},
   "source": [
    ">**[やってみよう]**\n",
    "\n",
    ">上のクラス（MyCalcClass）を使って、新しくインスタンスを生成させて(instance_3など）、何か出力等してみましょう。さらにできれば、異なるメソッド（2つの引数の差分など）をこのクラスに追加して、呼び出して使ってみましょう。"
   ]
  },
  {
   "cell_type": "markdown",
   "metadata": {},
   "source": [
    "これは見ているだけではわからないと思うので、実際にサンプルなどを作成して実行しましょう。このクラス設計やその実装ができるようになると、大規模な開発をする場合に色々と役に立ちます。\n",
    "\n",
    "これで、クラスとオブジェクトの説明は終わりますが、以下のURLや参考文献等を見て、初学者の方はまずはイメージだけつかめるようになりましょう。"
   ]
  },
  {
   "cell_type": "markdown",
   "metadata": {},
   "source": [
    ">[参照URL]\n",
    "\n",
    ">http://news.mynavi.jp/series/python/019/"
   ]
  },
  {
   "cell_type": "markdown",
   "metadata": {},
   "source": [
    "以上で、Pythonの基礎的なコードの説明は終わりです。もちろん、これだけでPythonの基礎を抑えるのは不十分なので、もし基礎に不安があれば、以下のサイトや、参考文献を見て復習等してください。『はじめてのPython』はとても分厚い本ですが、とても丁寧に説明されており、クラスやオブジェクト指向についてもしっかりと解説されていますので、ぜひ読んでみてください。"
   ]
  },
  {
   "cell_type": "markdown",
   "metadata": {},
   "source": [
    ">[参照URL]\n",
    "\n",
    ">https://www.python.org\n",
    "\n",
    ">http://www.sejuku.net/blog/3413\n",
    "\n",
    ">[参考文献]\n",
    "\n",
    ">『はじめてのPython』(Mark Lutz, オライリー・ジャパン)\n",
    "\n",
    ">『入門 Python3』(Bill Lubanovic, オライリー・ジャパン)"
   ]
  },
  {
   "cell_type": "markdown",
   "metadata": {},
   "source": [
    "## 1.3 総合問題"
   ]
  },
  {
   "cell_type": "markdown",
   "metadata": {},
   "source": [
    "### 1.3.1 素数判定\n",
    "\n",
    "（１）10までの素数を表示させるプログラムを書いてください。なお、素数とは、1とそれ自身の数以外は約数をもたない正の整数のことをいいます。\n",
    "\n",
    "（２）上記をさらに一般化して、Nを自然数として、Nまでの素数を表示する関数を書いてください。"
   ]
  }
 ],
 "metadata": {
  "anaconda-cloud": {},
  "kernelspec": {
   "display_name": "Python [default]",
   "language": "python",
   "name": "python3"
  },
  "language_info": {
   "codemirror_mode": {
    "name": "ipython",
    "version": 3
   },
   "file_extension": ".py",
   "mimetype": "text/x-python",
   "name": "python",
   "nbconvert_exporter": "python",
   "pygments_lexer": "ipython3",
   "version": "3.5.2"
  },
  "nbpresent": {
   "slides": {
    "008a788b-b456-4a0c-8288-6f60967c483e": {
     "id": "008a788b-b456-4a0c-8288-6f60967c483e",
     "prev": "17036b1e-8781-4a7e-a909-a179f499bbc9",
     "regions": {
      "072dbee3-3b47-4389-a934-e0168ebd835e": {
       "attrs": {
        "height": 0.8,
        "width": 0.8,
        "x": 0.1,
        "y": 0.1
       },
       "content": {
        "cell": "378cb846-5485-41d5-9983-fec98a22072a",
        "part": "whole"
       },
       "id": "072dbee3-3b47-4389-a934-e0168ebd835e"
      }
     }
    },
    "01ab9067-898c-46a1-91d9-18ca4fe5a937": {
     "id": "01ab9067-898c-46a1-91d9-18ca4fe5a937",
     "prev": "008a788b-b456-4a0c-8288-6f60967c483e",
     "regions": {
      "42da7aa5-8de9-4631-8abe-4ab35c510140": {
       "attrs": {
        "height": 0.8,
        "width": 0.8,
        "x": 0.1,
        "y": 0.1
       },
       "content": {
        "cell": "7f0f7ef4-e90b-41de-8f73-6165e1b3c1cb",
        "part": "whole"
       },
       "id": "42da7aa5-8de9-4631-8abe-4ab35c510140"
      }
     }
    },
    "02225e5f-f35d-40ef-8f23-5431b19121ab": {
     "id": "02225e5f-f35d-40ef-8f23-5431b19121ab",
     "prev": "430a8f03-8947-469c-a376-2f271448284d",
     "regions": {
      "5bf42e3a-831e-4238-ae19-d2212b26edc0": {
       "attrs": {
        "height": 0.8,
        "width": 0.8,
        "x": 0.1,
        "y": 0.1
       },
       "content": {
        "cell": "c68c4e4e-072e-4620-a325-3ebb19ebe1ce",
        "part": "whole"
       },
       "id": "5bf42e3a-831e-4238-ae19-d2212b26edc0"
      }
     }
    },
    "094d2d0d-c7e5-40bc-bed7-bd80198e8e18": {
     "id": "094d2d0d-c7e5-40bc-bed7-bd80198e8e18",
     "prev": "de950ae7-a7c1-424c-afe2-42f481db181e",
     "regions": {
      "95429590-c6e8-4e00-a061-62d2a454c52f": {
       "attrs": {
        "height": 0.8,
        "width": 0.8,
        "x": 0.1,
        "y": 0.1
       },
       "content": {
        "cell": "aa08360f-e7dd-4647-bbfb-cadd5f19af31",
        "part": "whole"
       },
       "id": "95429590-c6e8-4e00-a061-62d2a454c52f"
      }
     }
    },
    "0aa8229e-9b5c-4f49-bd1e-34de4cd2e82f": {
     "id": "0aa8229e-9b5c-4f49-bd1e-34de4cd2e82f",
     "prev": "11f1d1c4-4848-4b7d-a62d-5427e055bbe3",
     "regions": {
      "9504ff07-d651-4294-ba2e-a89ec52ca708": {
       "attrs": {
        "height": 0.8,
        "width": 0.8,
        "x": 0.1,
        "y": 0.1
       },
       "content": {
        "cell": "e73995f2-c960-4881-b3d3-82c24b06c64c",
        "part": "whole"
       },
       "id": "9504ff07-d651-4294-ba2e-a89ec52ca708"
      }
     }
    },
    "0c50d9ca-fef0-4e5c-8a4e-f18d1c2dbb9e": {
     "id": "0c50d9ca-fef0-4e5c-8a4e-f18d1c2dbb9e",
     "prev": "b248eaf4-2e85-4c32-8f88-7b2ef510ee7c",
     "regions": {
      "8b734704-6740-44f7-8c87-17350c882ed3": {
       "attrs": {
        "height": 0.8,
        "width": 0.8,
        "x": 0.1,
        "y": 0.1
       },
       "content": {
        "cell": "cc42c471-e943-450e-a441-3dc962f1c40d",
        "part": "whole"
       },
       "id": "8b734704-6740-44f7-8c87-17350c882ed3"
      }
     }
    },
    "107cd2c7-0a77-4fd7-922b-56df6615dcca": {
     "id": "107cd2c7-0a77-4fd7-922b-56df6615dcca",
     "prev": "2e7deda1-5486-4b26-8e0a-c91e4c88dbe8",
     "regions": {
      "2ee1a19b-7a00-46b1-b393-485ddb7c2b9b": {
       "attrs": {
        "height": 0.8,
        "width": 0.8,
        "x": 0.1,
        "y": 0.1
       },
       "content": {
        "cell": "d27b23aa-809c-4965-8399-5e67901e2ae4",
        "part": "whole"
       },
       "id": "2ee1a19b-7a00-46b1-b393-485ddb7c2b9b"
      }
     }
    },
    "11f1d1c4-4848-4b7d-a62d-5427e055bbe3": {
     "id": "11f1d1c4-4848-4b7d-a62d-5427e055bbe3",
     "prev": "9461c0f4-d87e-441d-915d-95c69b105ecb",
     "regions": {
      "185d0c6f-1e15-43e1-81f5-1234d5ac3ade": {
       "attrs": {
        "height": 0.8,
        "width": 0.8,
        "x": 0.1,
        "y": 0.1
       },
       "content": {
        "cell": "18703937-12da-40b5-960d-e7a50467e7d0",
        "part": "whole"
       },
       "id": "185d0c6f-1e15-43e1-81f5-1234d5ac3ade"
      }
     }
    },
    "17036b1e-8781-4a7e-a909-a179f499bbc9": {
     "id": "17036b1e-8781-4a7e-a909-a179f499bbc9",
     "prev": "5494c0f6-12d4-4627-9481-26c7858f8f09",
     "regions": {
      "4757fb07-c8f0-49b5-bb28-9a5bb61995ff": {
       "attrs": {
        "height": 0.8,
        "width": 0.8,
        "x": 0.1,
        "y": 0.1
       },
       "content": {
        "cell": "6452b3ab-84b7-4f3c-b74f-ae118e4ed9f2",
        "part": "whole"
       },
       "id": "4757fb07-c8f0-49b5-bb28-9a5bb61995ff"
      }
     }
    },
    "1d02d174-1ae1-4900-bb8e-92083b3f723b": {
     "id": "1d02d174-1ae1-4900-bb8e-92083b3f723b",
     "prev": "466c6928-dc5e-4aeb-abad-2dbb2c797793",
     "regions": {
      "2e5e7aee-fec1-4322-82df-30c9bda076ce": {
       "attrs": {
        "height": 0.8,
        "width": 0.8,
        "x": 0.1,
        "y": 0.1
       },
       "content": {
        "cell": "e89daf11-82d5-4ae2-905b-b73662884e4e",
        "part": "whole"
       },
       "id": "2e5e7aee-fec1-4322-82df-30c9bda076ce"
      }
     }
    },
    "26984d6c-6cdd-4fb6-a80c-b16f643b3802": {
     "id": "26984d6c-6cdd-4fb6-a80c-b16f643b3802",
     "prev": "dfaeb098-c3a9-4980-ae35-70f9b6296a7d",
     "regions": {
      "e3a7924f-b4ad-4919-b97c-a9f0da0027ec": {
       "attrs": {
        "height": 0.8,
        "width": 0.8,
        "x": 0.1,
        "y": 0.1
       },
       "content": {
        "cell": "5683d4a6-3bdb-44ea-8a8e-6203da028f73",
        "part": "whole"
       },
       "id": "e3a7924f-b4ad-4919-b97c-a9f0da0027ec"
      }
     }
    },
    "2e7deda1-5486-4b26-8e0a-c91e4c88dbe8": {
     "id": "2e7deda1-5486-4b26-8e0a-c91e4c88dbe8",
     "prev": "67a167dd-f578-4c00-9a52-77864d640afa",
     "regions": {
      "eb91815b-1df2-4bfb-b2d9-b47359f388f3": {
       "attrs": {
        "height": 0.8,
        "width": 0.8,
        "x": 0.1,
        "y": 0.1
       },
       "content": {
        "cell": "2b936ae8-a540-4353-8b1d-42f7a3bdc763",
        "part": "whole"
       },
       "id": "eb91815b-1df2-4bfb-b2d9-b47359f388f3"
      }
     }
    },
    "35c31f44-06e2-4d75-a9b7-0c168d125d04": {
     "id": "35c31f44-06e2-4d75-a9b7-0c168d125d04",
     "prev": "8b46588c-ad23-4509-b67d-62702ed7afd1",
     "regions": {
      "82c3daba-b8de-42a1-b157-7274603802ae": {
       "attrs": {
        "height": 0.8,
        "width": 0.8,
        "x": 0.1,
        "y": 0.1
       },
       "content": {
        "cell": "35e93b3d-957c-4833-a2a5-b980ecffa5b1",
        "part": "whole"
       },
       "id": "82c3daba-b8de-42a1-b157-7274603802ae"
      }
     }
    },
    "3671ddb9-95b3-4245-b062-03cc90ea386d": {
     "id": "3671ddb9-95b3-4245-b062-03cc90ea386d",
     "prev": "3c3ef584-2982-4a35-afcf-4772c65dc2ac",
     "regions": {
      "faddc9ae-ef33-4d8e-a04e-e9f73ea0310e": {
       "attrs": {
        "height": 0.8,
        "width": 0.8,
        "x": 0.1,
        "y": 0.1
       },
       "content": {
        "cell": "bea98316-c64e-4810-b176-ed4947524f8c",
        "part": "whole"
       },
       "id": "faddc9ae-ef33-4d8e-a04e-e9f73ea0310e"
      }
     }
    },
    "37edb96d-7d51-438f-bd46-fc06e161e205": {
     "id": "37edb96d-7d51-438f-bd46-fc06e161e205",
     "prev": "58980228-1ba8-4ba6-89d3-dd7694662786",
     "regions": {
      "d1ee61d0-5e72-4925-b975-1cc103761137": {
       "attrs": {
        "height": 0.8,
        "width": 0.8,
        "x": 0.1,
        "y": 0.1
       },
       "content": {
        "cell": "b0fc1861-b979-45c5-abd0-3b05200de3b6",
        "part": "whole"
       },
       "id": "d1ee61d0-5e72-4925-b975-1cc103761137"
      }
     }
    },
    "3a9ce2a4-6dd4-463e-8d2d-4aa731447f39": {
     "id": "3a9ce2a4-6dd4-463e-8d2d-4aa731447f39",
     "prev": "0aa8229e-9b5c-4f49-bd1e-34de4cd2e82f",
     "regions": {
      "80f94dd5-569c-4105-9db9-746bc3a0d979": {
       "attrs": {
        "height": 0.8,
        "width": 0.8,
        "x": 0.1,
        "y": 0.1
       },
       "content": {
        "cell": "d3d6e29a-a939-4ab4-95e0-5645d4eb97a4",
        "part": "whole"
       },
       "id": "80f94dd5-569c-4105-9db9-746bc3a0d979"
      }
     }
    },
    "3c3ef584-2982-4a35-afcf-4772c65dc2ac": {
     "id": "3c3ef584-2982-4a35-afcf-4772c65dc2ac",
     "prev": "523566b9-8158-4001-91b2-f7d1d61ec04b",
     "regions": {
      "8182730f-8099-4a3f-815d-c92171a084a7": {
       "attrs": {
        "height": 0.8,
        "width": 0.8,
        "x": 0.1,
        "y": 0.1
       },
       "content": {
        "cell": "2ff35469-eeef-46b0-8b36-f2b6d4580bd4",
        "part": "whole"
       },
       "id": "8182730f-8099-4a3f-815d-c92171a084a7"
      }
     }
    },
    "3e8e0818-4535-4e50-b8da-423cfa6bda87": {
     "id": "3e8e0818-4535-4e50-b8da-423cfa6bda87",
     "prev": "bff971e4-b2b6-497d-8f6b-6401514ee2ca",
     "regions": {
      "859f95ab-5314-4f50-9fc8-7f8a76741c82": {
       "attrs": {
        "height": 0.8,
        "width": 0.8,
        "x": 0.1,
        "y": 0.1
       },
       "content": {
        "cell": "0893c4bd-30b9-4137-bc19-c40d5def546a",
        "part": "whole"
       },
       "id": "859f95ab-5314-4f50-9fc8-7f8a76741c82"
      }
     }
    },
    "430a8f03-8947-469c-a376-2f271448284d": {
     "id": "430a8f03-8947-469c-a376-2f271448284d",
     "prev": "ae384cc7-844b-4a3a-816d-4275e60a5020",
     "regions": {
      "cc346300-13a7-4c57-9eea-13d379d8f845": {
       "attrs": {
        "height": 0.8,
        "width": 0.8,
        "x": 0.1,
        "y": 0.1
       },
       "content": {
        "cell": "3b3885c1-a497-4d41-bb48-76a6d8b43a62",
        "part": "whole"
       },
       "id": "cc346300-13a7-4c57-9eea-13d379d8f845"
      }
     }
    },
    "43517c80-f987-4261-bad2-6844f9f11a43": {
     "id": "43517c80-f987-4261-bad2-6844f9f11a43",
     "prev": "02225e5f-f35d-40ef-8f23-5431b19121ab",
     "regions": {
      "386e1c27-adc8-4888-b278-a730e1a06a1b": {
       "attrs": {
        "height": 0.8,
        "width": 0.8,
        "x": 0.1,
        "y": 0.1
       },
       "content": {
        "cell": "c34d5c93-c65c-4e47-8c92-b38faead2dc2",
        "part": "whole"
       },
       "id": "386e1c27-adc8-4888-b278-a730e1a06a1b"
      }
     }
    },
    "466c6928-dc5e-4aeb-abad-2dbb2c797793": {
     "id": "466c6928-dc5e-4aeb-abad-2dbb2c797793",
     "prev": "01ab9067-898c-46a1-91d9-18ca4fe5a937",
     "regions": {
      "dadc7530-a88a-474c-93b1-a6b13fdeb671": {
       "attrs": {
        "height": 0.8,
        "width": 0.8,
        "x": 0.1,
        "y": 0.1
       },
       "content": {
        "cell": "07dd10e2-514b-4435-afa4-cab572e54611",
        "part": "whole"
       },
       "id": "dadc7530-a88a-474c-93b1-a6b13fdeb671"
      }
     }
    },
    "523566b9-8158-4001-91b2-f7d1d61ec04b": {
     "id": "523566b9-8158-4001-91b2-f7d1d61ec04b",
     "prev": "db6c2c84-14f3-4a3f-972c-ea1e9b45b091",
     "regions": {
      "fa40db73-7f38-419f-b6d1-2d0c9854ad3d": {
       "attrs": {
        "height": 0.8,
        "width": 0.8,
        "x": 0.1,
        "y": 0.1
       },
       "content": {
        "cell": "9c7b5502-7d21-45ef-9801-c8ab89c0cb1b",
        "part": "whole"
       },
       "id": "fa40db73-7f38-419f-b6d1-2d0c9854ad3d"
      }
     }
    },
    "5342b691-167b-4e0f-a28f-aee2f74648b3": {
     "id": "5342b691-167b-4e0f-a28f-aee2f74648b3",
     "prev": "9750cf96-7612-4159-bac1-bf26fe2f60c8",
     "regions": {
      "8bf6c96e-7113-4293-9db9-3999fd5dc82b": {
       "attrs": {
        "height": 0.8,
        "width": 0.8,
        "x": 0.1,
        "y": 0.1
       },
       "content": {
        "cell": "21eb3ee8-f72c-4842-a2b2-98bc6b4b06b2",
        "part": "whole"
       },
       "id": "8bf6c96e-7113-4293-9db9-3999fd5dc82b"
      }
     }
    },
    "5494c0f6-12d4-4627-9481-26c7858f8f09": {
     "id": "5494c0f6-12d4-4627-9481-26c7858f8f09",
     "prev": "3671ddb9-95b3-4245-b062-03cc90ea386d",
     "regions": {
      "8f4923d7-89d2-4193-a542-786412d24121": {
       "attrs": {
        "height": 0.8,
        "width": 0.8,
        "x": 0.1,
        "y": 0.1
       },
       "content": {
        "cell": "47413f67-a333-4cd6-8a6e-6b268aa4f4ff",
        "part": "whole"
       },
       "id": "8f4923d7-89d2-4193-a542-786412d24121"
      }
     }
    },
    "57d8f821-fdaf-412d-bc5c-fbaf939e7850": {
     "id": "57d8f821-fdaf-412d-bc5c-fbaf939e7850",
     "prev": "5342b691-167b-4e0f-a28f-aee2f74648b3",
     "regions": {
      "595c1191-37e3-41c2-8807-172c5221490d": {
       "attrs": {
        "height": 0.8,
        "width": 0.8,
        "x": 0.1,
        "y": 0.1
       },
       "content": {
        "cell": "885a45ac-f069-4988-b245-fcd79646e17f",
        "part": "whole"
       },
       "id": "595c1191-37e3-41c2-8807-172c5221490d"
      }
     }
    },
    "58980228-1ba8-4ba6-89d3-dd7694662786": {
     "id": "58980228-1ba8-4ba6-89d3-dd7694662786",
     "prev": "ee0491f8-b146-4b0e-99d3-ceb5eb2f3a1d",
     "regions": {
      "c5224b5d-aad4-4862-a3d1-7e6996d3d33d": {
       "attrs": {
        "height": 0.8,
        "width": 0.8,
        "x": 0.1,
        "y": 0.1
       },
       "content": {
        "cell": "8972370e-3b2e-4fe5-b7d5-e6f410f4df68",
        "part": "whole"
       },
       "id": "c5224b5d-aad4-4862-a3d1-7e6996d3d33d"
      }
     }
    },
    "58fe1e15-bd81-4c14-8c10-08606b7f56ae": {
     "id": "58fe1e15-bd81-4c14-8c10-08606b7f56ae",
     "prev": "8511eb84-692c-4a63-b3c3-7e1f86c137bd",
     "regions": {
      "c29ef705-df31-4240-987b-1697100d6ae4": {
       "attrs": {
        "height": 0.8,
        "width": 0.8,
        "x": 0.1,
        "y": 0.1
       },
       "content": {
        "cell": "b5e81c61-d695-4fc4-b784-45ed41026d4a",
        "part": "whole"
       },
       "id": "c29ef705-df31-4240-987b-1697100d6ae4"
      }
     }
    },
    "6156681f-3fe2-4d80-aab1-f7c28e200404": {
     "id": "6156681f-3fe2-4d80-aab1-f7c28e200404",
     "prev": "c17f7347-3cbe-420c-a499-3131e4eaac59",
     "regions": {
      "28d9588e-1085-432e-9b58-6e28c4d7c74f": {
       "attrs": {
        "height": 0.8,
        "width": 0.8,
        "x": 0.1,
        "y": 0.1
       },
       "content": {
        "cell": "3dbf6370-0a3a-44be-ade7-2a32586e4508",
        "part": "whole"
       },
       "id": "28d9588e-1085-432e-9b58-6e28c4d7c74f"
      }
     }
    },
    "67a167dd-f578-4c00-9a52-77864d640afa": {
     "id": "67a167dd-f578-4c00-9a52-77864d640afa",
     "prev": "b7ce05ff-6ab9-49ba-9235-05d97e6d8b19",
     "regions": {
      "b3a441dc-47d2-402e-b9fe-68a0472d5670": {
       "attrs": {
        "height": 0.8,
        "width": 0.8,
        "x": 0.1,
        "y": 0.1
       },
       "content": {
        "cell": "a67a0f57-b7bb-4ad2-89a8-f53f514d52d5",
        "part": "whole"
       },
       "id": "b3a441dc-47d2-402e-b9fe-68a0472d5670"
      }
     }
    },
    "76cecc6a-4ff3-4f36-9fcd-dc72da22db7a": {
     "id": "76cecc6a-4ff3-4f36-9fcd-dc72da22db7a",
     "prev": "107cd2c7-0a77-4fd7-922b-56df6615dcca",
     "regions": {
      "3d9e9ca1-88f1-4d57-b1ce-1cd3377e1f1e": {
       "attrs": {
        "height": 0.8,
        "width": 0.8,
        "x": 0.1,
        "y": 0.1
       },
       "content": {
        "cell": "c3f25ce7-4ac2-4e7e-ae0d-0d354b7aa34a",
        "part": "whole"
       },
       "id": "3d9e9ca1-88f1-4d57-b1ce-1cd3377e1f1e"
      }
     }
    },
    "7a3d7039-5de1-4759-9129-49437077ec67": {
     "id": "7a3d7039-5de1-4759-9129-49437077ec67",
     "prev": "76cecc6a-4ff3-4f36-9fcd-dc72da22db7a",
     "regions": {
      "f8ee8b52-b882-4e27-b1e2-4db18e65b256": {
       "attrs": {
        "height": 0.8,
        "width": 0.8,
        "x": 0.1,
        "y": 0.1
       },
       "content": {
        "cell": "4a0d9ca6-f3a4-453d-b52e-ad5d17ca5883",
        "part": "whole"
       },
       "id": "f8ee8b52-b882-4e27-b1e2-4db18e65b256"
      }
     }
    },
    "7c9758fa-71de-4938-8eed-be5dabd2d61c": {
     "id": "7c9758fa-71de-4938-8eed-be5dabd2d61c",
     "prev": "3e8e0818-4535-4e50-b8da-423cfa6bda87",
     "regions": {
      "94b0287c-da12-4bf9-ab24-b6041cab0a0f": {
       "attrs": {
        "height": 0.8,
        "width": 0.8,
        "x": 0.1,
        "y": 0.1
       },
       "content": {
        "cell": "5e5e8200-af66-4ffa-85d8-0ca019d398d8",
        "part": "whole"
       },
       "id": "94b0287c-da12-4bf9-ab24-b6041cab0a0f"
      }
     }
    },
    "8511eb84-692c-4a63-b3c3-7e1f86c137bd": {
     "id": "8511eb84-692c-4a63-b3c3-7e1f86c137bd",
     "prev": "3a9ce2a4-6dd4-463e-8d2d-4aa731447f39",
     "regions": {
      "d512994f-a930-4cb5-9feb-0c9e9b3eca21": {
       "attrs": {
        "height": 0.8,
        "width": 0.8,
        "x": 0.1,
        "y": 0.1
       },
       "content": {
        "cell": "93a5d1f3-e3b5-4840-95c2-503725844dc3",
        "part": "whole"
       },
       "id": "d512994f-a930-4cb5-9feb-0c9e9b3eca21"
      }
     }
    },
    "863c2f5d-5ed6-4abd-9212-ac3aa08b7c2d": {
     "id": "863c2f5d-5ed6-4abd-9212-ac3aa08b7c2d",
     "prev": "fa1e9266-57b6-41c8-9ad2-05119a8154fa",
     "regions": {
      "2efc3ace-624d-49f2-8602-18d3ce4fd9d1": {
       "attrs": {
        "height": 0.8,
        "width": 0.8,
        "x": 0.1,
        "y": 0.1
       },
       "content": {
        "cell": "1c22acff-5c31-4b42-a557-2be121021d1e",
        "part": "whole"
       },
       "id": "2efc3ace-624d-49f2-8602-18d3ce4fd9d1"
      }
     }
    },
    "8a00b47c-c1da-479f-b5e8-16224b1bc1ad": {
     "id": "8a00b47c-c1da-479f-b5e8-16224b1bc1ad",
     "prev": "c372f9ff-ce00-4768-8a0a-cb894e0fa65d",
     "regions": {
      "88f7e3bd-c1f1-4783-aa29-4b3871ed83c9": {
       "attrs": {
        "height": 0.8,
        "width": 0.8,
        "x": 0.1,
        "y": 0.1
       },
       "content": {
        "cell": "4bcabd6c-13d5-4a8e-a4cf-46d12550458b",
        "part": "whole"
       },
       "id": "88f7e3bd-c1f1-4783-aa29-4b3871ed83c9"
      }
     }
    },
    "8b46588c-ad23-4509-b67d-62702ed7afd1": {
     "id": "8b46588c-ad23-4509-b67d-62702ed7afd1",
     "prev": "37edb96d-7d51-438f-bd46-fc06e161e205",
     "regions": {
      "6e4458c9-28eb-4025-8ac9-d7fc0ffb8fee": {
       "attrs": {
        "height": 0.8,
        "width": 0.8,
        "x": 0.1,
        "y": 0.1
       },
       "content": {
        "cell": "575abe68-ac1a-489a-8b14-aef861c188e3",
        "part": "whole"
       },
       "id": "6e4458c9-28eb-4025-8ac9-d7fc0ffb8fee"
      }
     }
    },
    "92033db1-1754-4f97-a65f-d7fcd5e5ef5f": {
     "id": "92033db1-1754-4f97-a65f-d7fcd5e5ef5f",
     "prev": "7c9758fa-71de-4938-8eed-be5dabd2d61c",
     "regions": {
      "73b1869c-52b3-4f19-8918-f9d27d1ce96a": {
       "attrs": {
        "height": 0.8,
        "width": 0.8,
        "x": 0.1,
        "y": 0.1
       },
       "content": {
        "cell": "31f1dd1c-7279-4590-a581-4789248b9d95",
        "part": "whole"
       },
       "id": "73b1869c-52b3-4f19-8918-f9d27d1ce96a"
      }
     }
    },
    "9461c0f4-d87e-441d-915d-95c69b105ecb": {
     "id": "9461c0f4-d87e-441d-915d-95c69b105ecb",
     "prev": "92033db1-1754-4f97-a65f-d7fcd5e5ef5f",
     "regions": {
      "4dd7f598-05d6-4e49-883d-978967a66cc5": {
       "attrs": {
        "height": 0.8,
        "width": 0.8,
        "x": 0.1,
        "y": 0.1
       },
       "content": {
        "cell": "674e452c-7ba7-4c07-be5e-1e73553f8849",
        "part": "whole"
       },
       "id": "4dd7f598-05d6-4e49-883d-978967a66cc5"
      }
     }
    },
    "94c7954c-21de-44d2-81f0-746748834167": {
     "id": "94c7954c-21de-44d2-81f0-746748834167",
     "prev": "d806c3fb-ea3d-4b90-be5b-e78113b3e887",
     "regions": {
      "a853df0e-2a78-45f8-8841-72a437ba5d68": {
       "attrs": {
        "height": 0.8,
        "width": 0.8,
        "x": 0.1,
        "y": 0.1
       },
       "content": {
        "cell": "f581b3c5-979f-4ad2-95b7-e89dc86afee3",
        "part": "whole"
       },
       "id": "a853df0e-2a78-45f8-8841-72a437ba5d68"
      }
     }
    },
    "94c969b1-892d-4f1a-a832-8154573c893c": {
     "id": "94c969b1-892d-4f1a-a832-8154573c893c",
     "prev": "94c7954c-21de-44d2-81f0-746748834167",
     "regions": {
      "c1ade563-9e9b-490c-970b-37faba235b7e": {
       "attrs": {
        "height": 0.8,
        "width": 0.8,
        "x": 0.1,
        "y": 0.1
       },
       "content": {
        "cell": "e965b847-7d60-48e2-b72f-972816a1e6fc",
        "part": "whole"
       },
       "id": "c1ade563-9e9b-490c-970b-37faba235b7e"
      }
     }
    },
    "9750cf96-7612-4159-bac1-bf26fe2f60c8": {
     "id": "9750cf96-7612-4159-bac1-bf26fe2f60c8",
     "prev": "94c969b1-892d-4f1a-a832-8154573c893c",
     "regions": {
      "116d14ce-3f3d-44a1-aa86-61b1ac19354f": {
       "attrs": {
        "height": 0.8,
        "width": 0.8,
        "x": 0.1,
        "y": 0.1
       },
       "content": {
        "cell": "ddd82eaf-9b54-48bf-ac57-aa797a3a970a",
        "part": "whole"
       },
       "id": "116d14ce-3f3d-44a1-aa86-61b1ac19354f"
      }
     }
    },
    "a40bc8a7-660a-4478-8071-b97c5127c4b5": {
     "id": "a40bc8a7-660a-4478-8071-b97c5127c4b5",
     "prev": "863c2f5d-5ed6-4abd-9212-ac3aa08b7c2d",
     "regions": {
      "929e10a6-a0b0-4d31-99b1-311fcfc150a1": {
       "attrs": {
        "height": 0.8,
        "width": 0.8,
        "x": 0.1,
        "y": 0.1
       },
       "content": {
        "cell": "d7d32de7-bcdd-486d-b6c9-d5caad1164e3",
        "part": "whole"
       },
       "id": "929e10a6-a0b0-4d31-99b1-311fcfc150a1"
      }
     }
    },
    "ae384cc7-844b-4a3a-816d-4275e60a5020": {
     "id": "ae384cc7-844b-4a3a-816d-4275e60a5020",
     "prev": "26984d6c-6cdd-4fb6-a80c-b16f643b3802",
     "regions": {
      "b7a26fcd-98a6-4c24-893f-14ab3d6257bb": {
       "attrs": {
        "height": 0.8,
        "width": 0.8,
        "x": 0.1,
        "y": 0.1
       },
       "content": {
        "cell": "ddc73611-ffe2-434e-b3bd-cd417ef42b68",
        "part": "whole"
       },
       "id": "b7a26fcd-98a6-4c24-893f-14ab3d6257bb"
      }
     }
    },
    "b248eaf4-2e85-4c32-8f88-7b2ef510ee7c": {
     "id": "b248eaf4-2e85-4c32-8f88-7b2ef510ee7c",
     "prev": null,
     "regions": {
      "729796eb-5023-4fc8-b32f-83045cda3258": {
       "attrs": {
        "height": 0.8,
        "width": 0.8,
        "x": 0.1,
        "y": 0.1
       },
       "content": {
        "cell": "dad3a857-8628-4c15-a8ad-312792cb88ac",
        "part": "whole"
       },
       "id": "729796eb-5023-4fc8-b32f-83045cda3258"
      }
     }
    },
    "b7ce05ff-6ab9-49ba-9235-05d97e6d8b19": {
     "id": "b7ce05ff-6ab9-49ba-9235-05d97e6d8b19",
     "prev": "fd5b9f11-7cb4-4280-8955-7da1f2a0eafd",
     "regions": {
      "44f843a2-f9a7-4c01-be36-f2b39de5a725": {
       "attrs": {
        "height": 0.8,
        "width": 0.8,
        "x": 0.1,
        "y": 0.1
       },
       "content": {
        "cell": "852d31b9-64ee-4906-8865-dc217141338a",
        "part": "whole"
       },
       "id": "44f843a2-f9a7-4c01-be36-f2b39de5a725"
      }
     }
    },
    "bff971e4-b2b6-497d-8f6b-6401514ee2ca": {
     "id": "bff971e4-b2b6-497d-8f6b-6401514ee2ca",
     "prev": "7a3d7039-5de1-4759-9129-49437077ec67",
     "regions": {
      "07dd02d3-5ac3-4d96-9291-c3870d15f11e": {
       "attrs": {
        "height": 0.8,
        "width": 0.8,
        "x": 0.1,
        "y": 0.1
       },
       "content": {
        "cell": "31a44e48-3de3-4fa2-9c03-2063209cce11",
        "part": "whole"
       },
       "id": "07dd02d3-5ac3-4d96-9291-c3870d15f11e"
      }
     }
    },
    "c17f7347-3cbe-420c-a499-3131e4eaac59": {
     "id": "c17f7347-3cbe-420c-a499-3131e4eaac59",
     "prev": "57d8f821-fdaf-412d-bc5c-fbaf939e7850",
     "regions": {
      "7d4b25fd-aa9a-4d62-8181-05324639ff0d": {
       "attrs": {
        "height": 0.8,
        "width": 0.8,
        "x": 0.1,
        "y": 0.1
       },
       "content": {
        "cell": "35043c9c-279e-47cd-b82f-9dae8c5f9fec",
        "part": "whole"
       },
       "id": "7d4b25fd-aa9a-4d62-8181-05324639ff0d"
      }
     }
    },
    "c372f9ff-ce00-4768-8a0a-cb894e0fa65d": {
     "id": "c372f9ff-ce00-4768-8a0a-cb894e0fa65d",
     "prev": "35c31f44-06e2-4d75-a9b7-0c168d125d04",
     "regions": {
      "c3931b7b-0a33-46e0-a5b6-6b33b0075fd5": {
       "attrs": {
        "height": 0.8,
        "width": 0.8,
        "x": 0.1,
        "y": 0.1
       },
       "content": {
        "cell": "6dccff7c-9bb1-447a-9692-656ca1687626",
        "part": "whole"
       },
       "id": "c3931b7b-0a33-46e0-a5b6-6b33b0075fd5"
      }
     }
    },
    "d806c3fb-ea3d-4b90-be5b-e78113b3e887": {
     "id": "d806c3fb-ea3d-4b90-be5b-e78113b3e887",
     "prev": "094d2d0d-c7e5-40bc-bed7-bd80198e8e18",
     "regions": {
      "8ec4249f-2827-4eb0-bb27-152d4dea703f": {
       "attrs": {
        "height": 0.8,
        "width": 0.8,
        "x": 0.1,
        "y": 0.1
       },
       "content": {
        "cell": "25b7da30-19eb-4326-ba15-d969f9c1ad12",
        "part": "whole"
       },
       "id": "8ec4249f-2827-4eb0-bb27-152d4dea703f"
      }
     }
    },
    "db6c2c84-14f3-4a3f-972c-ea1e9b45b091": {
     "id": "db6c2c84-14f3-4a3f-972c-ea1e9b45b091",
     "prev": "ff25a0ae-0958-4983-b72b-6d655554983e",
     "regions": {
      "33e20b90-5ef8-482a-af30-6ebe50fa5247": {
       "attrs": {
        "height": 0.8,
        "width": 0.8,
        "x": 0.1,
        "y": 0.1
       },
       "content": {
        "cell": "b2282939-76b5-4358-8caf-bda59cd4dfc8",
        "part": "whole"
       },
       "id": "33e20b90-5ef8-482a-af30-6ebe50fa5247"
      }
     }
    },
    "de950ae7-a7c1-424c-afe2-42f481db181e": {
     "id": "de950ae7-a7c1-424c-afe2-42f481db181e",
     "prev": "58fe1e15-bd81-4c14-8c10-08606b7f56ae",
     "regions": {
      "157e2366-91bc-4374-b005-296b72401f19": {
       "attrs": {
        "height": 0.8,
        "width": 0.8,
        "x": 0.1,
        "y": 0.1
       },
       "content": {
        "cell": "6eff5466-e51a-40e9-b5d6-0e511d329721",
        "part": "whole"
       },
       "id": "157e2366-91bc-4374-b005-296b72401f19"
      }
     }
    },
    "dfaeb098-c3a9-4980-ae35-70f9b6296a7d": {
     "id": "dfaeb098-c3a9-4980-ae35-70f9b6296a7d",
     "prev": "a40bc8a7-660a-4478-8071-b97c5127c4b5",
     "regions": {
      "ff8a9509-83fc-43b8-b85d-05642f796426": {
       "attrs": {
        "height": 0.8,
        "width": 0.8,
        "x": 0.1,
        "y": 0.1
       },
       "content": {
        "cell": "139cbba6-15fb-4eb9-b2d8-a25bdbf3a874",
        "part": "whole"
       },
       "id": "ff8a9509-83fc-43b8-b85d-05642f796426"
      }
     }
    },
    "ee0491f8-b146-4b0e-99d3-ceb5eb2f3a1d": {
     "id": "ee0491f8-b146-4b0e-99d3-ceb5eb2f3a1d",
     "prev": "0c50d9ca-fef0-4e5c-8a4e-f18d1c2dbb9e",
     "regions": {
      "7e1317fc-37fb-47f2-9822-1b464ab3a0f1": {
       "attrs": {
        "height": 0.8,
        "width": 0.8,
        "x": 0.1,
        "y": 0.1
       },
       "content": {
        "cell": "93b648ee-643e-46b2-a289-f6b562875bc4",
        "part": "whole"
       },
       "id": "7e1317fc-37fb-47f2-9822-1b464ab3a0f1"
      }
     }
    },
    "fa1e9266-57b6-41c8-9ad2-05119a8154fa": {
     "id": "fa1e9266-57b6-41c8-9ad2-05119a8154fa",
     "prev": "1d02d174-1ae1-4900-bb8e-92083b3f723b",
     "regions": {
      "642cb521-a4bf-4bdf-94e4-c4e1db951bed": {
       "attrs": {
        "height": 0.8,
        "width": 0.8,
        "x": 0.1,
        "y": 0.1
       },
       "content": {
        "cell": "7bcdf43b-5617-4e59-b3d7-0c3706c527f1",
        "part": "whole"
       },
       "id": "642cb521-a4bf-4bdf-94e4-c4e1db951bed"
      }
     }
    },
    "fd5b9f11-7cb4-4280-8955-7da1f2a0eafd": {
     "id": "fd5b9f11-7cb4-4280-8955-7da1f2a0eafd",
     "prev": "8a00b47c-c1da-479f-b5e8-16224b1bc1ad",
     "regions": {
      "bafa4b52-8d5e-4af8-9b56-5cfb28caec46": {
       "attrs": {
        "height": 0.8,
        "width": 0.8,
        "x": 0.1,
        "y": 0.1
       },
       "content": {
        "cell": "d110e3f4-e865-4198-8668-17bd4f1e9540",
        "part": "whole"
       },
       "id": "bafa4b52-8d5e-4af8-9b56-5cfb28caec46"
      }
     }
    },
    "ff25a0ae-0958-4983-b72b-6d655554983e": {
     "id": "ff25a0ae-0958-4983-b72b-6d655554983e",
     "prev": "6156681f-3fe2-4d80-aab1-f7c28e200404",
     "regions": {
      "4536da0e-7194-48f1-a4eb-13fb6d74ecf5": {
       "attrs": {
        "height": 0.8,
        "width": 0.8,
        "x": 0.1,
        "y": 0.1
       },
       "content": {
        "cell": "72beaf23-bcc8-4311-b327-b67a3b07436a",
        "part": "whole"
       },
       "id": "4536da0e-7194-48f1-a4eb-13fb6d74ecf5"
      }
     }
    }
   },
   "themes": {}
  }
 },
 "nbformat": 4,
 "nbformat_minor": 0
}
