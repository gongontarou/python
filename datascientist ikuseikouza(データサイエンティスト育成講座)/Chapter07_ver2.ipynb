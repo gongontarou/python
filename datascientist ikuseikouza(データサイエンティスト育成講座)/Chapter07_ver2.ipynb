{
 "cells": [
  {
   "cell_type": "markdown",
   "metadata": {},
   "source": [
    "# 7 Matplotlibを使ったデータ可視化"
   ]
  },
  {
   "cell_type": "markdown",
   "metadata": {},
   "source": [
    "- **[7.1 データの可視化](#7.1-データの可視化)**\n",
    "    - [7.1.1 データ可視化の基礎](#7.1.1-データ可視化の基礎)\n",
    "    - [7.1.2 応用：金融データの可視化](#7.1.2-応用：金融データの可視化)\n",
    "<br><br>\n",
    "- **[7.2 分析結果の見せ方を考えよう](#7.2-分析結果の見せ方を考えよう)**\n",
    "    - [7.2.1 資料作成のポイントについて](#7.2.1-資料作成のポイントについて)\n",
    "<br><br>\n",
    "- **[7.3 総合問題](#7.3-総合問題)**\n",
    "    - [7.3.1 時系列データ分析](#7.3.1-時系列データ分析)\n",
    "    - [7.3.2 マーケティング分析](#7.3.2-マーケティング分析)"
   ]
  },
  {
   "cell_type": "markdown",
   "metadata": {},
   "source": [
    "***"
   ]
  },
  {
   "cell_type": "markdown",
   "metadata": {},
   "source": [
    "## 7.1 データの可視化\n",
    "ゴール：matplotlibを使って、様々なデータを可視化することができる"
   ]
  },
  {
   "cell_type": "code",
   "execution_count": 1,
   "metadata": {
    "collapsed": false
   },
   "outputs": [
    {
     "data": {
      "text/plain": [
       "'%.3f'"
      ]
     },
     "execution_count": 1,
     "metadata": {},
     "output_type": "execute_result"
    }
   ],
   "source": [
    "# 以下のモジュールを使うので、あらかじめ読み込んでおいてください\n",
    "import numpy as np\n",
    "import numpy.random as random\n",
    "import scipy as sp\n",
    "import pandas as pd\n",
    "from pandas import Series, DataFrame\n",
    "\n",
    "# 可視化モジュール\n",
    "import matplotlib.pyplot as plt\n",
    "import matplotlib as mpl\n",
    "import seaborn as sns\n",
    "%matplotlib inline\n",
    "\n",
    "# 小数第３まで表示\n",
    "%precision 3"
   ]
  },
  {
   "cell_type": "markdown",
   "metadata": {},
   "source": [
    "### 7.1.1 データ可視化の基礎\n",
    "キーワード：棒グラフ、円グラフ、バブルチャート、積み上げグラフ"
   ]
  },
  {
   "cell_type": "markdown",
   "metadata": {},
   "source": [
    "ここでは、データを可視化するmatplotlibについてもう少し詳しく学んでいきましょう。これまで折れ線グラフ、ヒストグラムなどのグラフを使ってきました。ここでは、棒グラフや円グラフ、積み上げグラフなどについても紹介していきます。"
   ]
  },
  {
   "cell_type": "markdown",
   "metadata": {},
   "source": [
    "まずは、棒グラフからです。これは、カテゴリーごと（地域別、部門別など）に数値を比較したい場合に使います。棒グラフは、barを使います。ラベルがある場合は、xtickで以下のように指定します。また、そのまま実行するとグラフが左に寄ってあまり見栄えが良くないので、グラフを中央に寄せるために、align=\"center\"を使います。他、xのラベルやyのラベルなどは、以前と同様です。"
   ]
  },
  {
   "cell_type": "code",
   "execution_count": 2,
   "metadata": {
    "collapsed": false
   },
   "outputs": [
    {
     "data": {
      "image/png": "[encoded data removed]",
      "text/plain": [
       "<matplotlib.figure.Figure at 0x10fc17d30>"
      ]
     },
     "metadata": {},
     "output_type": "display_data"
    }
   ],
   "source": [
    "import matplotlib.pyplot as plt\n",
    "\n",
    "# 画像の大きさとバッグカラーの設定\n",
    "plt.figure(figsize=(4,3), facecolor=\"white\")\n",
    "\n",
    "# 表示するデータ\n",
    "X = [1,2,3]\n",
    "Y = [10,1,4]\n",
    "\n",
    "# 棒グラフの表示、中央に寄せている\n",
    "plt.bar(X, Y, align=\"center\")\n",
    "\n",
    "# グラフそれぞれのレベル\n",
    "plt.xticks(X, ['A Class','B Class','C Class'])\n",
    "\n",
    "# XとYのラベル\n",
    "plt.xlabel(\"Class\")\n",
    "plt.ylabel(\"Score\")\n",
    "plt.grid(True)"
   ]
  },
  {
   "cell_type": "markdown",
   "metadata": {},
   "source": [
    "先ほどは縦の棒グラフでしたが、横にしたい場合は、barhを使います。なお、xの軸とyの軸が入れかわるので、再設定しています。"
   ]
  },
  {
   "cell_type": "code",
   "execution_count": 3,
   "metadata": {
    "collapsed": false
   },
   "outputs": [
    {
     "data": {
      "image/png": "[encoded data removed]",
      "text/plain": [
       "<matplotlib.figure.Figure at 0x113021860>"
      ]
     },
     "metadata": {},
     "output_type": "display_data"
    }
   ],
   "source": [
    "import matplotlib.pyplot as plt\n",
    "\n",
    "# 画像の大きさとバッグカラーの設定\n",
    "plt.figure(figsize=(4,3),facecolor=\"white\")\n",
    "\n",
    "X = [1,2,3]\n",
    "Y = [10,1,4]\n",
    "\n",
    "plt.barh(X,Y, align=\"center\")\n",
    "plt.yticks(X, ['A Class','B Class','C Class'])\n",
    "plt.ylabel(\"Class\")\n",
    "plt.xlabel(\"Score\")\n",
    "plt.grid(True)"
   ]
  },
  {
   "cell_type": "markdown",
   "metadata": {},
   "source": [
    "複数の棒グラフをそれぞれ比較したいという場合があります。以下では、クラスごとに数学の一期目の成績と最終成績を比較できるようにしています。"
   ]
  },
  {
   "cell_type": "code",
   "execution_count": 4,
   "metadata": {
    "collapsed": false,
    "scrolled": true
   },
   "outputs": [
    {
     "data": {
      "image/png": "[encoded data removed]",
      "text/plain": [
       "<matplotlib.figure.Figure at 0x11307eb70>"
      ]
     },
     "metadata": {},
     "output_type": "display_data"
    }
   ],
   "source": [
    "import matplotlib.pyplot as plt\n",
    "import numpy as np\n",
    "\n",
    "plt.figure(figsize=(4,3),facecolor=\"white\")\n",
    "\n",
    "Y1 = np.array([30,10,40])\n",
    "Y2 = np.array([10,50,90])\n",
    "\n",
    "X = np.arange(len(Y1))\n",
    "\n",
    "# グラフの幅\n",
    "w=0.4\n",
    "\n",
    "plt.bar(X, Y1, color='b', width=w, label='Math first', align=\"center\")\n",
    "plt.bar(X + w, Y2, color='g', width=w, label='Math final', align=\"center\")\n",
    "\n",
    "# 凡例を最適な位置に配置\n",
    "plt.legend(loc=\"best\")\n",
    "\n",
    "plt.xticks(X + w/2, ['Class A','Class B','Class C'])\n",
    "plt.grid(True)"
   ]
  },
  {
   "cell_type": "markdown",
   "metadata": {},
   "source": [
    "次は、積み上げの棒グラフです。同じくbarを使い、bottomパラメータの設定に注意してください。"
   ]
  },
  {
   "cell_type": "code",
   "execution_count": 5,
   "metadata": {
    "collapsed": false
   },
   "outputs": [
    {
     "data": {
      "text/plain": [
       "<matplotlib.legend.Legend at 0x1131efeb8>"
      ]
     },
     "execution_count": 5,
     "metadata": {},
     "output_type": "execute_result"
    },
    {
     "data": {
      "image/png": "[encoded data removed]",
      "text/plain": [
       "<matplotlib.figure.Figure at 0x11319c048>"
      ]
     },
     "metadata": {},
     "output_type": "display_data"
    }
   ],
   "source": [
    "import numpy as np\n",
    "import matplotlib.pyplot as plt\n",
    "\n",
    "plt.figure(figsize=(7,3),facecolor=\"white\")\n",
    "\n",
    "left = np.array([1, 2, 3, 4, 5])\n",
    "\n",
    "height1 = np.array([100, 200, 300, 400, 500])\n",
    "height2 = np.array([1000, 800, 600, 400, 200])\n",
    "\n",
    "p1 = plt.bar(left, height1, color=\"blue\")\n",
    "p2 = plt.bar(left, height2, bottom=height1, color=\"lightblue\")\n",
    "\n",
    "plt.legend((p1[0], p2[0]), (\"Class 1\", \"Class 2\"))"
   ]
  },
  {
   "cell_type": "markdown",
   "metadata": {},
   "source": [
    "なお、以前にも紹介しましたが、関数のパラメータ等を調べるには、help関数を使いましょう。"
   ]
  },
  {
   "cell_type": "code",
   "execution_count": 6,
   "metadata": {
    "collapsed": false
   },
   "outputs": [
    {
     "name": "stdout",
     "output_type": "stream",
     "text": [
      "Help on function legend in module matplotlib.pyplot:\n",
      "\n",
      "legend(*args, **kwargs)\n",
      "    Places a legend on the axes.\n",
      "    \n",
      "    To make a legend for lines which already exist on the axes\n",
      "    (via plot for instance), simply call this function with an iterable\n",
      "    of strings, one for each legend item. For example::\n",
      "    \n",
      "        ax.plot([1, 2, 3])\n",
      "        ax.legend(['A simple line'])\n",
      "    \n",
      "    However, in order to keep the \"label\" and the legend element\n",
      "    instance together, it is preferable to specify the label either at\n",
      "    artist creation, or by calling the\n",
      "    :meth:`~matplotlib.artist.Artist.set_label` method on the artist::\n",
      "    \n",
      "        line, = ax.plot([1, 2, 3], label='Inline label')\n",
      "        # Overwrite the label by calling the method.\n",
      "        line.set_label('Label via method')\n",
      "        ax.legend()\n",
      "    \n",
      "    Specific lines can be excluded from the automatic legend element\n",
      "    selection by defining a label starting with an underscore.\n",
      "    This is default for all artists, so calling :meth:`legend` without\n",
      "    any arguments and without setting the labels manually will result in\n",
      "    no legend being drawn.\n",
      "    \n",
      "    For full control of which artists have a legend entry, it is possible\n",
      "    to pass an iterable of legend artists followed by an iterable of\n",
      "    legend labels respectively::\n",
      "    \n",
      "       legend((line1, line2, line3), ('label1', 'label2', 'label3'))\n",
      "    \n",
      "    Parameters\n",
      "    ----------\n",
      "    loc : int or string or pair of floats, default: 'upper right'\n",
      "        The location of the legend. Possible codes are:\n",
      "    \n",
      "            ===============   =============\n",
      "            Location String   Location Code\n",
      "            ===============   =============\n",
      "            'best'            0\n",
      "            'upper right'     1\n",
      "            'upper left'      2\n",
      "            'lower left'      3\n",
      "            'lower right'     4\n",
      "            'right'           5\n",
      "            'center left'     6\n",
      "            'center right'    7\n",
      "            'lower center'    8\n",
      "            'upper center'    9\n",
      "            'center'          10\n",
      "            ===============   =============\n",
      "    \n",
      "    \n",
      "        Alternatively can be a 2-tuple giving ``x, y`` of the lower-left\n",
      "        corner of the legend in axes coordinates (in which case\n",
      "        ``bbox_to_anchor`` will be ignored).\n",
      "    \n",
      "    bbox_to_anchor : :class:`matplotlib.transforms.BboxBase` instance or tuple of floats\n",
      "        Specify any arbitrary location for the legend in `bbox_transform`\n",
      "        coordinates (default Axes coordinates).\n",
      "    \n",
      "        For example, to put the legend's upper right hand corner in the\n",
      "        center of the axes the following keywords can be used::\n",
      "    \n",
      "           loc='upper right', bbox_to_anchor=(0.5, 0.5)\n",
      "    \n",
      "    ncol : integer\n",
      "        The number of columns that the legend has. Default is 1.\n",
      "    \n",
      "    prop : None or :class:`matplotlib.font_manager.FontProperties` or dict\n",
      "        The font properties of the legend. If None (default), the current\n",
      "        :data:`matplotlib.rcParams` will be used.\n",
      "    \n",
      "    fontsize : int or float or {'xx-small', 'x-small', 'small', 'medium', 'large', 'x-large', 'xx-large'}\n",
      "        Controls the font size of the legend. If the value is numeric the\n",
      "        size will be the absolute font size in points. String values are\n",
      "        relative to the current default font size. This argument is only\n",
      "        used if `prop` is not specified.\n",
      "    \n",
      "    numpoints : None or int\n",
      "        The number of marker points in the legend when creating a legend\n",
      "        entry for a line/:class:`matplotlib.lines.Line2D`.\n",
      "        Default is ``None`` which will take the value from the\n",
      "        ``legend.numpoints`` :data:`rcParam<matplotlib.rcParams>`.\n",
      "    \n",
      "    scatterpoints : None or int\n",
      "        The number of marker points in the legend when creating a legend\n",
      "        entry for a scatter plot/\n",
      "        :class:`matplotlib.collections.PathCollection`.\n",
      "        Default is ``None`` which will take the value from the\n",
      "        ``legend.scatterpoints`` :data:`rcParam<matplotlib.rcParams>`.\n",
      "    \n",
      "    scatteryoffsets : iterable of floats\n",
      "        The vertical offset (relative to the font size) for the markers\n",
      "        created for a scatter plot legend entry. 0.0 is at the base the\n",
      "        legend text, and 1.0 is at the top. To draw all markers at the\n",
      "        same height, set to ``[0.5]``. Default ``[0.375, 0.5, 0.3125]``.\n",
      "    \n",
      "    markerscale : None or int or float\n",
      "        The relative size of legend markers compared with the originally\n",
      "        drawn ones. Default is ``None`` which will take the value from\n",
      "        the ``legend.markerscale`` :data:`rcParam <matplotlib.rcParams>`.\n",
      "    \n",
      "    markerfirst : bool\n",
      "        if *True*, legend marker is placed to the left of the legend label\n",
      "        if *False*, legend marker is placed to the right of the legend\n",
      "        label\n",
      "    \n",
      "    frameon : None or bool\n",
      "        Control whether the legend should be drawn on a patch (frame).\n",
      "        Default is ``None`` which will take the value from the\n",
      "        ``legend.frameon`` :data:`rcParam<matplotlib.rcParams>`.\n",
      "    \n",
      "    fancybox : None or bool\n",
      "        Control whether round edges should be enabled around\n",
      "        the :class:`~matplotlib.patches.FancyBboxPatch` which\n",
      "        makes up the legend's background.\n",
      "        Default is ``None`` which will take the value from the\n",
      "        ``legend.fancybox`` :data:`rcParam<matplotlib.rcParams>`.\n",
      "    \n",
      "    shadow : None or bool\n",
      "        Control whether to draw a shadow behind the legend.\n",
      "        Default is ``None`` which will take the value from the\n",
      "        ``legend.shadow`` :data:`rcParam<matplotlib.rcParams>`.\n",
      "    \n",
      "    framealpha : None or float\n",
      "        Control the alpha transparency of the legend's background.\n",
      "        Default is ``None`` which will take the value from the\n",
      "        ``legend.framealpha`` :data:`rcParam<matplotlib.rcParams>`.\n",
      "    \n",
      "    facecolor : None or \"inherit\" or a color spec\n",
      "        Control the legend's background color.\n",
      "        Default is ``None`` which will take the value from the\n",
      "        ``legend.facecolor`` :data:`rcParam<matplotlib.rcParams>`.\n",
      "        If ``\"inherit\"``, it will take the ``axes.facecolor``\n",
      "        :data:`rcParam<matplotlib.rcParams>`.\n",
      "    \n",
      "    edgecolor : None or \"inherit\" or a color spec\n",
      "        Control the legend's background patch edge color.\n",
      "        Default is ``None`` which will take the value from the\n",
      "        ``legend.edgecolor`` :data:`rcParam<matplotlib.rcParams>`.\n",
      "        If ``\"inherit\"``, it will take the ``axes.edgecolor``\n",
      "        :data:`rcParam<matplotlib.rcParams>`.\n",
      "    \n",
      "    mode : {\"expand\", None}\n",
      "        If `mode` is set to ``\"expand\"`` the legend will be horizontally\n",
      "        expanded to fill the axes area (or `bbox_to_anchor` if defines\n",
      "        the legend's size).\n",
      "    \n",
      "    bbox_transform : None or :class:`matplotlib.transforms.Transform`\n",
      "        The transform for the bounding box (`bbox_to_anchor`). For a value\n",
      "        of ``None`` (default) the Axes'\n",
      "        :data:`~matplotlib.axes.Axes.transAxes` transform will be used.\n",
      "    \n",
      "    title : str or None\n",
      "        The legend's title. Default is no title (``None``).\n",
      "    \n",
      "    borderpad : float or None\n",
      "        The fractional whitespace inside the legend border.\n",
      "        Measured in font-size units.\n",
      "        Default is ``None`` which will take the value from the\n",
      "        ``legend.borderpad`` :data:`rcParam<matplotlib.rcParams>`.\n",
      "    \n",
      "    labelspacing : float or None\n",
      "        The vertical space between the legend entries.\n",
      "        Measured in font-size units.\n",
      "        Default is ``None`` which will take the value from the\n",
      "        ``legend.labelspacing`` :data:`rcParam<matplotlib.rcParams>`.\n",
      "    \n",
      "    handlelength : float or None\n",
      "        The length of the legend handles.\n",
      "        Measured in font-size units.\n",
      "        Default is ``None`` which will take the value from the\n",
      "        ``legend.handlelength`` :data:`rcParam<matplotlib.rcParams>`.\n",
      "    \n",
      "    handletextpad : float or None\n",
      "        The pad between the legend handle and text.\n",
      "        Measured in font-size units.\n",
      "        Default is ``None`` which will take the value from the\n",
      "        ``legend.handletextpad`` :data:`rcParam<matplotlib.rcParams>`.\n",
      "    \n",
      "    borderaxespad : float or None\n",
      "        The pad between the axes and legend border.\n",
      "        Measured in font-size units.\n",
      "        Default is ``None`` which will take the value from the\n",
      "        ``legend.borderaxespad`` :data:`rcParam<matplotlib.rcParams>`.\n",
      "    \n",
      "    columnspacing : float or None\n",
      "        The spacing between columns.\n",
      "        Measured in font-size units.\n",
      "        Default is ``None`` which will take the value from the\n",
      "        ``legend.columnspacing`` :data:`rcParam<matplotlib.rcParams>`.\n",
      "    \n",
      "    handler_map : dict or None\n",
      "        The custom dictionary mapping instances or types to a legend\n",
      "        handler. This `handler_map` updates the default handler map\n",
      "        found at :func:`matplotlib.legend.Legend.get_legend_handler_map`.\n",
      "    \n",
      "    Notes\n",
      "    -----\n",
      "    \n",
      "    Not all kinds of artist are supported by the legend command.\n",
      "    See :ref:`plotting-guide-legend` for details.\n",
      "    \n",
      "    Examples\n",
      "    --------\n",
      "    \n",
      "    .. plot:: mpl_examples/api/legend_demo.py\n",
      "\n"
     ]
    }
   ],
   "source": [
    "help(plt.legend)"
   ]
  },
  {
   "cell_type": "markdown",
   "metadata": {},
   "source": [
    "次は、円グラフです。これは、全体的な割合が各々どれくらいあるのか見るときに使います。pieを使い、それぞれのサイズやラベル等を設定します。axisでグラフの調整をします。autopctでそれぞれの割合を、explodeで特定のカテゴリーだけ、円グラフの全体から離す調整ができます。（ここでは、Hogsを0.1と設定しています。）"
   ]
  },
  {
   "cell_type": "code",
   "execution_count": 7,
   "metadata": {
    "collapsed": false,
    "scrolled": false
   },
   "outputs": [
    {
     "data": {
      "text/plain": [
       "(-1.214, 1.135, -1.126, 1.101)"
      ]
     },
     "execution_count": 7,
     "metadata": {},
     "output_type": "execute_result"
    },
    {
     "data": {
      "image/png": "[encoded data removed]",
      "text/plain": [
       "<matplotlib.figure.Figure at 0x1131bdc50>"
      ]
     },
     "metadata": {},
     "output_type": "display_data"
    }
   ],
   "source": [
    "import matplotlib.pyplot as plt\n",
    "plt.figure(figsize=(5,3),facecolor=\"white\")\n",
    "\n",
    "labels = 'Frogs', 'Hogs', 'Dogs', 'Logs'\n",
    "sizes = [15, 30, 45, 10]\n",
    "colors = ['yellowgreen', 'gold', 'lightskyblue', 'lightcoral']\n",
    "explode = (0, 0.1, 0, 0) \n",
    "\n",
    "# startangleは各要素の出力を開始する角度を表す(反時計回りが正), 向きはcounterclockで指定可能\n",
    "plt.pie(sizes, explode=explode, labels=labels, colors=colors,\n",
    "        autopct='%1.1f%%', shadow=True, startangle=90)\n",
    "plt.axis('equal')"
   ]
  },
  {
   "cell_type": "markdown",
   "metadata": {},
   "source": [
    "pie関数のパラメータについて、helpを使って調べてみましょう。"
   ]
  },
  {
   "cell_type": "code",
   "execution_count": 8,
   "metadata": {
    "collapsed": false,
    "scrolled": true
   },
   "outputs": [
    {
     "name": "stdout",
     "output_type": "stream",
     "text": [
      "Help on function pie in module matplotlib.pyplot:\n",
      "\n",
      "pie(x, explode=None, labels=None, colors=None, autopct=None, pctdistance=0.6, shadow=False, labeldistance=1.1, startangle=None, radius=None, counterclock=True, wedgeprops=None, textprops=None, center=(0, 0), frame=False, hold=None, data=None)\n",
      "    Plot a pie chart.\n",
      "    \n",
      "    Make a pie chart of array *x*.  The fractional area of each\n",
      "    wedge is given by x/sum(x).  If sum(x) <= 1, then the values\n",
      "    of x give the fractional area directly and the array will not\n",
      "    be normalized.  The wedges are plotted counterclockwise,\n",
      "    by default starting from the x-axis.\n",
      "    \n",
      "    Keyword arguments:\n",
      "    \n",
      "      *explode*: [ *None* | len(x) sequence ]\n",
      "        If not *None*, is a ``len(x)`` array which specifies the\n",
      "        fraction of the radius with which to offset each wedge.\n",
      "    \n",
      "      *colors*: [ *None* | color sequence ]\n",
      "        A sequence of matplotlib color args through which the pie chart\n",
      "        will cycle.  If `None`, will use the colors in the currently\n",
      "        active cycle.\n",
      "    \n",
      "      *labels*: [ *None* | len(x) sequence of strings ]\n",
      "        A sequence of strings providing the labels for each wedge\n",
      "    \n",
      "      *autopct*: [ *None* | format string | format function ]\n",
      "        If not *None*, is a string or function used to label the wedges\n",
      "        with their numeric value.  The label will be placed inside the\n",
      "        wedge.  If it is a format string, the label will be ``fmt%pct``.\n",
      "        If it is a function, it will be called.\n",
      "    \n",
      "      *pctdistance*: scalar\n",
      "        The ratio between the center of each pie slice and the\n",
      "        start of the text generated by *autopct*.  Ignored if\n",
      "        *autopct* is *None*; default is 0.6.\n",
      "    \n",
      "      *labeldistance*: scalar\n",
      "        The radial distance at which the pie labels are drawn\n",
      "    \n",
      "      *shadow*: [ *False* | *True* ]\n",
      "        Draw a shadow beneath the pie.\n",
      "    \n",
      "      *startangle*: [ *None* | Offset angle ]\n",
      "        If not *None*, rotates the start of the pie chart by *angle*\n",
      "        degrees counterclockwise from the x-axis.\n",
      "    \n",
      "      *radius*: [ *None* | scalar ]\n",
      "      The radius of the pie, if *radius* is *None* it will be set to 1.\n",
      "    \n",
      "      *counterclock*: [ *False* | *True* ]\n",
      "        Specify fractions direction, clockwise or counterclockwise.\n",
      "    \n",
      "      *wedgeprops*: [ *None* | dict of key value pairs ]\n",
      "        Dict of arguments passed to the wedge objects making the pie.\n",
      "        For example, you can pass in wedgeprops = { 'linewidth' : 3 }\n",
      "        to set the width of the wedge border lines equal to 3.\n",
      "        For more details, look at the doc/arguments of the wedge object.\n",
      "        By default `clip_on=False`.\n",
      "    \n",
      "      *textprops*: [ *None* | dict of key value pairs ]\n",
      "        Dict of arguments to pass to the text objects.\n",
      "    \n",
      "      *center*: [ (0,0) | sequence of 2 scalars ]\n",
      "      Center position of the chart.\n",
      "    \n",
      "      *frame*: [ *False* | *True* ]\n",
      "        Plot axes frame with the chart.\n",
      "    \n",
      "    The pie chart will probably look best if the figure and axes are\n",
      "    square, or the Axes aspect is equal.  e.g.::\n",
      "    \n",
      "      figure(figsize=(8,8))\n",
      "      ax = axes([0.1, 0.1, 0.8, 0.8])\n",
      "    \n",
      "    or::\n",
      "    \n",
      "      axes(aspect=1)\n",
      "    \n",
      "    Return value:\n",
      "      If *autopct* is *None*, return the tuple (*patches*, *texts*):\n",
      "    \n",
      "        - *patches* is a sequence of\n",
      "          :class:`matplotlib.patches.Wedge` instances\n",
      "    \n",
      "        - *texts* is a list of the label\n",
      "          :class:`matplotlib.text.Text` instances.\n",
      "    \n",
      "      If *autopct* is not *None*, return the tuple (*patches*,\n",
      "      *texts*, *autotexts*), where *patches* and *texts* are as\n",
      "      above, and *autotexts* is a list of\n",
      "      :class:`~matplotlib.text.Text` instances for the numeric\n",
      "      labels.\n",
      "    \n",
      "    .. note::\n",
      "        In addition to the above described arguments, this function can take a\n",
      "        **data** keyword argument. If such a **data** argument is given, the\n",
      "        following arguments are replaced by **data[<arg>]**:\n",
      "    \n",
      "        * All arguments with the following names: 'colors', 'explode', 'labels', 'x'.\n",
      "\n"
     ]
    }
   ],
   "source": [
    "help(plt.pie)"
   ]
  },
  {
   "cell_type": "markdown",
   "metadata": {},
   "source": [
    "以下は、scatterを使うことで、バブルチャートを作成しています。"
   ]
  },
  {
   "cell_type": "code",
   "execution_count": 9,
   "metadata": {
    "collapsed": false
   },
   "outputs": [
    {
     "data": {
      "image/png": "[encoded data removed]",
      "text/plain": [
       "<matplotlib.figure.Figure at 0x1132b4eb8>"
      ]
     },
     "metadata": {},
     "output_type": "display_data"
    }
   ],
   "source": [
    "import numpy as np\n",
    "import matplotlib.pyplot as plt\n",
    "plt.figure(figsize=(5,3),facecolor=\"white\")\n",
    "\n",
    "N = 25\n",
    "\n",
    "# X,Y軸\n",
    "x = np.random.rand(N)\n",
    "y = np.random.rand(N)\n",
    "\n",
    "# color番号\n",
    "colors = np.random.rand(N)\n",
    "\n",
    "# バブルの大きさ\n",
    "area = 10 * np.pi * (15 * np.random.rand(N))**2\n",
    "\n",
    "plt.scatter(x, y, s=area, c=colors, alpha=0.5)\n",
    "plt.grid(True)"
   ]
  },
  {
   "cell_type": "markdown",
   "metadata": {},
   "source": [
    "scatter関数のパラメータもhelpを使ってみてみましょう。"
   ]
  },
  {
   "cell_type": "code",
   "execution_count": 10,
   "metadata": {
    "collapsed": false
   },
   "outputs": [
    {
     "name": "stdout",
     "output_type": "stream",
     "text": [
      "Help on function scatter in module matplotlib.pyplot:\n",
      "\n",
      "scatter(x, y, s=None, c=None, marker=None, cmap=None, norm=None, vmin=None, vmax=None, alpha=None, linewidths=None, verts=None, edgecolors=None, hold=None, data=None, **kwargs)\n",
      "    Make a scatter plot of `x` vs `y`\n",
      "    \n",
      "    Marker size is scaled by `s` and marker color is mapped to `c`\n",
      "    \n",
      "    Parameters\n",
      "    ----------\n",
      "    x, y : array_like, shape (n, )\n",
      "        Input data\n",
      "    \n",
      "    s : scalar or array_like, shape (n, ), optional\n",
      "        size in points^2.  Default is `rcParams['lines.markersize'] ** 2`.\n",
      "    \n",
      "    c : color, sequence, or sequence of color, optional, default: 'b'\n",
      "        `c` can be a single color format string, or a sequence of color\n",
      "        specifications of length `N`, or a sequence of `N` numbers to be\n",
      "        mapped to colors using the `cmap` and `norm` specified via kwargs\n",
      "        (see below). Note that `c` should not be a single numeric RGB or\n",
      "        RGBA sequence because that is indistinguishable from an array of\n",
      "        values to be colormapped.  `c` can be a 2-D array in which the\n",
      "        rows are RGB or RGBA, however, including the case of a single\n",
      "        row to specify the same color for all points.\n",
      "    \n",
      "    marker : `~matplotlib.markers.MarkerStyle`, optional, default: 'o'\n",
      "        See `~matplotlib.markers` for more information on the different\n",
      "        styles of markers scatter supports. `marker` can be either\n",
      "        an instance of the class or the text shorthand for a particular\n",
      "        marker.\n",
      "    \n",
      "    cmap : `~matplotlib.colors.Colormap`, optional, default: None\n",
      "        A `~matplotlib.colors.Colormap` instance or registered name.\n",
      "        `cmap` is only used if `c` is an array of floats. If None,\n",
      "        defaults to rc `image.cmap`.\n",
      "    \n",
      "    norm : `~matplotlib.colors.Normalize`, optional, default: None\n",
      "        A `~matplotlib.colors.Normalize` instance is used to scale\n",
      "        luminance data to 0, 1. `norm` is only used if `c` is an array of\n",
      "        floats. If `None`, use the default :func:`normalize`.\n",
      "    \n",
      "    vmin, vmax : scalar, optional, default: None\n",
      "        `vmin` and `vmax` are used in conjunction with `norm` to normalize\n",
      "        luminance data.  If either are `None`, the min and max of the\n",
      "        color array is used.  Note if you pass a `norm` instance, your\n",
      "        settings for `vmin` and `vmax` will be ignored.\n",
      "    \n",
      "    alpha : scalar, optional, default: None\n",
      "        The alpha blending value, between 0 (transparent) and 1 (opaque)\n",
      "    \n",
      "    linewidths : scalar or array_like, optional, default: None\n",
      "        If None, defaults to (lines.linewidth,).\n",
      "    \n",
      "    verts : sequence of (x, y), optional\n",
      "        If `marker` is None, these vertices will be used to\n",
      "        construct the marker.  The center of the marker is located\n",
      "        at (0,0) in normalized units.  The overall marker is rescaled\n",
      "        by ``s``.\n",
      "    \n",
      "    edgecolors : color or sequence of color, optional, default: None\n",
      "        If None, defaults to 'face'\n",
      "    \n",
      "        If 'face', the edge color will always be the same as\n",
      "        the face color.\n",
      "    \n",
      "        If it is 'none', the patch boundary will not\n",
      "        be drawn.\n",
      "    \n",
      "        For non-filled markers, the `edgecolors` kwarg\n",
      "        is ignored and forced to 'face' internally.\n",
      "    \n",
      "    Returns\n",
      "    -------\n",
      "    paths : `~matplotlib.collections.PathCollection`\n",
      "    \n",
      "    Other parameters\n",
      "    ----------------\n",
      "    kwargs : `~matplotlib.collections.Collection` properties\n",
      "    \n",
      "    See Also\n",
      "    --------\n",
      "    plot : to plot scatter plots when markers are identical in size and\n",
      "        color\n",
      "    \n",
      "    Notes\n",
      "    -----\n",
      "    \n",
      "    * The `plot` function will be faster for scatterplots where markers\n",
      "      don't vary in size or color.\n",
      "    \n",
      "    * Any or all of `x`, `y`, `s`, and `c` may be masked arrays, in which\n",
      "      case all masks will be combined and only unmasked points will be\n",
      "      plotted.\n",
      "    \n",
      "      Fundamentally, scatter works with 1-D arrays; `x`, `y`, `s`, and `c`\n",
      "      may be input as 2-D arrays, but within scatter they will be\n",
      "      flattened. The exception is `c`, which will be flattened only if its\n",
      "      size matches the size of `x` and `y`.\n",
      "    \n",
      "    Examples\n",
      "    --------\n",
      "    .. plot:: mpl_examples/shapes_and_collections/scatter_demo.py\n",
      "    \n",
      "    .. note::\n",
      "        In addition to the above described arguments, this function can take a\n",
      "        **data** keyword argument. If such a **data** argument is given, the\n",
      "        following arguments are replaced by **data[<arg>]**:\n",
      "    \n",
      "        * All arguments with the following names: 'c', 'color', 'edgecolors', 'facecolor', 'facecolors', 'linewidths', 's', 'x', 'y'.\n",
      "\n"
     ]
    }
   ],
   "source": [
    "help(plt.scatter)"
   ]
  },
  {
   "cell_type": "markdown",
   "metadata": {},
   "source": [
    "以上で、データの可視化は終了です。なお、pandasにも可視化機能が備わっており、.plot()でグラフ化可能です。具体的には、データの後に.plot(kind=\"bar\")で縦の棒グラフが、kind=\"barh\"で横の棒グラフが、kind=\"pie\"で円グラフを表示できます。必要なときに使ってください。また、本節の練習問題以外にも以前扱ったデータを使って、色々とグラフ化できますので、実際にどのようなグラフができるか、作成してみましょう。"
   ]
  },
  {
   "cell_type": "markdown",
   "metadata": {},
   "source": [
    ">**[やってみよう]**\n",
    "\n",
    ">以下の練習問題以外にもデータを色々とグラフ化してみましょう。どのような目的を持って、どんなグラフを作成しますか?"
   ]
  },
  {
   "cell_type": "markdown",
   "metadata": {},
   "source": [
    "これまでデータの可視化についてPythonの機能を紹介・実行してきました。しかし、データ分析やデータの可視化が注目されている現在、様々なデータ可視化ツール（タブロ、Excel、PowerBIなど）があるため、ビジネスの現場ではそれらを使う場面が多くなっておりPythonや他のプログラミング言語で可視化する機会は減っていきそうな雰囲気はあります。ただし、可視化レポートの自動化、アプリケーションとの連携、可視化の細かい設定等はプログラミングが勝っているケースもあります。そういった用途でデータの可視化を行うときは是非活用してください。"
   ]
  },
  {
   "cell_type": "markdown",
   "metadata": {},
   "source": [
    "#### <練習問題 1>\n",
    "\n",
    "以前扱った学生のデータ（student-mat.csv）を使って、学校を選んだ理由（reason）を円グラフ化して、それぞれの割合を出してください。"
   ]
  },
  {
   "cell_type": "markdown",
   "metadata": {},
   "source": [
    "#### <練習問題 2>\n",
    "\n",
    "上記と同じデータで、higher - 高い教育を受けたいかどうか(binary: yes or no)を軸にして、それぞれの数学の最終成績G3の平均値を棒グラフで表示してください。ここから何か推測できることはありますか？"
   ]
  },
  {
   "cell_type": "markdown",
   "metadata": {},
   "source": [
    "#### <練習問題 3>\n",
    "\n",
    "上記と同じデータで、通学時間（traveltime）を軸にして、それぞれの数学の最終成績G3の平均値を横棒グラフで表示してください。何か推測できることはありますか？"
   ]
  },
  {
   "cell_type": "markdown",
   "metadata": {},
   "source": [
    "### 7.1.2 応用：金融データの可視化\n",
    "キーワード：ローソクチャート"
   ]
  },
  {
   "cell_type": "markdown",
   "metadata": {},
   "source": [
    "ここでは、金融データの可視化について扱っていきます。ただし、応用範囲ですので、スキップしても問題ありません。練習問題もありません。"
   ]
  },
  {
   "cell_type": "markdown",
   "metadata": {},
   "source": [
    "\n",
    ">モジュールplotly が必要なので、これをiLectのコマンドプロント上で実行するか、ここの環境で!pip install plotlyを実行してください。\n",
    "\n",
    "\n",
    ">[参考URL]\n",
    "\n",
    "\n",
    ">http://qiita.com/toyolab/items/db8a1e539d4f995079d5\n",
    "\n"
   ]
  },
  {
   "cell_type": "code",
   "execution_count": 11,
   "metadata": {
    "collapsed": true
   },
   "outputs": [],
   "source": [
    "# 日付データの設定、Tで1分ごとにデータ生成\n",
    "idx = pd.date_range('2015/01/01', '2015/12/31 23:59', freq='T')\n",
    "# 乱数の発生、１か−１\n",
    "dn = np.random.randint(2, size=len(idx))*2-1\n",
    "# ランダムウォーク\n",
    "# np.cumprodは累積積を算出している(1番目の要素 * 2番目の要素 * 3番目の要素 * … と和が累積されていく)\n",
    "rnd_walk = np.cumprod(np.exp(dn*0.0002))*100\n",
    "# Pandas\n",
    "df = pd.Series(rnd_walk, index=idx).resample('B').ohlc()"
   ]
  },
  {
   "cell_type": "markdown",
   "metadata": {},
   "source": [
    "そのままプロットすると以下のようになります。なお、ここではpandasの可視化機能を使っています。"
   ]
  },
  {
   "cell_type": "code",
   "execution_count": 12,
   "metadata": {
    "collapsed": false
   },
   "outputs": [
    {
     "data": {
      "text/plain": [
       "<matplotlib.axes._subplots.AxesSubplot at 0x11339dac8>"
      ]
     },
     "execution_count": 12,
     "metadata": {},
     "output_type": "execute_result"
    },
    {
     "data": {
      "image/png": "[encoded data removed]",
      "text/plain": [
       "<matplotlib.figure.Figure at 0x113033e10>"
      ]
     },
     "metadata": {},
     "output_type": "display_data"
    }
   ],
   "source": [
    "df.plot(figsize=(7,4),legend=\"best\",grid=True)"
   ]
  },
  {
   "cell_type": "markdown",
   "metadata": {},
   "source": [
    "plotlyのツール、ローソクチャート作成を使えば、以下のように綺麗に表示することが可能です。さらにインタラクティブにグラフをズームインしたり、カーソルを載せると、数字が表示され便利です。"
   ]
  },
  {
   "cell_type": "markdown",
   "metadata": {},
   "source": [
    "**なお、以下のコードの結果は、現在のiLect上では見ることができませんので、あらかじめご了承ください。もし実行結果を見たい場合は、画面の左にある「Help→Launch Classic Notebook」で以前のバージョンのNotebookを開いたあと、このChapter7をUploadして実行してください。なお、各コンテンツのChapterはダウンロードすることができます。ダウンロードしたいコンテンツを右クリックすると（Macの場合はcontrolを押しながらクリック）、DownLoadがでてきますので、それでダウンロードできます。**"
   ]
  },
  {
   "cell_type": "code",
   "execution_count": 17,
   "metadata": {
    "collapsed": false,
    "scrolled": true
   },
   "outputs": [
    {
     "data": {
      "text/html": [
       "<script>requirejs.config({paths: { 'plotly': ['https://cdn.plot.ly/plotly-latest.min']},});if(!window.Plotly) {{require(['plotly'],function(plotly) {window.Plotly=plotly;});}}</script>"
      ],
      "text/plain": [
       "<IPython.core.display.HTML object>"
      ]
     },
     "metadata": {},
     "output_type": "display_data"
    },
    {
     "data": {
      "text/html": [
       "<div id=\"43ab884d-249a-412b-9fbb-7c3cf3c81f6a\" style=\"height: 525px; width: 100%;\" class=\"plotly-graph-div\"></div><script type=\"text/javascript\">require([\"plotly\"], function(Plotly) { window.PLOTLYENV=window.PLOTLYENV || {};window.PLOTLYENV.BASE_URL=\"https://plot.ly\";Plotly.newPlot(\"43ab884d-249a-412b-9fbb-7c3cf3c81f6a\", [{\"whiskerwidth\": 0, \"name\": \"Increasing\", \"x\": [\"2015-01-05\", \"2015-01-05\", \"2015-01-05\", \"2015-01-05\", \"2015-01-05\", \"2015-01-05\", \"2015-01-06\", \"2015-01-06\", \"2015-01-06\", \"2015-01-06\", \"2015-01-06\", \"2015-01-06\", \"2015-01-09\", \"2015-01-09\", \"2015-01-09\", \"2015-01-09\", \"2015-01-09\", \"2015-01-09\", \"2015-01-15\", \"2015-01-15\", \"2015-01-15\", \"2015-01-15\", \"2015-01-15\", \"2015-01-15\", \"2015-01-22\", \"2015-01-22\", \"2015-01-22\", \"2015-01-22\", \"2015-01-22\", \"2015-01-22\", \"2015-01-27\", \"2015-01-27\", \"2015-01-27\", \"2015-01-27\", \"2015-01-27\", \"2015-01-27\", \"2015-01-28\", \"2015-01-28\", \"2015-01-28\", \"2015-01-28\", \"2015-01-28\", \"2015-01-28\", \"2015-01-29\", \"2015-01-29\", \"2015-01-29\", \"2015-01-29\", \"2015-01-29\", \"2015-01-29\", \"2015-01-30\", \"2015-01-30\", \"2015-01-30\", \"2015-01-30\", \"2015-01-30\", \"2015-01-30\", \"2015-02-03\", \"2015-02-03\", \"2015-02-03\", \"2015-02-03\", \"2015-02-03\", \"2015-02-03\", \"2015-02-10\", \"2015-02-10\", \"2015-02-10\", \"2015-02-10\", \"2015-02-10\", \"2015-02-10\", \"2015-02-13\", \"2015-02-13\", \"2015-02-13\", \"2015-02-13\", \"2015-02-13\", \"2015-02-13\", \"2015-02-17\", \"2015-02-17\", \"2015-02-17\", \"2015-02-17\", \"2015-02-17\", \"2015-02-17\", \"2015-02-20\", \"2015-02-20\", \"2015-02-20\", \"2015-02-20\", \"2015-02-20\", \"2015-02-20\", \"2015-02-24\", \"2015-02-24\", \"2015-02-24\", \"2015-02-24\", \"2015-02-24\", \"2015-02-24\", \"2015-02-25\", \"2015-02-25\", \"2015-02-25\", \"2015-02-25\", \"2015-02-25\", \"2015-02-25\", \"2015-02-26\", \"2015-02-26\", \"2015-02-26\", \"2015-02-26\", \"2015-02-26\", \"2015-02-26\", \"2015-02-27\", \"2015-02-27\", \"2015-02-27\", \"2015-02-27\", \"2015-02-27\", \"2015-02-27\", \"2015-03-02\", \"2015-03-02\", \"2015-03-02\", \"2015-03-02\", \"2015-03-02\", \"2015-03-02\", \"2015-03-09\", \"2015-03-09\", \"2015-03-09\", \"2015-03-09\", \"2015-03-09\", \"2015-03-09\", \"2015-03-11\", \"2015-03-11\", \"2015-03-11\", \"2015-03-11\", \"2015-03-11\", \"2015-03-11\", \"2015-03-12\", \"2015-03-12\", \"2015-03-12\", \"2015-03-12\", \"2015-03-12\", \"2015-03-12\", \"2015-03-13\", \"2015-03-13\", \"2015-03-13\", \"2015-03-13\", \"2015-03-13\", \"2015-03-13\", \"2015-03-16\", \"2015-03-16\", \"2015-03-16\", \"2015-03-16\", \"2015-03-16\", \"2015-03-16\", \"2015-03-17\", \"2015-03-17\", \"2015-03-17\", \"2015-03-17\", \"2015-03-17\", \"2015-03-17\", \"2015-03-18\", \"2015-03-18\", \"2015-03-18\", \"2015-03-18\", \"2015-03-18\", \"2015-03-18\", \"2015-03-19\", \"2015-03-19\", \"2015-03-19\", \"2015-03-19\", \"2015-03-19\", \"2015-03-19\", \"2015-03-24\", \"2015-03-24\", \"2015-03-24\", \"2015-03-24\", \"2015-03-24\", \"2015-03-24\", \"2015-03-26\", \"2015-03-26\", \"2015-03-26\", \"2015-03-26\", \"2015-03-26\", \"2015-03-26\", \"2015-03-31\", \"2015-03-31\", \"2015-03-31\", \"2015-03-31\", \"2015-03-31\", \"2015-03-31\", \"2015-04-02\", \"2015-04-02\", \"2015-04-02\", \"2015-04-02\", \"2015-04-02\", \"2015-04-02\", \"2015-04-07\", \"2015-04-07\", \"2015-04-07\", \"2015-04-07\", \"2015-04-07\", \"2015-04-07\", \"2015-04-08\", \"2015-04-08\", \"2015-04-08\", \"2015-04-08\", \"2015-04-08\", \"2015-04-08\", \"2015-04-10\", \"2015-04-10\", \"2015-04-10\", \"2015-04-10\", \"2015-04-10\", \"2015-04-10\", \"2015-04-16\", \"2015-04-16\", \"2015-04-16\", \"2015-04-16\", \"2015-04-16\", \"2015-04-16\", \"2015-04-17\", \"2015-04-17\", \"2015-04-17\", \"2015-04-17\", \"2015-04-17\", \"2015-04-17\", \"2015-04-22\", \"2015-04-22\", \"2015-04-22\", \"2015-04-22\", \"2015-04-22\", \"2015-04-22\", \"2015-04-23\", \"2015-04-23\", \"2015-04-23\", \"2015-04-23\", \"2015-04-23\", \"2015-04-23\", \"2015-04-24\", \"2015-04-24\", \"2015-04-24\", \"2015-04-24\", \"2015-04-24\", \"2015-04-24\", \"2015-04-28\", \"2015-04-28\", \"2015-04-28\", \"2015-04-28\", \"2015-04-28\", \"2015-04-28\", \"2015-04-30\", \"2015-04-30\", \"2015-04-30\", \"2015-04-30\", \"2015-04-30\", \"2015-04-30\", \"2015-05-04\", \"2015-05-04\", \"2015-05-04\", \"2015-05-04\", \"2015-05-04\", \"2015-05-04\", \"2015-05-08\", \"2015-05-08\", \"2015-05-08\", \"2015-05-08\", \"2015-05-08\", \"2015-05-08\", \"2015-05-18\", \"2015-05-18\", \"2015-05-18\", \"2015-05-18\", \"2015-05-18\", \"2015-05-18\", \"2015-05-25\", \"2015-05-25\", \"2015-05-25\", \"2015-05-25\", \"2015-05-25\", \"2015-05-25\", \"2015-05-27\", \"2015-05-27\", \"2015-05-27\", \"2015-05-27\", \"2015-05-27\", \"2015-05-27\", \"2015-06-02\", \"2015-06-02\", \"2015-06-02\", \"2015-06-02\", \"2015-06-02\", \"2015-06-02\", \"2015-06-03\", \"2015-06-03\", \"2015-06-03\", \"2015-06-03\", \"2015-06-03\", \"2015-06-03\", \"2015-06-04\", \"2015-06-04\", \"2015-06-04\", \"2015-06-04\", \"2015-06-04\", \"2015-06-04\", \"2015-06-09\", \"2015-06-09\", \"2015-06-09\", \"2015-06-09\", \"2015-06-09\", \"2015-06-09\", \"2015-06-10\", \"2015-06-10\", \"2015-06-10\", \"2015-06-10\", \"2015-06-10\", \"2015-06-10\", \"2015-06-15\", \"2015-06-15\", \"2015-06-15\", \"2015-06-15\", \"2015-06-15\", \"2015-06-15\", \"2015-06-17\", \"2015-06-17\", \"2015-06-17\", \"2015-06-17\", \"2015-06-17\", \"2015-06-17\", \"2015-06-25\", \"2015-06-25\", \"2015-06-25\", \"2015-06-25\", \"2015-06-25\", \"2015-06-25\", \"2015-07-02\", \"2015-07-02\", \"2015-07-02\", \"2015-07-02\", \"2015-07-02\", \"2015-07-02\", \"2015-07-03\", \"2015-07-03\", \"2015-07-03\", \"2015-07-03\", \"2015-07-03\", \"2015-07-03\", \"2015-07-08\", \"2015-07-08\", \"2015-07-08\", \"2015-07-08\", \"2015-07-08\", \"2015-07-08\", \"2015-07-10\", \"2015-07-10\", \"2015-07-10\", \"2015-07-10\", \"2015-07-10\", \"2015-07-10\", \"2015-07-13\", \"2015-07-13\", \"2015-07-13\", \"2015-07-13\", \"2015-07-13\", \"2015-07-13\", \"2015-07-15\", \"2015-07-15\", \"2015-07-15\", \"2015-07-15\", \"2015-07-15\", \"2015-07-15\", \"2015-07-23\", \"2015-07-23\", \"2015-07-23\", \"2015-07-23\", \"2015-07-23\", \"2015-07-23\", \"2015-07-24\", \"2015-07-24\", \"2015-07-24\", \"2015-07-24\", \"2015-07-24\", \"2015-07-24\", \"2015-08-07\", \"2015-08-07\", \"2015-08-07\", \"2015-08-07\", \"2015-08-07\", \"2015-08-07\", \"2015-08-13\", \"2015-08-13\", \"2015-08-13\", \"2015-08-13\", \"2015-08-13\", \"2015-08-13\", \"2015-08-17\", \"2015-08-17\", \"2015-08-17\", \"2015-08-17\", \"2015-08-17\", \"2015-08-17\", \"2015-08-18\", \"2015-08-18\", \"2015-08-18\", \"2015-08-18\", \"2015-08-18\", \"2015-08-18\", \"2015-08-20\", \"2015-08-20\", \"2015-08-20\", \"2015-08-20\", \"2015-08-20\", \"2015-08-20\", \"2015-08-25\", \"2015-08-25\", \"2015-08-25\", \"2015-08-25\", \"2015-08-25\", \"2015-08-25\", \"2015-08-31\", \"2015-08-31\", \"2015-08-31\", \"2015-08-31\", \"2015-08-31\", \"2015-08-31\", \"2015-09-04\", \"2015-09-04\", \"2015-09-04\", \"2015-09-04\", \"2015-09-04\", \"2015-09-04\", \"2015-09-10\", \"2015-09-10\", \"2015-09-10\", \"2015-09-10\", \"2015-09-10\", \"2015-09-10\", \"2015-09-11\", \"2015-09-11\", \"2015-09-11\", \"2015-09-11\", \"2015-09-11\", \"2015-09-11\", \"2015-09-14\", \"2015-09-14\", \"2015-09-14\", \"2015-09-14\", \"2015-09-14\", \"2015-09-14\", \"2015-09-15\", \"2015-09-15\", \"2015-09-15\", \"2015-09-15\", \"2015-09-15\", \"2015-09-15\", \"2015-09-16\", \"2015-09-16\", \"2015-09-16\", \"2015-09-16\", \"2015-09-16\", \"2015-09-16\", \"2015-09-18\", \"2015-09-18\", \"2015-09-18\", \"2015-09-18\", \"2015-09-18\", \"2015-09-18\", \"2015-09-22\", \"2015-09-22\", \"2015-09-22\", \"2015-09-22\", \"2015-09-22\", \"2015-09-22\", \"2015-09-23\", \"2015-09-23\", \"2015-09-23\", \"2015-09-23\", \"2015-09-23\", \"2015-09-23\", \"2015-09-24\", \"2015-09-24\", \"2015-09-24\", \"2015-09-24\", \"2015-09-24\", \"2015-09-24\", \"2015-09-30\", \"2015-09-30\", \"2015-09-30\", \"2015-09-30\", \"2015-09-30\", \"2015-09-30\", \"2015-10-05\", \"2015-10-05\", \"2015-10-05\", \"2015-10-05\", \"2015-10-05\", \"2015-10-05\", \"2015-10-06\", \"2015-10-06\", \"2015-10-06\", \"2015-10-06\", \"2015-10-06\", \"2015-10-06\", \"2015-10-08\", \"2015-10-08\", \"2015-10-08\", \"2015-10-08\", \"2015-10-08\", \"2015-10-08\", \"2015-10-12\", \"2015-10-12\", \"2015-10-12\", \"2015-10-12\", \"2015-10-12\", \"2015-10-12\", \"2015-10-13\", \"2015-10-13\", \"2015-10-13\", \"2015-10-13\", \"2015-10-13\", \"2015-10-13\", \"2015-10-21\", \"2015-10-21\", \"2015-10-21\", \"2015-10-21\", \"2015-10-21\", \"2015-10-21\", \"2015-10-26\", \"2015-10-26\", \"2015-10-26\", \"2015-10-26\", \"2015-10-26\", \"2015-10-26\", \"2015-10-27\", \"2015-10-27\", \"2015-10-27\", \"2015-10-27\", \"2015-10-27\", \"2015-10-27\", \"2015-10-28\", \"2015-10-28\", \"2015-10-28\", \"2015-10-28\", \"2015-10-28\", \"2015-10-28\", \"2015-10-30\", \"2015-10-30\", \"2015-10-30\", \"2015-10-30\", \"2015-10-30\", \"2015-10-30\", \"2015-11-04\", \"2015-11-04\", \"2015-11-04\", \"2015-11-04\", \"2015-11-04\", \"2015-11-04\", \"2015-11-06\", \"2015-11-06\", \"2015-11-06\", \"2015-11-06\", \"2015-11-06\", \"2015-11-06\", \"2015-11-09\", \"2015-11-09\", \"2015-11-09\", \"2015-11-09\", \"2015-11-09\", \"2015-11-09\", \"2015-11-10\", \"2015-11-10\", \"2015-11-10\", \"2015-11-10\", \"2015-11-10\", \"2015-11-10\", \"2015-11-11\", \"2015-11-11\", \"2015-11-11\", \"2015-11-11\", \"2015-11-11\", \"2015-11-11\", \"2015-11-12\", \"2015-11-12\", \"2015-11-12\", \"2015-11-12\", \"2015-11-12\", \"2015-11-12\", \"2015-11-17\", \"2015-11-17\", \"2015-11-17\", \"2015-11-17\", \"2015-11-17\", \"2015-11-17\", \"2015-11-18\", \"2015-11-18\", \"2015-11-18\", \"2015-11-18\", \"2015-11-18\", \"2015-11-18\", \"2015-11-25\", \"2015-11-25\", \"2015-11-25\", \"2015-11-25\", \"2015-11-25\", \"2015-11-25\", \"2015-11-26\", \"2015-11-26\", \"2015-11-26\", \"2015-11-26\", \"2015-11-26\", \"2015-11-26\", \"2015-11-27\", \"2015-11-27\", \"2015-11-27\", \"2015-11-27\", \"2015-11-27\", \"2015-11-27\", \"2015-11-30\", \"2015-11-30\", \"2015-11-30\", \"2015-11-30\", \"2015-11-30\", \"2015-11-30\", \"2015-12-01\", \"2015-12-01\", \"2015-12-01\", \"2015-12-01\", \"2015-12-01\", \"2015-12-01\", \"2015-12-03\", \"2015-12-03\", \"2015-12-03\", \"2015-12-03\", \"2015-12-03\", \"2015-12-03\", \"2015-12-10\", \"2015-12-10\", \"2015-12-10\", \"2015-12-10\", \"2015-12-10\", \"2015-12-10\", \"2015-12-11\", \"2015-12-11\", \"2015-12-11\", \"2015-12-11\", \"2015-12-11\", \"2015-12-11\", \"2015-12-14\", \"2015-12-14\", \"2015-12-14\", \"2015-12-14\", \"2015-12-14\", \"2015-12-14\", \"2015-12-17\", \"2015-12-17\", \"2015-12-17\", \"2015-12-17\", \"2015-12-17\", \"2015-12-17\", \"2015-12-18\", \"2015-12-18\", \"2015-12-18\", \"2015-12-18\", \"2015-12-18\", \"2015-12-18\", \"2015-12-21\", \"2015-12-21\", \"2015-12-21\", \"2015-12-21\", \"2015-12-21\", \"2015-12-21\", \"2015-12-22\", \"2015-12-22\", \"2015-12-22\", \"2015-12-22\", \"2015-12-22\", \"2015-12-22\", \"2015-12-24\", \"2015-12-24\", \"2015-12-24\", \"2015-12-24\", \"2015-12-24\", \"2015-12-24\", \"2015-12-25\", \"2015-12-25\", \"2015-12-25\", \"2015-12-25\", \"2015-12-25\", \"2015-12-25\", \"2015-12-30\", \"2015-12-30\", \"2015-12-30\", \"2015-12-30\", \"2015-12-30\", \"2015-12-30\", \"2015-12-31\", \"2015-12-31\", \"2015-12-31\", \"2015-12-31\", \"2015-12-31\", \"2015-12-31\"], \"y\": [97.74579558167724, 97.92189645696415, 98.21610323585321, 98.21610323585321, 98.21610323585321, 98.70841350205052, 97.35559332414093, 98.19646197939717, 98.6097544263141, 98.6097544263141, 98.6097544263141, 98.74790476518284, 97.37506639006085, 97.570011402872, 98.45210497245274, 98.45210497245274, 98.45210497245274, 99.6406472231499, 95.23715849700136, 95.79113900676911, 96.04052002302868, 96.04052002302868, 96.04052002302868, 96.25204175567114, 92.42247509129746, 92.6630861854127, 93.0158757886445, 93.0158757886445, 93.0158757886445, 93.0158757886445, 91.74107307257448, 92.14562315159239, 92.5334486322402, 92.5334486322402, 92.5334486322402, 92.94149284517917, 92.18248877349534, 92.51494379305935, 92.75579561861991, 92.75579561861991, 92.75579561861991, 92.8857446756007, 92.47794521575656, 92.73724631448843, 92.9786768786385, 92.9786768786385, 92.9786768786385, 93.46342525187612, 91.90635571387486, 92.96008300271234, 93.3140033408962, 93.3140033408962, 93.3140033408962, 93.51952013382564, 91.83286003151454, 92.03511472216293, 92.31163463881936, 92.31163463881936, 92.31163463881936, 92.58898536080183, 87.51149761015368, 88.03814495791437, 89.04752232992671, 89.04752232992671, 89.04752232992671, 89.04752232992671, 87.56402026395779, 88.46174387782565, 88.72752758569634, 88.72752758569634, 88.72752758569634, 88.83406452817908, 88.267341961831, 88.35565345217582, 88.40868275145033, 88.40868275145033, 88.40868275145033, 88.79853800815296, 86.83156312061834, 87.23190839916498, 87.87981883331159, 87.87981883331159, 87.87981883331159, 88.30265596096892, 87.56402026400369, 87.86224462702727, 88.19675632631323, 88.19675632631323, 88.19675632631323, 88.46174387787575, 87.35411859812493, 88.21439744163125, 88.4794379960116, 88.4794379960116, 88.4794379960116, 88.49713565331754, 88.4263662563281, 88.4617438778832, 89.33293081147671, 89.33293081147671, 89.33293081147671, 89.3865466531076, 88.88738096027615, 89.31506601185394, 90.3390835744238, 90.3390835744238, 90.3390835744238, 90.62863167173641, 90.24878964533859, 90.32101756437014, 91.17403804467237, 91.17403804467237, 91.17403804467237, 91.52115850040593, 89.74480888654249, 89.88851551540614, 91.06469481809951, 91.06469481809951, 91.06469481809951, 91.21051495480941, 89.9964464796597, 89.9964464796597, 90.59238746842864, 90.59238746842864, 90.59238746842864, 91.06469481810792, 90.55615775986604, 90.57427080266191, 90.95548272469296, 90.95548272469296, 90.95548272469296, 91.75942312232961, 90.62863167177878, 90.93729344713641, 92.64455542155032, 92.64455542155032, 92.64455542155032, 93.20209369628351, 92.51494379326992, 92.66308618564928, 93.31400334108774, 93.31400334108774, 93.31400334108774, 93.57564868297898, 93.25803173224509, 93.29534240657517, 94.1011423245166, 94.1011423245166, 94.1011423245166, 94.42163072997053, 93.9507008820503, 94.08232397794907, 94.21413147524287, 94.21413147524287, 94.21413147524287, 94.7242639031417, 93.89434736926694, 94.19529053310484, 94.74321065054035, 94.74321065054035, 94.74321065054035, 95.02786705360413, 92.62602836327012, 92.70015883419548, 94.47830070773513, 94.47830070773513, 94.47830070773513, 94.62958698561513, 93.03448082452283, 93.51952013405905, 93.6130864295487, 93.6130864295487, 93.6130864295487, 94.1576199515439, 90.82823414375001, 91.4113989792083, 91.6860449391055, 91.6860449391055, 91.6860449391055, 91.9615160740209, 90.68302516728687, 90.90092580385978, 92.49644265476745, 92.49644265476745, 92.49644265476745, 92.5149437933506, 90.01444756912505, 90.1405560510607, 91.13757572256036, 91.13757572256036, 91.13757572256036, 91.15580506057772, 91.10112798230537, 91.1558050605779, 92.60750501006804, 92.60750501006804, 92.60750501006804, 92.62602836334362, 91.72272669298417, 91.85122844058901, 92.38551349443507, 92.38551349443507, 92.38551349443507, 93.07170206067784, 89.60133200460263, 89.70891814178006, 90.15858596524407, 90.15858596524407, 90.15858596524407, 90.70116358616409, 89.5117754583396, 90.17661948572908, 90.19465661329401, 90.19465661329401, 90.19465661329401, 90.75560061380399, 89.51177545836416, 89.52967960381069, 90.05046055034039, 90.05046055034039, 90.05046055034039, 90.61050775807752, 89.99644647985178, 90.06847244357974, 91.39311852762722, 91.39311852762722, 91.39311852762722, 91.7777768424565, 91.26525768516234, 91.37484173166223, 92.75579561901924, 92.75579561901924, 92.75579561901924, 92.7743486333825, 91.79613423352554, 92.21936914498961, 92.27471736928766, 92.27471736928766, 92.27471736928766, 92.53344863265033, 91.46626227607763, 92.07193613222826, 92.09035236102036, 92.09035236102036, 92.09035236102036, 92.38551349451511, 89.63717970654946, 90.06847244362783, 90.30295516743548, 90.30295516743548, 90.30295516743548, 90.6648903759404, 86.7968374412893, 87.89739655510387, 88.05575434817318, 88.05575434817318, 88.05575434817318, 88.55024986769338, 84.31587695413347, 84.55229223654226, 85.0101096090337, 85.0101096090337, 85.0101096090337, 85.06113097967967, 83.4268488317484, 83.47691996088396, 84.63688681905259, 84.63688681905259, 84.63688681905259, 84.78937040938729, 84.61996113431805, 84.6538158892711, 85.38497819745695, 85.38497819745695, 85.38497819745695, 85.79581130345882, 84.0801227086954, 84.24845122651809, 84.704623419569, 84.704623419569, 84.704623419569, 84.87420218865077, 84.61996113434748, 84.72156603845833, 85.01010960909969, 85.01010960909969, 85.01010960909969, 85.36790290943084, 84.97611236515817, 84.99310928726672, 85.24847146688117, 85.24847146688117, 85.24847146688117, 85.74434925686738, 84.68768418889124, 84.72156603848472, 85.316697530863, 85.316697530863, 85.316697530863, 85.7100583758214, 84.94212871742317, 85.29963589757702, 85.35083103612503, 85.35083103612503, 85.35083103612503, 85.64151774903092, 83.96249289703897, 84.28215734783792, 84.29901546506704, 84.29901546506704, 84.29901546506704, 85.01010960914734, 83.8450276518468, 83.97928707498593, 85.45331351058618, 85.45331351058618, 85.45331351058618, 85.53880956499928, 82.96096417297382, 83.44353587028905, 83.46022624644897, 83.46022624644897, 83.46022624644897, 83.82826032313983, 80.83177846153085, 80.88029208123743, 81.28570623241423, 81.28570623241423, 81.28570623241423, 81.54623711945472, 80.91265066936151, 81.30196499948323, 82.1026411616169, 82.1026411616169, 82.1026411616169, 82.76209659555073, 80.54130722103537, 80.88029208126183, 81.22070367194175, 81.22070367194175, 81.22070367194175, 81.33449229052967, 79.89954722597736, 80.26793177809418, 80.28398696992657, 80.28398696992657, 80.28398696992657, 80.99360378987373, 80.02748882753102, 80.2679317781053, 80.57353018810852, 80.57353018810852, 80.57353018810852, 80.73483850302684, 80.21978546438653, 80.49299693126476, 80.70255102556484, 80.70255102556484, 80.70255102556484, 80.88029208129215, 76.4907781110464, 76.56730714729814, 77.07432268528476, 77.07432268528476, 77.07432268528476, 77.55366792066087, 76.27690349653544, 77.08973909141105, 77.5381587380587, 77.5381587380587, 77.5381587380587, 77.64678818316045, 74.90122054107124, 75.2315120198277, 75.36705068968371, 75.36705068968371, 75.36705068968371, 75.79029013792483, 72.87678847125308, 73.44745010846093, 73.69759644663432, 73.69759644663432, 73.69759644663432, 73.80084533902024, 73.46214106754461, 73.62393568671693, 74.76651961133904, 74.76651961133904, 74.76651961133904, 74.76651961133904, 74.27468542009431, 74.75156780264747, 74.76651961134169, 74.76651961134169, 74.76651961134169, 74.961165492325, 74.2301339756149, 74.33412894267185, 74.3489972552445, 74.3489972552445, 74.3489972552445, 74.88624179493013, 73.19815282367465, 73.21279391830004, 73.81560698424418, 73.81560698424418, 73.81560698424418, 74.25983196842782, 70.38429711918941, 70.65226626716596, 70.9780153404629, 70.9780153404629, 70.9780153404629, 70.9780153404629, 69.25325766120568, 69.80950574818941, 70.24366919976842, 70.24366919976842, 70.24366919976842, 70.52520657593554, 68.86652328524153, 69.0043941567263, 69.76763260796346, 69.76763260796346, 69.76763260796346, 69.94926447184778, 68.99059465789841, 69.78158752993073, 70.29988661912428, 70.29988661912428, 70.29988661912428, 70.72295387139147, 70.15942735197298, 70.28582804770446, 70.77955487187766, 70.77955487187766, 70.77955487187766, 70.90707280235465, 70.24366919980064, 70.76540037640002, 70.89289280584495, 70.89289280584495, 70.89289280584495, 70.9070728023585, 70.63813722692205, 70.9070728023585, 71.97869597533617, 71.97869597533617, 71.97869597533617, 72.02189615167809, 71.37660724210653, 71.41944605680851, 72.49881275989522, 72.49881275989522, 72.49881275989522, 72.5133139725201, 71.993093154219, 71.993093154219, 72.49881275990116, 72.49881275990116, 72.49881275990116, 72.71663576932757, 72.06512225592493, 72.51331397252606, 72.76027884240537, 72.76027884240537, 72.76027884240537, 72.86221457114524, 71.92113604562338, 72.74572824174545, 72.78938877554441, 72.78938877554441, 72.78938877554441, 72.83307551351716, 69.50301868898656, 69.67002626276275, 70.0192487226833, 70.0192487226833, 70.0192487226833, 70.14539686965617, 69.21171816980976, 69.5030186890015, 69.68396166152921, 69.68396166152921, 69.68396166152921, 69.99124662400317, 69.67002626278341, 69.69789984763366, 70.07528653381802, 70.07528653381802, 70.07528653381802, 70.35614903046293, 69.93527601793961, 69.94926447194196, 71.46231058258721, 71.46231058258721, 71.46231058258721, 71.60537822370392, 70.59576705699652, 70.76540037649212, 70.92125563524678, 70.92125563524678, 70.92125563524678, 71.26249598394992, 70.85036982842216, 70.93544130489352, 71.2910066841079, 71.2910066841079, 71.2910066841079, 71.36233334817975, 68.67396672517064, 68.72892788008133, 69.01819641588123, 69.01819641588123, 69.01819641588123, 69.55864335090752, 68.48194856922947, 68.61904952161979, 68.9354242534332, 68.9354242534332, 68.9354242534332, 69.05961975951055, 68.79769118390787, 68.92163854719908, 69.07343306475165, 69.07343306475165, 69.07343306475165, 69.3780257828064, 68.81145209819435, 69.08724913292538, 69.12871392060008, 69.12871392060008, 69.12871392060008, 69.51692068297547, 68.37246506169743, 68.6465026316979, 68.88029796750249, 68.88029796750249, 68.88029796750249, 69.55864335094465, 68.09952145260446, 68.59160739063019, 68.96300393872951, 68.96300393872951, 68.96300393872951, 69.03200143566671, 68.39981951826502, 68.56417623427653, 69.48911947534762, 69.48911947534762, 69.48911947534762, 70.10332225530811, 69.19787721043382, 69.47522304114229, 69.76763260816718, 69.76763260816718, 69.76763260816718, 70.15942735216522, 69.7118408217708, 69.78158753013449, 70.41245646977772, 70.41245646977772, 70.41245646977772, 70.59576705709722, 70.243669199992, 70.39837538663902, 70.9780153407124, 70.9780153407124, 70.9780153407124, 71.06324008374007, 70.76540037659771, 70.9922123634355, 71.51950330521021, 71.51950330521021, 71.51950330521021, 71.60537822382257, 70.243669200014, 70.37022166762277, 70.55342230158449, 70.55342230158449, 70.55342230158449, 70.65226626743825, 70.45471662046138, 70.56753439720734, 71.06324008376465, 71.06324008376465, 71.06324008376465, 71.17703227737715, 68.41350085031853, 68.53675604824822, 68.90785559792538, 68.90785559792538, 68.90785559792538, 69.0872491330168, 68.82521576502445, 68.92163854729397, 70.1313691932902, 70.1313691932902, 70.1313691932902, 70.25771933885426, 69.96325572408497, 70.14539686984975, 70.41245646984342, 70.41245646984342, 70.41245646984342, 71.02061492857528, 70.08930299290711, 70.4265403694804, 71.23399668596679, 71.23399668596679, 71.23399668596679, 71.23399668596679, 70.85036982859073, 71.21975131121455, 71.37660724236221, 71.37660724236221, 71.37660724236221, 71.59105858025725, 70.56753439725975, 70.96382115718265, 70.97801534078837, 70.97801534078837, 70.97801534078837, 71.20550878526126, 69.43355041046365, 69.64216382535452, 69.68396166175027, 69.68396166175027, 69.68396166175027, 70.01924872292032, 69.58647237385512, 69.69789984785477, 70.69467034724026, 70.69467034724026, 70.69467034724026, 70.93544130510627, 70.62401101244869, 70.70881069529739, 71.14856715796016, 71.14856715796016, 71.14856715796016, 71.23399668601463, 69.58647237387069, 70.06127287816322, 70.10332225544559, 70.10332225544559, 70.10332225544559, 70.31394800286293, 69.4057825442701, 70.08930299296749, 70.60988762265859, 70.60988762265859, 70.60988762265859, 70.66639813394696, 70.2858280480417, 70.59576705723768, 70.89289280618016, 70.89289280618016, 70.89289280618016, 71.23399668604155, 70.8362011716126, 70.90707280269378, 71.49090122482887, 71.49090122482887, 71.49090122482887, 71.74873228669182, 71.06324008388937, 71.4480195498866, 71.74873228669908, 71.74873228669908, 71.74873228669908, 71.94991025482007, 71.36233334843487, 71.76308346822674, 72.4408369034666, 72.4408369034666, 72.4408369034666, 72.76027884274178, 71.61970073183717, 71.70569595953255, 72.29610001480339, 72.29610001480339, 72.29610001480339, 72.35396003573771, 71.63402610447781, 72.31056068082475, 72.35396003574138, 72.35396003574138, 72.35396003574138, 72.48431444758043], \"type\": \"box\", \"line\": {\"color\": \"#3D9970\"}, \"fillcolor\": \"#3D9970\", \"boxpoints\": false, \"showlegend\": false}, {\"whiskerwidth\": 0, \"name\": \"Decreasing\", \"x\": [\"2015-01-01\", \"2015-01-01\", \"2015-01-01\", \"2015-01-01\", \"2015-01-01\", \"2015-01-01\", \"2015-01-02\", \"2015-01-02\", \"2015-01-02\", \"2015-01-02\", \"2015-01-02\", \"2015-01-02\", \"2015-01-07\", \"2015-01-07\", \"2015-01-07\", \"2015-01-07\", \"2015-01-07\", \"2015-01-07\", \"2015-01-08\", \"2015-01-08\", \"2015-01-08\", \"2015-01-08\", \"2015-01-08\", \"2015-01-08\", \"2015-01-12\", \"2015-01-12\", \"2015-01-12\", \"2015-01-12\", \"2015-01-12\", \"2015-01-12\", \"2015-01-13\", \"2015-01-13\", \"2015-01-13\", \"2015-01-13\", \"2015-01-13\", \"2015-01-13\", \"2015-01-14\", \"2015-01-14\", \"2015-01-14\", \"2015-01-14\", \"2015-01-14\", \"2015-01-14\", \"2015-01-16\", \"2015-01-16\", \"2015-01-16\", \"2015-01-16\", \"2015-01-16\", \"2015-01-16\", \"2015-01-19\", \"2015-01-19\", \"2015-01-19\", \"2015-01-19\", \"2015-01-19\", \"2015-01-19\", \"2015-01-20\", \"2015-01-20\", \"2015-01-20\", \"2015-01-20\", \"2015-01-20\", \"2015-01-20\", \"2015-01-21\", \"2015-01-21\", \"2015-01-21\", \"2015-01-21\", \"2015-01-21\", \"2015-01-21\", \"2015-01-23\", \"2015-01-23\", \"2015-01-23\", \"2015-01-23\", \"2015-01-23\", \"2015-01-23\", \"2015-01-26\", \"2015-01-26\", \"2015-01-26\", \"2015-01-26\", \"2015-01-26\", \"2015-01-26\", \"2015-02-02\", \"2015-02-02\", \"2015-02-02\", \"2015-02-02\", \"2015-02-02\", \"2015-02-02\", \"2015-02-04\", \"2015-02-04\", \"2015-02-04\", \"2015-02-04\", \"2015-02-04\", \"2015-02-04\", \"2015-02-05\", \"2015-02-05\", \"2015-02-05\", \"2015-02-05\", \"2015-02-05\", \"2015-02-05\", \"2015-02-06\", \"2015-02-06\", \"2015-02-06\", \"2015-02-06\", \"2015-02-06\", \"2015-02-06\", \"2015-02-09\", \"2015-02-09\", \"2015-02-09\", \"2015-02-09\", \"2015-02-09\", \"2015-02-09\", \"2015-02-11\", \"2015-02-11\", \"2015-02-11\", \"2015-02-11\", \"2015-02-11\", \"2015-02-11\", \"2015-02-12\", \"2015-02-12\", \"2015-02-12\", \"2015-02-12\", \"2015-02-12\", \"2015-02-12\", \"2015-02-16\", \"2015-02-16\", \"2015-02-16\", \"2015-02-16\", \"2015-02-16\", \"2015-02-16\", \"2015-02-18\", \"2015-02-18\", \"2015-02-18\", \"2015-02-18\", \"2015-02-18\", \"2015-02-18\", \"2015-02-19\", \"2015-02-19\", \"2015-02-19\", \"2015-02-19\", \"2015-02-19\", \"2015-02-19\", \"2015-02-23\", \"2015-02-23\", \"2015-02-23\", \"2015-02-23\", \"2015-02-23\", \"2015-02-23\", \"2015-03-03\", \"2015-03-03\", \"2015-03-03\", \"2015-03-03\", \"2015-03-03\", \"2015-03-03\", \"2015-03-04\", \"2015-03-04\", \"2015-03-04\", \"2015-03-04\", \"2015-03-04\", \"2015-03-04\", \"2015-03-05\", \"2015-03-05\", \"2015-03-05\", \"2015-03-05\", \"2015-03-05\", \"2015-03-05\", \"2015-03-06\", \"2015-03-06\", \"2015-03-06\", \"2015-03-06\", \"2015-03-06\", \"2015-03-06\", \"2015-03-10\", \"2015-03-10\", \"2015-03-10\", \"2015-03-10\", \"2015-03-10\", \"2015-03-10\", \"2015-03-20\", \"2015-03-20\", \"2015-03-20\", \"2015-03-20\", \"2015-03-20\", \"2015-03-20\", \"2015-03-23\", \"2015-03-23\", \"2015-03-23\", \"2015-03-23\", \"2015-03-23\", \"2015-03-23\", \"2015-03-25\", \"2015-03-25\", \"2015-03-25\", \"2015-03-25\", \"2015-03-25\", \"2015-03-25\", \"2015-03-27\", \"2015-03-27\", \"2015-03-27\", \"2015-03-27\", \"2015-03-27\", \"2015-03-27\", \"2015-03-30\", \"2015-03-30\", \"2015-03-30\", \"2015-03-30\", \"2015-03-30\", \"2015-03-30\", \"2015-04-01\", \"2015-04-01\", \"2015-04-01\", \"2015-04-01\", \"2015-04-01\", \"2015-04-01\", \"2015-04-03\", \"2015-04-03\", \"2015-04-03\", \"2015-04-03\", \"2015-04-03\", \"2015-04-03\", \"2015-04-06\", \"2015-04-06\", \"2015-04-06\", \"2015-04-06\", \"2015-04-06\", \"2015-04-06\", \"2015-04-09\", \"2015-04-09\", \"2015-04-09\", \"2015-04-09\", \"2015-04-09\", \"2015-04-09\", \"2015-04-13\", \"2015-04-13\", \"2015-04-13\", \"2015-04-13\", \"2015-04-13\", \"2015-04-13\", \"2015-04-14\", \"2015-04-14\", \"2015-04-14\", \"2015-04-14\", \"2015-04-14\", \"2015-04-14\", \"2015-04-15\", \"2015-04-15\", \"2015-04-15\", \"2015-04-15\", \"2015-04-15\", \"2015-04-15\", \"2015-04-20\", \"2015-04-20\", \"2015-04-20\", \"2015-04-20\", \"2015-04-20\", \"2015-04-20\", \"2015-04-21\", \"2015-04-21\", \"2015-04-21\", \"2015-04-21\", \"2015-04-21\", \"2015-04-21\", \"2015-04-27\", \"2015-04-27\", \"2015-04-27\", \"2015-04-27\", \"2015-04-27\", \"2015-04-27\", \"2015-04-29\", \"2015-04-29\", \"2015-04-29\", \"2015-04-29\", \"2015-04-29\", \"2015-04-29\", \"2015-05-01\", \"2015-05-01\", \"2015-05-01\", \"2015-05-01\", \"2015-05-01\", \"2015-05-01\", \"2015-05-05\", \"2015-05-05\", \"2015-05-05\", \"2015-05-05\", \"2015-05-05\", \"2015-05-05\", \"2015-05-06\", \"2015-05-06\", \"2015-05-06\", \"2015-05-06\", \"2015-05-06\", \"2015-05-06\", \"2015-05-07\", \"2015-05-07\", \"2015-05-07\", \"2015-05-07\", \"2015-05-07\", \"2015-05-07\", \"2015-05-11\", \"2015-05-11\", \"2015-05-11\", \"2015-05-11\", \"2015-05-11\", \"2015-05-11\", \"2015-05-12\", \"2015-05-12\", \"2015-05-12\", \"2015-05-12\", \"2015-05-12\", \"2015-05-12\", \"2015-05-13\", \"2015-05-13\", \"2015-05-13\", \"2015-05-13\", \"2015-05-13\", \"2015-05-13\", \"2015-05-14\", \"2015-05-14\", \"2015-05-14\", \"2015-05-14\", \"2015-05-14\", \"2015-05-14\", \"2015-05-15\", \"2015-05-15\", \"2015-05-15\", \"2015-05-15\", \"2015-05-15\", \"2015-05-15\", \"2015-05-19\", \"2015-05-19\", \"2015-05-19\", \"2015-05-19\", \"2015-05-19\", \"2015-05-19\", \"2015-05-20\", \"2015-05-20\", \"2015-05-20\", \"2015-05-20\", \"2015-05-20\", \"2015-05-20\", \"2015-05-21\", \"2015-05-21\", \"2015-05-21\", \"2015-05-21\", \"2015-05-21\", \"2015-05-21\", \"2015-05-22\", \"2015-05-22\", \"2015-05-22\", \"2015-05-22\", \"2015-05-22\", \"2015-05-22\", \"2015-05-26\", \"2015-05-26\", \"2015-05-26\", \"2015-05-26\", \"2015-05-26\", \"2015-05-26\", \"2015-05-28\", \"2015-05-28\", \"2015-05-28\", \"2015-05-28\", \"2015-05-28\", \"2015-05-28\", \"2015-05-29\", \"2015-05-29\", \"2015-05-29\", \"2015-05-29\", \"2015-05-29\", \"2015-05-29\", \"2015-06-01\", \"2015-06-01\", \"2015-06-01\", \"2015-06-01\", \"2015-06-01\", \"2015-06-01\", \"2015-06-05\", \"2015-06-05\", \"2015-06-05\", \"2015-06-05\", \"2015-06-05\", \"2015-06-05\", \"2015-06-08\", \"2015-06-08\", \"2015-06-08\", \"2015-06-08\", \"2015-06-08\", \"2015-06-08\", \"2015-06-11\", \"2015-06-11\", \"2015-06-11\", \"2015-06-11\", \"2015-06-11\", \"2015-06-11\", \"2015-06-12\", \"2015-06-12\", \"2015-06-12\", \"2015-06-12\", \"2015-06-12\", \"2015-06-12\", \"2015-06-16\", \"2015-06-16\", \"2015-06-16\", \"2015-06-16\", \"2015-06-16\", \"2015-06-16\", \"2015-06-18\", \"2015-06-18\", \"2015-06-18\", \"2015-06-18\", \"2015-06-18\", \"2015-06-18\", \"2015-06-19\", \"2015-06-19\", \"2015-06-19\", \"2015-06-19\", \"2015-06-19\", \"2015-06-19\", \"2015-06-22\", \"2015-06-22\", \"2015-06-22\", \"2015-06-22\", \"2015-06-22\", \"2015-06-22\", \"2015-06-23\", \"2015-06-23\", \"2015-06-23\", \"2015-06-23\", \"2015-06-23\", \"2015-06-23\", \"2015-06-24\", \"2015-06-24\", \"2015-06-24\", \"2015-06-24\", \"2015-06-24\", \"2015-06-24\", \"2015-06-26\", \"2015-06-26\", \"2015-06-26\", \"2015-06-26\", \"2015-06-26\", \"2015-06-26\", \"2015-06-29\", \"2015-06-29\", \"2015-06-29\", \"2015-06-29\", \"2015-06-29\", \"2015-06-29\", \"2015-06-30\", \"2015-06-30\", \"2015-06-30\", \"2015-06-30\", \"2015-06-30\", \"2015-06-30\", \"2015-07-01\", \"2015-07-01\", \"2015-07-01\", \"2015-07-01\", \"2015-07-01\", \"2015-07-01\", \"2015-07-06\", \"2015-07-06\", \"2015-07-06\", \"2015-07-06\", \"2015-07-06\", \"2015-07-06\", \"2015-07-07\", \"2015-07-07\", \"2015-07-07\", \"2015-07-07\", \"2015-07-07\", \"2015-07-07\", \"2015-07-09\", \"2015-07-09\", \"2015-07-09\", \"2015-07-09\", \"2015-07-09\", \"2015-07-09\", \"2015-07-14\", \"2015-07-14\", \"2015-07-14\", \"2015-07-14\", \"2015-07-14\", \"2015-07-14\", \"2015-07-16\", \"2015-07-16\", \"2015-07-16\", \"2015-07-16\", \"2015-07-16\", \"2015-07-16\", \"2015-07-17\", \"2015-07-17\", \"2015-07-17\", \"2015-07-17\", \"2015-07-17\", \"2015-07-17\", \"2015-07-20\", \"2015-07-20\", \"2015-07-20\", \"2015-07-20\", \"2015-07-20\", \"2015-07-20\", \"2015-07-21\", \"2015-07-21\", \"2015-07-21\", \"2015-07-21\", \"2015-07-21\", \"2015-07-21\", \"2015-07-22\", \"2015-07-22\", \"2015-07-22\", \"2015-07-22\", \"2015-07-22\", \"2015-07-22\", \"2015-07-27\", \"2015-07-27\", \"2015-07-27\", \"2015-07-27\", \"2015-07-27\", \"2015-07-27\", \"2015-07-28\", \"2015-07-28\", \"2015-07-28\", \"2015-07-28\", \"2015-07-28\", \"2015-07-28\", \"2015-07-29\", \"2015-07-29\", \"2015-07-29\", \"2015-07-29\", \"2015-07-29\", \"2015-07-29\", \"2015-07-30\", \"2015-07-30\", \"2015-07-30\", \"2015-07-30\", \"2015-07-30\", \"2015-07-30\", \"2015-07-31\", \"2015-07-31\", \"2015-07-31\", \"2015-07-31\", \"2015-07-31\", \"2015-07-31\", \"2015-08-03\", \"2015-08-03\", \"2015-08-03\", \"2015-08-03\", \"2015-08-03\", \"2015-08-03\", \"2015-08-04\", \"2015-08-04\", \"2015-08-04\", \"2015-08-04\", \"2015-08-04\", \"2015-08-04\", \"2015-08-05\", \"2015-08-05\", \"2015-08-05\", \"2015-08-05\", \"2015-08-05\", \"2015-08-05\", \"2015-08-06\", \"2015-08-06\", \"2015-08-06\", \"2015-08-06\", \"2015-08-06\", \"2015-08-06\", \"2015-08-10\", \"2015-08-10\", \"2015-08-10\", \"2015-08-10\", \"2015-08-10\", \"2015-08-10\", \"2015-08-11\", \"2015-08-11\", \"2015-08-11\", \"2015-08-11\", \"2015-08-11\", \"2015-08-11\", \"2015-08-12\", \"2015-08-12\", \"2015-08-12\", \"2015-08-12\", \"2015-08-12\", \"2015-08-12\", \"2015-08-14\", \"2015-08-14\", \"2015-08-14\", \"2015-08-14\", \"2015-08-14\", \"2015-08-14\", \"2015-08-19\", \"2015-08-19\", \"2015-08-19\", \"2015-08-19\", \"2015-08-19\", \"2015-08-19\", \"2015-08-21\", \"2015-08-21\", \"2015-08-21\", \"2015-08-21\", \"2015-08-21\", \"2015-08-21\", \"2015-08-24\", \"2015-08-24\", \"2015-08-24\", \"2015-08-24\", \"2015-08-24\", \"2015-08-24\", \"2015-08-26\", \"2015-08-26\", \"2015-08-26\", \"2015-08-26\", \"2015-08-26\", \"2015-08-26\", \"2015-08-27\", \"2015-08-27\", \"2015-08-27\", \"2015-08-27\", \"2015-08-27\", \"2015-08-27\", \"2015-08-28\", \"2015-08-28\", \"2015-08-28\", \"2015-08-28\", \"2015-08-28\", \"2015-08-28\", \"2015-09-01\", \"2015-09-01\", \"2015-09-01\", \"2015-09-01\", \"2015-09-01\", \"2015-09-01\", \"2015-09-02\", \"2015-09-02\", \"2015-09-02\", \"2015-09-02\", \"2015-09-02\", \"2015-09-02\", \"2015-09-03\", \"2015-09-03\", \"2015-09-03\", \"2015-09-03\", \"2015-09-03\", \"2015-09-03\", \"2015-09-07\", \"2015-09-07\", \"2015-09-07\", \"2015-09-07\", \"2015-09-07\", \"2015-09-07\", \"2015-09-08\", \"2015-09-08\", \"2015-09-08\", \"2015-09-08\", \"2015-09-08\", \"2015-09-08\", \"2015-09-09\", \"2015-09-09\", \"2015-09-09\", \"2015-09-09\", \"2015-09-09\", \"2015-09-09\", \"2015-09-17\", \"2015-09-17\", \"2015-09-17\", \"2015-09-17\", \"2015-09-17\", \"2015-09-17\", \"2015-09-21\", \"2015-09-21\", \"2015-09-21\", \"2015-09-21\", \"2015-09-21\", \"2015-09-21\", \"2015-09-25\", \"2015-09-25\", \"2015-09-25\", \"2015-09-25\", \"2015-09-25\", \"2015-09-25\", \"2015-09-28\", \"2015-09-28\", \"2015-09-28\", \"2015-09-28\", \"2015-09-28\", \"2015-09-28\", \"2015-09-29\", \"2015-09-29\", \"2015-09-29\", \"2015-09-29\", \"2015-09-29\", \"2015-09-29\", \"2015-10-01\", \"2015-10-01\", \"2015-10-01\", \"2015-10-01\", \"2015-10-01\", \"2015-10-01\", \"2015-10-02\", \"2015-10-02\", \"2015-10-02\", \"2015-10-02\", \"2015-10-02\", \"2015-10-02\", \"2015-10-07\", \"2015-10-07\", \"2015-10-07\", \"2015-10-07\", \"2015-10-07\", \"2015-10-07\", \"2015-10-09\", \"2015-10-09\", \"2015-10-09\", \"2015-10-09\", \"2015-10-09\", \"2015-10-09\", \"2015-10-14\", \"2015-10-14\", \"2015-10-14\", \"2015-10-14\", \"2015-10-14\", \"2015-10-14\", \"2015-10-15\", \"2015-10-15\", \"2015-10-15\", \"2015-10-15\", \"2015-10-15\", \"2015-10-15\", \"2015-10-16\", \"2015-10-16\", \"2015-10-16\", \"2015-10-16\", \"2015-10-16\", \"2015-10-16\", \"2015-10-19\", \"2015-10-19\", \"2015-10-19\", \"2015-10-19\", \"2015-10-19\", \"2015-10-19\", \"2015-10-20\", \"2015-10-20\", \"2015-10-20\", \"2015-10-20\", \"2015-10-20\", \"2015-10-20\", \"2015-10-22\", \"2015-10-22\", \"2015-10-22\", \"2015-10-22\", \"2015-10-22\", \"2015-10-22\", \"2015-10-23\", \"2015-10-23\", \"2015-10-23\", \"2015-10-23\", \"2015-10-23\", \"2015-10-23\", \"2015-10-29\", \"2015-10-29\", \"2015-10-29\", \"2015-10-29\", \"2015-10-29\", \"2015-10-29\", \"2015-11-02\", \"2015-11-02\", \"2015-11-02\", \"2015-11-02\", \"2015-11-02\", \"2015-11-02\", \"2015-11-03\", \"2015-11-03\", \"2015-11-03\", \"2015-11-03\", \"2015-11-03\", \"2015-11-03\", \"2015-11-05\", \"2015-11-05\", \"2015-11-05\", \"2015-11-05\", \"2015-11-05\", \"2015-11-05\", \"2015-11-13\", \"2015-11-13\", \"2015-11-13\", \"2015-11-13\", \"2015-11-13\", \"2015-11-13\", \"2015-11-16\", \"2015-11-16\", \"2015-11-16\", \"2015-11-16\", \"2015-11-16\", \"2015-11-16\", \"2015-11-19\", \"2015-11-19\", \"2015-11-19\", \"2015-11-19\", \"2015-11-19\", \"2015-11-19\", \"2015-11-20\", \"2015-11-20\", \"2015-11-20\", \"2015-11-20\", \"2015-11-20\", \"2015-11-20\", \"2015-11-23\", \"2015-11-23\", \"2015-11-23\", \"2015-11-23\", \"2015-11-23\", \"2015-11-23\", \"2015-11-24\", \"2015-11-24\", \"2015-11-24\", \"2015-11-24\", \"2015-11-24\", \"2015-11-24\", \"2015-12-02\", \"2015-12-02\", \"2015-12-02\", \"2015-12-02\", \"2015-12-02\", \"2015-12-02\", \"2015-12-04\", \"2015-12-04\", \"2015-12-04\", \"2015-12-04\", \"2015-12-04\", \"2015-12-04\", \"2015-12-07\", \"2015-12-07\", \"2015-12-07\", \"2015-12-07\", \"2015-12-07\", \"2015-12-07\", \"2015-12-08\", \"2015-12-08\", \"2015-12-08\", \"2015-12-08\", \"2015-12-08\", \"2015-12-08\", \"2015-12-09\", \"2015-12-09\", \"2015-12-09\", \"2015-12-09\", \"2015-12-09\", \"2015-12-09\", \"2015-12-15\", \"2015-12-15\", \"2015-12-15\", \"2015-12-15\", \"2015-12-15\", \"2015-12-15\", \"2015-12-16\", \"2015-12-16\", \"2015-12-16\", \"2015-12-16\", \"2015-12-16\", \"2015-12-16\", \"2015-12-23\", \"2015-12-23\", \"2015-12-23\", \"2015-12-23\", \"2015-12-23\", \"2015-12-23\", \"2015-12-28\", \"2015-12-28\", \"2015-12-28\", \"2015-12-28\", \"2015-12-28\", \"2015-12-28\", \"2015-12-29\", \"2015-12-29\", \"2015-12-29\", \"2015-12-29\", \"2015-12-29\", \"2015-12-29\"], \"y\": [99.10403787729224, 100.02000200013335, 99.1238606670806, 99.1238606670806, 99.1238606670806, 100.1601280682944, 97.55049935183229, 99.10403787729226, 97.90231403598013, 97.90231403598013, 97.90231403598013, 99.3620436379205, 97.49198660782352, 98.62947834952594, 97.62857097582398, 97.62857097582398, 97.62857097582398, 99.30244429335414, 97.29719748866039, 97.60904721407006, 97.58952735668291, 97.58952735668291, 97.58952735668291, 98.07869689821341, 98.0786968982365, 98.47179736262062, 98.29470755601284, 98.29470755601284, 98.29470755601284, 98.64920621794589, 97.72624837739014, 98.27505058026473, 97.74579558172097, 97.74579558172097, 97.74579558172097, 99.24288069767503, 95.54240553897921, 97.72624837739022, 95.81029915052098, 95.81029915052098, 95.81029915052098, 97.86316094155126, 93.4821198062729, 96.05973004797175, 93.5756486827234, 93.5756486827234, 93.5756486827234, 96.05973004797187, 93.16482031373687, 93.5943656840977, 93.46342525183337, 93.46342525183337, 93.46342525183337, 93.93191262049577, 93.07170206031107, 93.48211980627687, 93.16482031374215, 93.16482031374215, 93.16482031374215, 94.04469857368413, 92.05352358587736, 93.14618921285161, 92.68162065603505, 92.68162065603505, 92.68162065603505, 93.18345514122615, 91.74107307256234, 92.99727447368026, 92.42247509131349, 92.42247509131349, 92.42247509131349, 93.72548956137128, 91.99830803806606, 92.4039924446215, 92.16405411925804, 92.16405411925804, 92.16405411925804, 92.79290535830698, 91.92473882328045, 93.33266800796889, 92.05352358593237, 92.05352358593237, 92.05352358593237, 93.63181091898464, 92.10877227303894, 92.29317415800121, 92.2009271150565, 92.2009271150565, 92.2009271150565, 92.9600830027396, 91.94312560967553, 92.219369144621, 91.94312560967553, 91.94312560967553, 91.94312560967553, 92.99727447374242, 88.79853800811384, 91.96151607378259, 88.79853800811384, 88.79853800811384, 88.79853800811384, 92.10877227304556, 87.75687316892913, 88.78078007636458, 88.05575434778625, 88.05575434778625, 88.05575434778625, 88.85183311785289, 88.28499719566092, 89.02971460629244, 88.5856770522288, 88.5856770522288, 88.5856770522288, 89.0475223299279, 88.09098369493938, 88.60339595947092, 88.47943799595404, 88.47943799595404, 88.47943799595404, 88.7630256958627, 88.10860365363314, 88.70978385461144, 88.33798408848064, 88.33798408848064, 88.33798408848064, 88.95851931654414, 87.61657444081379, 88.39100278295582, 87.91497779214824, 87.91497779214824, 87.91497779214824, 88.55024986734469, 87.23190839916495, 87.93256254612345, 87.2493565255993, 87.2493565255993, 87.2493565255993, 88.3556534521863, 87.77442629888085, 87.89739655479181, 87.87981883331472, 87.87981883331472, 87.87981883331472, 88.58567705228153, 90.64675921077219, 91.19227467588365, 90.95548272465936, 90.95548272465936, 90.95548272465936, 91.35656859046604, 89.87053960993951, 90.93729344710282, 90.519942540263, 90.519942540263, 90.519942540263, 91.15580506042657, 89.76275964332625, 90.53804833929063, 89.87053960994463, 89.87053960994463, 89.87053960994463, 90.97367564043994, 89.19011240740451, 89.88851551539724, 89.87053960995352, 89.87053960995352, 89.87053960995352, 90.3390835744394, 90.01444756900445, 91.04648370030837, 90.01444756900456, 90.01444756900456, 90.01444756900456, 91.11935002991484, 93.40736401701338, 94.762161187661, 93.80049995344272, 93.80049995344272, 93.80049995344272, 95.42782341565797, 92.57046941560242, 93.81926192956848, 92.7187007200891, 92.7187007200891, 92.7187007200891, 93.8943473692857, 93.0903182625711, 94.45940693703363, 93.53822590860096, 93.53822590860096, 93.53822590860096, 94.45940693703375, 91.17403804478404, 93.63181091922118, 91.46626227593492, 91.46626227593492, 91.46626227593492, 93.76298725651905, 91.06469481819008, 91.48455735783733, 91.42968308735401, 91.42968308735401, 91.42968308735401, 91.68604493910101, 90.70116358610126, 91.66770956371633, 90.88274743659632, 90.88274743659632, 90.88274743659632, 91.79613423339921, 90.51994254039133, 92.5149437933506, 90.91910780717848, 90.91910780717848, 90.91910780717848, 92.53344863253152, 90.08648793948551, 90.9372934472433, 90.15858596520224, 90.15858596520224, 90.15858596520224, 90.99187219530013, 91.75942312245782, 92.62602836334364, 91.86960052342418, 91.86960052342418, 91.86960052342418, 92.94149284550193, 91.39311852758033, 92.36703823932328, 91.42968308741594, 91.42968308741594, 91.42968308741594, 92.45945147648233, 90.28489638224922, 91.447970852749, 90.302955167344, 90.302955167344, 90.302955167344, 91.66770956377664, 89.65510893527122, 90.321017564557, 89.69097815221045, 89.69097815221045, 89.69097815221045, 91.0100723897381, 89.76275964352496, 90.21269734863007, 89.79867192936084, 89.79867192936084, 89.79867192936084, 90.846401607355, 89.42230842387798, 89.81663345983989, 89.54758733044443, 89.54758733044443, 89.54758733044443, 90.12252974260457, 91.85122844067205, 92.77434863338263, 92.20092711542505, 92.20092711542505, 92.20092711542505, 92.9229064057226, 91.46626227607412, 92.25626427118512, 92.05352358631778, 92.05352358631778, 92.05352358631778, 92.38551349451146, 89.69097815229124, 92.07193613223244, 90.0864879396061, 90.0864879396061, 90.0864879396061, 92.73724631490701, 89.56549863904175, 90.32101756464849, 90.05046055039772, 90.05046055039772, 90.05046055039772, 90.61050775813459, 88.63884440743327, 90.06847244363708, 88.9407293920776, 88.9407293920776, 88.9407293920776, 90.12252974267153, 87.77442629919075, 88.95851931688921, 87.87981883362357, 87.87981883362357, 87.87981883362357, 89.31506601215281, 87.52900166040806, 88.03814495830123, 87.84467393555528, 87.84467393555528, 87.84467393555528, 88.28499719604088, 87.24935652594436, 87.82710675754453, 87.28426324943402, 87.28426324943402, 87.28426324943402, 88.39100278331311, 86.57145878317736, 87.30172184788556, 86.83156312095728, 86.83156312095728, 86.83156312095728, 87.38906723514836, 85.6929180781229, 86.81419854484858, 86.58877480648506, 86.58877480648506, 86.58877480648506, 86.83156312095728, 84.5015760775694, 86.57145878318381, 84.53538346902806, 84.53538346902806, 84.53538346902806, 86.77947980964551, 84.46778220636828, 85.02711333127105, 84.63688681902765, 84.63688681902765, 84.63688681902765, 85.18029996187654, 83.6273137305815, 84.65381588924204, 84.29901546495897, 84.29901546495897, 84.29901546495897, 84.65381588924275, 83.16030960568054, 84.2821573477339, 83.49361701451251, 83.49361701451251, 83.49361701451251, 84.36648166021207, 82.7786506700458, 83.47691996087063, 83.46022624631888, 83.46022624631888, 83.46022624631888, 84.6876841888168, 84.55229223657436, 84.65381588926701, 84.63688681905668, 84.63688681905668, 84.63688681905668, 85.47040588237222, 84.80632997937931, 85.36790290940318, 85.21437889723221, 85.21437889723221, 85.21437889723221, 85.5559190377147, 83.96249289697423, 85.19733772562674, 84.50157607762566, 84.50157607762566, 84.50157607762566, 86.20862114875548, 84.01288550898902, 84.484677452329, 84.23160322112948, 84.23160322112948, 84.23160322112948, 84.58611991858244, 84.43400185008628, 85.23142347744357, 85.01010960911746, 85.01010960911746, 85.01010960911746, 85.62439115817348, 84.60303883443166, 85.02711333135484, 84.7385120462367, 84.7385120462367, 84.7385120462367, 85.50460088332474, 84.41711673830244, 85.36790290946269, 85.07814490731188, 85.07814490731188, 85.07814490731188, 85.5388095649685, 83.99608461208905, 85.09516223796969, 84.26530260189912, 84.26530260189912, 84.26530260189912, 85.74434925690232, 83.54372821668336, 84.28215734784195, 83.96249289704471, 83.96249289704471, 83.96249289704471, 84.45089033928602, 85.07814490734201, 85.47040588246851, 85.35083103616017, 85.35083103616017, 85.35083103616017, 85.5901482508041, 83.84502765186461, 85.33376257685578, 84.13058591985106, 84.13058591985106, 84.13058591985106, 85.38497819755176, 83.57715239238456, 84.14741371975893, 84.13058591985455, 84.13058591985455, 84.13058591985455, 84.46778220650913, 83.3267966565822, 84.11376148517013, 83.56043863334357, 83.56043863334357, 83.56043863334357, 84.16424488556807, 83.010755687435, 83.57715239239043, 83.46022624644509, 83.46022624644509, 83.46022624644509, 84.01288550908423, 83.06057708579033, 83.44353587029293, 83.39348476561827, 83.39348476561827, 83.39348476561827, 84.11376148519376, 81.85670233080758, 83.41016513055229, 82.03698531450343, 82.03698531450343, 82.03698531450343, 83.44353587030751, 81.61150021089986, 82.05339435241544, 81.70949279494515, 81.70949279494515, 81.70949279494515, 82.74554583134282, 80.89646975736736, 81.69315253046707, 80.89646975736736, 80.89646975736736, 80.89646975736736, 81.93859997514016, 81.12329728304972, 82.08622227532794, 81.31822701864611, 81.31822701864611, 81.31822701864611, 82.18478486778656, 80.83177846155438, 81.33449229052282, 80.86411764034358, 80.86411764034358, 80.86411764034358, 81.87307530854618, 80.1235794569565, 81.23694943719852, 80.25187979699018, 80.25187979699018, 80.25187979699018, 81.31822701865357, 80.39646326672583, 80.58964650572419, 80.50909714061828, 80.50909714061828, 80.50909714061828, 81.13952356510927, 79.69207822977977, 80.71869314992858, 79.86759379821942, 79.86759379821942, 79.86759379821942, 80.99360378989601, 79.04127512769024, 79.88356891443743, 79.29461233144438, 79.29461233144438, 79.29461233144438, 81.10707424599293, 77.78667826516961, 79.31047283990866, 77.91123657046573, 77.91123657046573, 77.91123657046573, 79.61242598432466, 76.92032808583667, 77.92682037610845, 76.95110237151783, 76.95110237151783, 76.95110237151783, 78.09844810221273, 76.21590637583044, 76.96649413111679, 76.58262214017584, 76.58262214017584, 76.58262214017584, 77.19774030934403, 77.25952321147933, 77.52265265697089, 77.3832373935713, 77.3832373935713, 77.3832373935713, 78.03599432859623, 77.21318140149032, 77.39871558881795, 77.32135555969474, 77.32135555969474, 77.32135555969474, 77.92682037613815, 76.75128937483804, 77.33682137733689, 76.85881643133999, 76.85881643133999, 76.85881643133999, 77.3987155888225, 76.03320752687101, 76.87418973190508, 76.33794943447178, 76.33794943447178, 76.33794943447178, 77.01268788436603, 75.98760128560444, 76.35321855121944, 76.246398836504, 76.246398836504, 76.246398836504, 77.1668673882549, 75.57837414636232, 76.23115108156301, 75.72968215222534, 75.72968215222534, 75.72968215222534, 76.27690349656409, 74.66191972083584, 75.71453773028756, 75.6993963369354, 75.6993963369354, 75.6993963369354, 75.72968215222932, 75.06618462020009, 75.684257971555, 75.42736845410637, 75.42736845410637, 75.42736845410637, 75.6993963369379, 75.06618462020357, 75.41228448886235, 75.21646722195368, 75.21646722195368, 75.21646722195368, 75.8206123180085, 73.88945951128582, 75.3519787867863, 73.963385927845, 73.963385927845, 73.963385927845, 75.41228448888033, 73.62393568669586, 73.94859472982853, 73.78608664586316, 73.78608664586316, 73.78608664586316, 74.25983196837821, 73.34469562323189, 73.80084533901245, 73.43276208729031, 73.43276208729031, 73.43276208729031, 74.14111123914108, 73.25673477555358, 73.68285840119866, 73.63866194643116, 73.63866194643116, 73.63866194643116, 74.21528943330877, 74.05219526593505, 74.78147441069406, 74.31926360346678, 74.31926360346678, 74.31926360346678, 74.78147441069413, 72.80394810906368, 74.36386854177464, 73.5209342945764, 73.5209342945764, 73.5209342945764, 74.40850025107356, 73.05190281678412, 73.53563995195204, 73.19815282367463, 73.19815282367463, 73.19815282367463, 73.66812330311369, 73.63866194646339, 73.8303715820516, 73.72708138185006, 73.72708138185006, 73.72708138185006, 74.39362003911283, 72.76027884230588, 73.74182827276637, 72.8767884713017, 72.8767884713017, 72.8767884713017, 73.85990963790422, 70.62401101208681, 72.86221457104604, 70.66639813355891, 70.66639813355891, 70.66639813355891, 72.93511322887119, 70.08930299260142, 70.96382115686048, 70.15942735193003, 70.15942735193003, 70.15942735193003, 70.9780153404629, 69.90730750148595, 70.17346064068252, 69.99124662388853, 69.99124662388853, 69.99124662388853, 70.5957670568586, 69.57255647067562, 69.97724977429537, 69.82346904562226, 69.82346904562226, 69.82346904562226, 69.99124662388854, 69.76763260795117, 70.25771933857543, 69.96325572380947, 69.96325572380947, 69.96325572380947, 70.41245646955566, 69.76763260795488, 69.97724977431264, 69.93527601783845, 69.93527601783845, 69.93527601783845, 70.27177228769841, 68.72892787993966, 69.92129036124716, 68.99059465789085, 68.99059465789085, 68.99059465789085, 69.94926447184082, 71.33379412297846, 71.99309315420113, 71.43373137450403, 71.43373137450403, 71.43373137450403, 72.09395407078495, 71.80615423791761, 72.48431444722283, 71.97869597535403, 71.97869597535403, 71.97869597535403, 72.51331397252012, 70.77955487192115, 72.77483235348002, 71.37660724213782, 71.37660724213782, 71.37660724213782, 73.09574711056027, 70.2717722877692, 71.39088399121357, 70.35614903043539, 70.35614903043539, 70.35614903043539, 71.39088399121361, 69.60039105990428, 70.34207920765849, 69.68396166150873, 69.68396166150873, 69.68396166150873, 70.45471662029354, 69.33641145279023, 70.03325397290618, 69.65609365082585, 69.65609365082585, 69.65609365082585, 70.1173443217922, 69.36415156503644, 69.64216382512468, 69.4891194752314, 69.4891194752314, 69.4891194752314, 70.46880897281856, 69.60039105993073, 70.08930299272396, 69.96325572391491, 69.96325572391491, 69.96325572391491, 70.29988661920477, 70.65226626730626, 71.44801954962162, 70.77955487196978, 70.77955487196978, 70.77955487196978, 71.47660447404533, 70.29988661922829, 71.30526631135993, 70.63813722702002, 70.63813722702002, 70.63813722702002, 71.31952879082289, 70.24366919990251, 70.65226626732237, 70.44062708602536, 70.44062708602536, 70.44062708602536, 70.6805328267654, 68.85275135795654, 70.42654036932679, 68.88029796745433, 68.88029796745433, 68.88029796745433, 70.8928928059503, 67.92269267380331, 68.89407540474562, 68.74267504032476, 68.74267504032476, 68.74267504032476, 68.89407540474562, 68.4819485692086, 68.75642495027799, 68.74267504032755, 68.74267504032755, 68.74267504032755, 68.90785559780565, 68.96300393868322, 69.03200143562037, 69.01819641588605, 69.01819641588605, 69.01819641588605, 69.43355041030091, 68.57789044086569, 69.0320014356252, 68.63277470399659, 68.63277470399659, 68.63277470399659, 69.51692068295597, 68.31778896300015, 69.11488956029808, 68.66023330524582, 68.66023330524582, 68.66023330524582, 69.19787721040392, 68.09952145260021, 68.89407540479378, 68.71518346903557, 68.71518346903557, 68.71518346903557, 68.92163854721673, 68.31778896301329, 68.72892788012467, 68.57789044089276, 68.57789044089276, 68.57789044089276, 68.90785559785064, 68.55046477022178, 68.94921271710992, 68.55046477022178, 68.55046477022178, 68.55046477022178, 69.19787721042243, 70.75124871174438, 71.50520083484388, 71.2055087851988, 71.2055087851988, 71.2055087851988, 71.54811682886223, 70.35614903059985, 71.191269107457, 70.38429711945456, 70.38429711945456, 70.38429711945456, 71.41944605700937, 70.72295387162423, 71.04902885691796, 70.72295387162423, 70.72295387162423, 70.72295387162423, 71.19126910747119, 69.36415156519737, 70.73709987695193, 69.71184082181546, 69.71184082181546, 69.71184082181546, 71.23399668593024, 68.6877028921971, 69.72578458430961, 68.93542425352057, 68.93542425352057, 68.93542425352057, 69.82346904589566, 68.24950532162875, 68.92163854728645, 68.55046477028438, 68.55046477028438, 68.55046477028438, 69.25325766147964, 70.87871564531324, 71.36233334835072, 70.97801534078513, 70.97801534078513, 70.97801534078513, 71.40516359614918, 70.01924872290428, 70.99221236351147, 70.2998866194104, 70.2998866194104, 70.2998866194104, 71.2055087852646, 69.58647237383641, 70.28582804799053, 69.76763260826164, 69.76763260826164, 69.76763260826164, 70.35614903066997, 69.39190277574887, 69.78158753022899, 69.76763260826495, 69.76763260826495, 69.76763260826495, 70.07528653402908, 69.28096450559522, 69.75368047700292, 69.62823678533987, 69.62823678533987, 69.62823678533987, 70.21557735115204, 70.46880897306794, 71.13433886740505, 71.12011342222692, 71.12011342222692, 71.12011342222692, 71.31952879104054, 70.00524627349058, 71.13433886740846, 70.07528653405772, 70.07528653405772, 70.07528653405772, 71.20550878530403, 71.2910066843539, 71.47660447430661, 71.43373137484174, 71.43373137484174, 71.43373137484174, 71.97869597567878, 71.49090122484783, 72.45532651976063, 71.89237334446304, 71.89237334446304, 71.89237334446304, 72.67301887458308, 71.5195033053764, 71.90675325707527, 71.69135625435895, 71.69135625435895, 71.69135625435895, 72.52781808602808], \"type\": \"box\", \"line\": {\"color\": \"#FF4136\"}, \"fillcolor\": \"#FF4136\", \"boxpoints\": false, \"showlegend\": false}], {}, {\"linkText\": \"Export to plot.ly\", \"showLink\": true})});</script>"
      ],
      "text/plain": [
       "<IPython.core.display.HTML object>"
      ]
     },
     "metadata": {},
     "output_type": "display_data"
    }
   ],
   "source": [
    "# plotly モジュール\n",
    "from plotly.offline import init_notebook_mode, iplot\n",
    "# 旧バージョン\n",
    "#from plotly.tools import FigureFactory as FF\n",
    "from plotly import figure_factory as FF\n",
    "\n",
    "# Jupyter notebook用設定\n",
    "init_notebook_mode(connected=True) \n",
    "\n",
    "# ローソクチャートの設定\n",
    "fig = FF.create_candlestick(df.open, df.high, df.low, df.close, dates=df.index)\n",
    "iplot(fig)"
   ]
  },
  {
   "cell_type": "markdown",
   "metadata": {},
   "source": [
    "***"
   ]
  },
  {
   "cell_type": "markdown",
   "metadata": {},
   "source": [
    "以下は参考文献で、JavaScript等もありますが、データを可視化するのに参考となります。2つ目のPythonユーザのためのJupyter[実践]入門』はJupyterの使い方について詳しく記載があり、データの可視化についてのコンテンツが充実しています。"
   ]
  },
  {
   "cell_type": "markdown",
   "metadata": {},
   "source": [
    ">[参考文献]\n",
    "\n",
    ">『PythonとJavaScriptではじめるデータビジュアライゼーション』（Kyran Dale (著), 嶋田 健志 (監修), 木下 哲也 (翻訳)、オライリージャパン）\n",
    "\n",
    ">『PythonユーザのためのJupyter[実践]入門』（池内 孝啓 (著), 片柳 薫子 (著), 岩尾 エマ はるか (著), @driller (著)、技術評論社）"
   ]
  },
  {
   "cell_type": "markdown",
   "metadata": {},
   "source": [
    "## 7.2 分析結果の見せ方を考えよう\n",
    "ゴール：基本的な資料作成の方法を知る、データ分析結果を伝えるためのポイントを知る"
   ]
  },
  {
   "cell_type": "markdown",
   "metadata": {},
   "source": [
    "### 7.2.1 資料作成のポイントについて\n",
    "キーワード：特になし"
   ]
  },
  {
   "cell_type": "markdown",
   "metadata": {},
   "source": [
    "これまでは、データ分析に必要なプログラミング技法を中心に、データ処理やそのテクニックについて学んできました。データの可視化についても、データを棒グラフにしたり、折れ線グラフにする方法、ラベルのつけ方など、テクニカルな解説が中心でした。自分自身の理解のために、探索的にデータをチェックするだけであれば、特に体裁は気にせず、デフォルトでグラフ表示される結果を見るだけでよいかもしれません。しかし、データ分析の結果を第3者に伝えるためには、その見せ方を工夫する必要があります。説明的分析ともいいますが、そのデータ分析結果を他人に伝える方法や、その資料作成の方法について、基本的なポイントを以下に記載します。"
   ]
  },
  {
   "cell_type": "markdown",
   "metadata": {},
   "source": [
    "データの分析結果の報告は、今の会社にいる上層部への報告、クライアントへの提案などいろいろな場面があります。資料作成の方法には、以下で紹介する参考文献などたくさんありますが、以下のような点は共通して大切です。"
   ]
  },
  {
   "cell_type": "markdown",
   "metadata": {},
   "source": [
    "- 何のためにデータ分析をして、何を見せたいのかはっきりさせる\n",
    "\n",
    "- そもそもその分析結果を誰に伝えるのか？を考える\n",
    "\n",
    "- いきなり資料の作成を開始しない、パワーポイントを開かない、その前に考える\n",
    "\n",
    "- その結果を見せることで、どんな具体的なアクションを促したいか？\n",
    "\n",
    "- それをやることでどれだけ儲かるか？コストが下がるのか？\n",
    "\n",
    "- 目次をはっきりさせる（全体像を見せる）\n",
    "\n",
    "- 基本的に結論が先\n",
    "\n",
    "- 情報を入れすぎない、無駄なものは削除\n",
    "\n",
    "- 言いたいことを一言で＋下にその根拠となるデータ（表）の可視化\n",
    "\n",
    "- ストーリーを考える"
   ]
  },
  {
   "cell_type": "markdown",
   "metadata": {},
   "source": [
    "他、第3者に説明するのに、3Dのグラフはあまり使わないほうがいいだとか、いろいろとありますが、それも場面によるので、やはりその結果を誰に見せるのか考えることが大事です。また、先ほども書いたように、データを可視化するのは、Excelや他のツール（タブローなど）でも良いです。この講座はPythonの講座なのでmatplotlibを使ってグラフ等を表示していますが、ビジネスの現場で無理してmatplotlibを使う必要はありません。データがそれほど大きくない場合、素早くデータを可視化するのにExcelは非常に優れています。ケースバイケースで判断して、ツールを選んでください。"
   ]
  },
  {
   "cell_type": "markdown",
   "metadata": {},
   "source": [
    "短いですが、以上が資料作成の基本となる作法になります。この講座ではこれ以上詳しくは扱いませんので、以下は参考となる本で、資料を作成する際に読んでみてください。なお、本講座は特に資料作成の講座ではないので、テクニカルな技術を身につけるという視点でこのまま解説をしていきます。"
   ]
  },
  {
   "cell_type": "markdown",
   "metadata": {},
   "source": [
    ">[参考文献]\n",
    "\n",
    ">『入門 考える技術・書く技術――日本人のロジカルシンキング実践法』（山崎 康司  (著)、ダイヤモンド社）\n",
    "\n",
    ">『外資系コンサルのスライド作成術―図解表現23のテクニック』（山口 周  (著)、 東洋経済新報社）\n",
    "\n",
    ">『Google流資料作成術』（コール・ヌッスバウマー・ナフリック (著), 村井 瑞枝 (翻訳)、 日本実業出版社）"
   ]
  },
  {
   "cell_type": "markdown",
   "metadata": {},
   "source": [
    "以上でデータ可視化の章は終了です。お疲れ様でした。\n",
    "\n",
    "次の問題は、金融の時系列データとマーケティングの購買データに関する総合問題です。今まで学んだテクニックが活かせる問題です。一部、これまで扱わなかった処理方法もありますので、ヒントなど参考にして、調べながら取り組んでください。初学者にはなかなかハードな問題かもしれませんが、これらの問題に取り組むことで、今まで学んだ技法が役に立つことを実感できるでしょう。"
   ]
  },
  {
   "cell_type": "markdown",
   "metadata": {},
   "source": [
    "***"
   ]
  },
  {
   "cell_type": "markdown",
   "metadata": {},
   "source": [
    "## 7.3 総合問題"
   ]
  },
  {
   "cell_type": "markdown",
   "metadata": {},
   "source": [
    "### 7.3.1 時系列データ分析\n",
    "\n",
    "ここでは、本章で身に付けたpandasやscipyなどを使って、時系列データついて扱っていきましょう。\n",
    "\n",
    "（1）（データの取得と確認）下記のサイトより、dow_jones_index.zipをダウンロードし、中にあるdow_jones_index.dataを使って、データを読み込み、はじめの5行を表示してください。またデータのそれぞれのカラム情報等を見て、nullなどがあるか確認してください。　　\n",
    "\n",
    "https://archive.ics.uci.edu/ml/machine-learning-databases/00312/dow_jones_index.zip　　\n",
    "\n",
    "（2）（データの加工）カラムのopen、high、low、close等のデータは数字の前に$マークが付いているため、これを取り除いてください。また、日時をdate型で読み込んでいない場合は、date型に変換しましょう。\n",
    "\n",
    "（3）カラムのcloseについて、各stockごとの要約統計量を算出してください。\n",
    "\n",
    "（4）カラムのcloseについて、各stockの相関を算出する相関行列を出してください。また、seabornのheatmapを使って、相関行列のヒートマップを描いてみましょう。（ヒント：pandasのcorr()を使います。）\n",
    "\n",
    "（5）(4)で算出した相関行列の中で一番相関係数が高いstockの組み合わせを抽出してください。さらに、その中でもっとも相関係数が高いペアを抜き出し、それぞれの時系列グラフを書いてください。\n",
    "\n",
    "（6） pandasのrollingとwindow関数（窓関数）を使って、上記で使った各stockごとに、closeの過去5期（5週間）移動平均時系列データを計算してください。\n",
    "\n",
    "（7） pandasのshift()を使って、上記で使った各stockごとに、closeの前期（1週前）との比の対数時系列データを計算してください。さらに、この中で、一番ボラティリティ（標準偏差）が一番大きいstockと小さいstockを抜き出し、その対数変化率グラフを書いてください。"
   ]
  },
  {
   "cell_type": "markdown",
   "metadata": {},
   "source": [
    "※(6),(7)の補足\n",
    "\n",
    "時系列データ$(\\cdots ,y_{t-1},y_t,y_{t+1}, \\cdots )$の過去n期の移動平均データとは、過去5期のデータの平均、"
   ]
  },
  {
   "cell_type": "markdown",
   "metadata": {},
   "source": [
    "\\begin{eqnarray}\n",
    "ma_t = \\sum_{s=t-n+1}^t \\frac{y_s}{n}\n",
    "\\end{eqnarray}"
   ]
  },
  {
   "cell_type": "markdown",
   "metadata": {},
   "source": [
    "時系列データ$(\\cdots ,y_{t-1},y_t,y_{t+1}, \\cdots )$の前期（1週前）との比の対数時系列データとは、$\\log \\frac{y_t} {y_{t-1}}$から成るデータの事です。増減率$r_t = \\frac{y_t - y_{t-1}}{y_t}$が小さいとき、$r_t \\approx \\log \\frac{y_t} {y_{t-1}}$の関係が成り立ちます。これは、$x$が十分小さいときに成り立つ、$\\log (1+x) \\approx x$から導かれます。増減率データ$(r_1,\\cdots ,r_N )$のボラティリティとは、標準偏差"
   ]
  },
  {
   "cell_type": "markdown",
   "metadata": {},
   "source": [
    "\\begin{eqnarray}\n",
    "\\sqrt{\\frac{1}{N}\\sum_{t=1}^N (r_t - \\frac{1}{N}\\sum_{t=1}^N r_t)^2}\n",
    "\\end{eqnarray}"
   ]
  },
  {
   "cell_type": "markdown",
   "metadata": {},
   "source": [
    "の事で、価格変動の大きさを示す指標として利用されます。"
   ]
  },
  {
   "cell_type": "markdown",
   "metadata": {},
   "source": [
    "### 7.3.2 マーケティング分析\n",
    "\n",
    "次は、マーケティング分析でよく扱われる購買データです。一般ユーザーとは異なる法人の購買データですが、分析する軸は基本的に同じです。\n",
    "\n",
    "（1）下記のURLよりデータをpandasで読み込んでください（件数50万以上のデータで比較的大きいため、少し時間がかかります。）\n",
    "\n",
    "    \"http://archive.ics.uci.edu/ml/machine-learning-databases/00352/Online%20Retail.xlsx\"\n",
    "    \n",
    "    (ヒント)pd.ExcelFileを使って、シートを.parse('Online Retail')で指定してください。\n",
    "    \n",
    "    また、今回の分析対象は、CustomerIDにデータが入っているレコードのみ対象にするため、そのための処理をしてください。さらに、カラムのInvoiceNoには数字の前にCがあるものはキャンセルのため、このデータを取り除いてください。他にもデータとして取り除く必要なものがあれば、適宜処理してください。以下、このデータをベースに分析していきます。\n",
    "\n",
    "（2）このデータのカラムには、購買日時や商品名、数量、回数、購買者のIDなどがあります。ここで、購買者（CustomerID）のユニーク数、バスケット数（InvoiceNoのユニーク数）、商品の種類（StockCodeベースとDescriptionベースのユニーク数）を求めてください。\n",
    "\n",
    "（3）このデータのカラムには、Countryがあります。このカラムを軸に、それぞれの国の購買合計金額（単位あたりの金額×数量の合計）を求め、降順にならべて、上位5つの国の結果を表示してください。\n",
    "\n",
    "（4）上の上位5つの国について、それぞれの国の商品売り上げ（合計金額）の月別の時系列推移をグラフにしてください。ここで、グラフは分けて表示してください。\n",
    "\n",
    "（5）上の上位5つの国について、それぞれの国における商品の売り上げTOP5の商品を抽出してください。また、それらを国ごとに円グラフにしてください。なお、商品は「Description」ベースで集計してください。"
   ]
  }
 ],
 "metadata": {
  "anaconda-cloud": {},
  "kernelspec": {
   "display_name": "Python [Root]",
   "language": "python",
   "name": "Python [Root]"
  },
  "language_info": {
   "codemirror_mode": {
    "name": "ipython",
    "version": 3
   },
   "file_extension": ".py",
   "mimetype": "text/x-python",
   "name": "python",
   "nbconvert_exporter": "python",
   "pygments_lexer": "ipython3",
   "version": "3.5.2"
  }
 },
 "nbformat": 4,
 "nbformat_minor": 1
}
