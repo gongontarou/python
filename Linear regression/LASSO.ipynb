{
 "cells": [
  {
   "cell_type": "code",
   "execution_count": 20,
   "metadata": {},
   "outputs": [],
   "source": [
    "import numpy as np\n",
    "import pandas as pd\n",
    "\n",
    "np.random.seed(2019)\n",
    "\n",
    "z1 = np.random.rand(100) * 10\n",
    "z2 = np.random.rand(100) * 10\n",
    "\n",
    "x1 = z1 + np.random.normal(0, 1, 100)\n",
    "x2 = z1 + np.random.normal(0, 1, 100)\n",
    "x3 = 2 * z1 + np.random.normal(0, 1, 100)\n",
    "x4 = z2 + np.random.normal(0, 1, 100)\n",
    "x5 = -3 * z2 + np.random.normal(0, 1, 100)\n",
    "\n",
    "\n",
    "X = pd.DataFrame([x1, x2, x3, x4, x5]).T\n",
    "Y = 2 * z1 - z2 + np.random.normal(0, 1, 100)\n",
    "\n"
   ]
  },
  {
   "cell_type": "markdown",
   "metadata": {},
   "source": [
    "LASSO 回帰\n",
    "scikit-learn パッケージの linear_model クラスで LASSO 回帰を行う Lasso メソッドが用意されている。このメソッドを使用して LASSO 回帰を行ってみる。LASSO 回帰を行うとき、正則化項の寄与の大きさを調整する正則化パラメーターをあらかじめ与える必要がある。このパラメーターを alpha 引数で指定する。まず、ここでは、仮に正則化パラメーターとして alpha = 0.1 と指定して回帰を行ってみる。"
   ]
  },
  {
   "cell_type": "code",
   "execution_count": 9,
   "metadata": {},
   "outputs": [
    {
     "name": "stdout",
     "output_type": "stream",
     "text": [
      "[ 0.46288203  1.05025169  3.86729005 -0.84086274  2.24241141]\n",
      "5.666182032044889\n"
     ]
    }
   ],
   "source": [
    "from sklearn.preprocessing import StandardScaler\n",
    "from sklearn.linear_model import Lasso\n",
    "\n",
    "scaler = StandardScaler()\n",
    "clf = Lasso(alpha=0.1)\n",
    "\n",
    "scaler.fit(X)\n",
    "clf.fit(scaler.transform(X), Y)\n",
    "## Lasso(alpha=0.1, copy_X=True, fit_intercept=True, max_iter=1000,\n",
    "##    normalize=False, positive=False, precompute=False, random_state=None,\n",
    "##    selection='cyclic', tol=0.0001, warm_start=False)\n",
    "\n",
    "print(clf.coef_)\n",
    "## [ 0.46288203  1.05025169  3.86729005 -0.84086274  2.24241141]\n",
    "\n",
    "print(clf.intercept_)\n",
    "## 5.666182032044889"
   ]
  },
  {
   "cell_type": "markdown",
   "metadata": {},
   "source": [
    "クロスバリデーション\n",
    "\n",
    "最適な正則化パラメーターを決めるためにはクロスバリデーションを行う必要がある。scikit-learn パッケージの linear_model クラスにはクロスバリデーションと LASSO 回帰を同時に実行してくれる LassoCV メソッドが用意されている。ここで、最適な λ を 5-fold クロスバリデーションにより、10*-6 ≤ α ≤ 10*+2 の範囲内で 0.1 間隔のグリッドサーチを行なって決定する例を示す。"
   ]
  },
  {
   "cell_type": "code",
   "execution_count": 10,
   "metadata": {},
   "outputs": [
    {
     "name": "stdout",
     "output_type": "stream",
     "text": [
      "0.005011872336272571\n",
      "[ 0.48686631  1.07953324  3.9316769  -0.92341824  2.27543548]\n",
      "5.666182032044889\n"
     ]
    }
   ],
   "source": [
    "from sklearn.preprocessing import StandardScaler\n",
    "from sklearn.linear_model import LassoCV\n",
    "\n",
    "scaler = StandardScaler()\n",
    "clf = LassoCV(alphas=10 ** np.arange(-6, 1, 0.1), cv=5)\n",
    "\n",
    "scaler.fit(X)\n",
    "clf.fit(scaler.transform(X), Y)\n",
    "## LassoCV(alphas=array([1.00000e-06, 1.25893e-06, ..., 6.30957e+00, 7.94328e+00]),\n",
    "##     copy_X=True, cv=5, eps=0.001, fit_intercept=True, max_iter=1000,\n",
    "##     n_alphas=100, n_jobs=None, normalize=False, positive=False,\n",
    "##     precompute='auto', random_state=None, selection='cyclic', tol=0.0001,\n",
    "##     verbose=False)\n",
    "\n",
    "print(clf.alpha_)\n",
    "## 0.005011872336272571\n",
    "\n",
    "print(clf.coef_)\n",
    "## [ 0.48686631  1.07953324  3.9316769  -0.92341824  2.27543548]\n",
    "\n",
    "print(clf.intercept_)\n",
    "## 5.666182032044889"
   ]
  },
  {
   "cell_type": "markdown",
   "metadata": {},
   "source": [
    "モデル評価\n",
    "モデルの作成からモデルの評価まで一通り実行する例を以下に示す。ここで、データセットの 8 割を教師データとして、LASSO 回帰を行う。このとき、最適な α を 5-fold クロスバリデーション決める。次に、教師データを除いた 2 割のデータを検証データとして　LASSO モデルを検証することにする。"
   ]
  },
  {
   "cell_type": "code",
   "execution_count": 21,
   "metadata": {},
   "outputs": [
    {
     "name": "stdout",
     "output_type": "stream",
     "text": [
      "3.2581669433135865\n"
     ]
    }
   ],
   "source": [
    "from sklearn.preprocessing import StandardScaler\n",
    "from sklearn.linear_model import LassoCV\n",
    "from sklearn.metrics import mean_squared_error\n",
    "\n",
    "x_train, x_test, y_train, y_test = train_test_split(X, Y, test_size=0.2, random_state=0)\n",
    "\n",
    "scaler = StandardScaler()\n",
    "clf = LassoCV(alphas=10 ** np.arange(-6, 1, 0.1), cv=5)\n",
    "\n",
    "scaler.fit(x_train)\n",
    "clf.fit(scaler.transform(x_train), y_train)\n",
    "\n",
    "y_pred = clf.predict(scaler.transform(x_test))\n",
    "mse = mean_squared_error(y_test, y_pred)\n",
    "print(mse)\n",
    "## 3.258166943313589"
   ]
  },
  {
   "cell_type": "code",
   "execution_count": 22,
   "metadata": {},
   "outputs": [
    {
     "name": "stderr",
     "output_type": "stream",
     "text": [
      "/Users/nakamuratatsuya/anaconda3/lib/python3.7/site-packages/ipykernel_launcher.py:10: UserWarning: Matplotlib is currently using module://ipykernel.pylab.backend_inline, which is a non-GUI backend, so cannot show the figure.\n",
      "  # Remove the CWD from sys.path while we load stuff.\n"
     ]
    },
    {
     "data": {
      "image/png": "[encoded data removed]",
      "text/plain": [
       "<Figure size 432x288 with 1 Axes>"
      ]
     },
     "metadata": {
      "needs_background": "light"
     },
     "output_type": "display_data"
    }
   ],
   "source": [
    "from matplotlib import pyplot as plt\n",
    "fig = plt.figure()\n",
    "\n",
    "ax = fig.add_subplot(1, 1, 1)\n",
    "ax.scatter(y_pred, y_test)\n",
    "ax.set_xlabel('predicted')\n",
    "ax.set_ylabel('true')\n",
    "ax.set_aspect('equal')\n",
    "\n",
    "fig.show()"
   ]
  },
  {
   "cell_type": "markdown",
   "metadata": {},
   "source": [
    "その他"
   ]
  },
  {
   "cell_type": "code",
   "execution_count": 17,
   "metadata": {},
   "outputs": [
    {
     "name": "stdout",
     "output_type": "stream",
     "text": [
      "training dataに対しての精度: 0.29\n",
      "test set scoreに対しての精度: 0.21\n"
     ]
    }
   ],
   "source": [
    "import mglearn\n",
    "from sklearn.linear_model import Lasso\n",
    "from sklearn.model_selection import train_test_split\n",
    "\n",
    "X, y = mglearn.datasets.load_extended_boston()\n",
    "X_train, X_test, y_train, y_test = train_test_split(X, y, random_state=0)\n",
    "\n",
    "lasso = Lasso().fit(X_train, y_train)\n",
    "print(f\"training dataに対しての精度: {lasso.score(X_train, y_train):.2}\")\n",
    "print(f\"test set scoreに対しての精度: {lasso.score(X_test, y_test):.2f}\")\n",
    "# => training dataに対しての精度: 0.29\n",
    "# => test set scoreに対しての精度: 0.21"
   ]
  }
 ],
 "metadata": {
  "kernelspec": {
   "display_name": "Python 3",
   "language": "python",
   "name": "python3"
  },
  "language_info": {
   "codemirror_mode": {
    "name": "ipython",
    "version": 3
   },
   "file_extension": ".py",
   "mimetype": "text/x-python",
   "name": "python",
   "nbconvert_exporter": "python",
   "pygments_lexer": "ipython3",
   "version": "3.7.6"
  }
 },
 "nbformat": 4,
 "nbformat_minor": 4
}
