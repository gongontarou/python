{
 "cells": [
  {
   "cell_type": "code",
   "execution_count": 1,
   "metadata": {},
   "outputs": [
    {
     "name": "stdout",
     "output_type": "stream",
     "text": [
      "training dataに対しての精度: 0.89\n",
      "test set scoreに対しての精度: 0.75\n"
     ]
    }
   ],
   "source": [
    "import mglearn\n",
    "from sklearn.linear_model import Ridge\n",
    "from sklearn.model_selection import train_test_split\n",
    "\n",
    "X, y = mglearn.datasets.load_extended_boston()\n",
    "X_train, X_test, y_train, y_test = train_test_split(X, y, random_state=0)\n",
    "\n",
    "ridge = Ridge().fit(X_train, y_train)\n",
    "print(f\"training dataに対しての精度: {ridge.score(X_train, y_train):.2}\")\n",
    "print(f\"test set scoreに対しての精度: {ridge.score(X_test, y_test):.2f}\")\n",
    "# => training dataに対しての精度: 0.89\n",
    "# => test set scoreに対しての精度: 0.75"
   ]
  },
  {
   "cell_type": "markdown",
   "metadata": {},
   "source": [
    "ちなみに同じでデータセットで線形回帰(通常最小二乗法)"
   ]
  },
  {
   "cell_type": "code",
   "execution_count": 2,
   "metadata": {},
   "outputs": [
    {
     "name": "stdout",
     "output_type": "stream",
     "text": [
      "training dataに対しての精度: 0.95\n",
      "test dataに対しての精度: 0.61\n"
     ]
    }
   ],
   "source": [
    "from sklearn.linear_model import LinearRegression\n",
    "\n",
    "X, y = mglearn.datasets.load_extended_boston()\n",
    "X_train, X_test, y_train, y_test = train_test_split(X, y, random_state=0)\n",
    "lr = LinearRegression().fit(X_train, y_train)\n",
    "print(f\"training dataに対しての精度: {lr.score(X_train, y_train):.2}\")\n",
    "print(f\"test dataに対しての精度: {lr.score(X_test, y_test):.2}\")\n",
    "# => training dataに対しての精度: 0.95\n",
    "# => test dataに対しての精度: 0.61"
   ]
  },
  {
   "cell_type": "code",
   "execution_count": null,
   "metadata": {},
   "outputs": [],
   "source": []
  }
 ],
 "metadata": {
  "kernelspec": {
   "display_name": "Python 3",
   "language": "python",
   "name": "python3"
  },
  "language_info": {
   "codemirror_mode": {
    "name": "ipython",
    "version": 3
   },
   "file_extension": ".py",
   "mimetype": "text/x-python",
   "name": "python",
   "nbconvert_exporter": "python",
   "pygments_lexer": "ipython3",
   "version": "3.7.6"
  }
 },
 "nbformat": 4,
 "nbformat_minor": 4
}
