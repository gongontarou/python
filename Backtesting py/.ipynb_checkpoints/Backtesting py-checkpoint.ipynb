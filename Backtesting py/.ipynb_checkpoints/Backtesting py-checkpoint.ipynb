{
 "cells": [
  {
   "cell_type": "code",
   "execution_count": null,
   "metadata": {
    "collapsed": true
   },
   "outputs": [],
   "source": [
    "!pip3 install backtesting"
   ]
  },
  {
   "cell_type": "code",
   "execution_count": null,
   "metadata": {
    "scrolled": false
   },
   "outputs": [],
   "source": [
    "%%time \n",
    "# ↑セルの処理時間を計算　%%timeはセルの最初に単独で書く\n",
    "\n",
    "import os # パス結合\n",
    "import pandas as pd # pandasデータフレームを使用\n",
    "import datetime\n",
    "# Googleドライブのマイドライブのパス\n",
    "#mydrive =  '/content/drive/My Drive'\n",
    "\n",
    "# フォルダ名\n",
    "#hst_dir = 'hst_20191029'\n",
    "\n",
    "# 入力ファイル名\n",
    "input_csv = 'tsd.csv'\n",
    "\n",
    "# CSVファイルをPandasデータフレームに読み込む\n",
    "df = pd.read_csv(input_csv)\n",
    "\n",
    "#print (df)\n",
    "#print(df.drop(df.columns[[1]], axis=1))\n",
    "#print(df.head())\n",
    "\n",
    "# DateTime列をdatatime型に変換→インデックスに設定して、元の列は削除する\n",
    "df = df.set_index(pd.to_datetime(df['Date'])).drop('Date', axis=1) \n",
    "\n",
    "from backtesting import Backtest, Strategy # バックテスト実行、ストラテジー作成\n",
    "from backtesting.lib import crossover\n",
    "from backtesting.test import SMA # SMAインジケータ使用\n",
    "\n",
    "class myStrategy(Strategy):\n",
    "    n1 = 10 # 終値のSMA（単純移動平均）の期間\n",
    "    n2 = 30 # 終値のSMA（単純移動平均）の期間\n",
    "    \n",
    "    def init(self): # ストラテジーの事前処理\n",
    "        self.sma1 = self.I(SMA, self.data.Close, self.n1) # 終値のSMA（単純移動平均）をインジケータとして追加\n",
    "        self.sma2 = self.I(SMA, self.data.Close, self.n2) # 終値のSMA（単純移動平均）をインジケータとして追加\n",
    "        \n",
    "    def next(self): # ヒストリカルデータの行ごとに呼び出される（データの2行目から開始）\n",
    "        if crossover(self.sma1, self.sma2): # sma1がsma2を上回った時\n",
    "            self.buy() # 現在のポジションを閉じて、所持金分買う\n",
    "\n",
    "        elif crossover(self.sma2, self.sma1):\n",
    "            self.sell() # 現在のポジションを閉じて、所持金分売る\n",
    "\n",
    "# バックテストを設定\n",
    "bt = Backtest( \n",
    "    df, # ヒストリカルデータ\n",
    "    myStrategy, # ストラテジー\n",
    "    cash=10000, # 所持金\n",
    "    commission=0.0005, # 取引手数料（為替価格に対する倍率で指定、為替価格100円でcommission=0.0005なら0.05円）\n",
    "    margin=1.0, # 取引金額に対する所持金の割合、cash=10000でmargin=0.2なら50000分取引する\n",
    "    trade_on_close=True # True：現在の終値で取引する、False：次の時間の始値で取引する\n",
    ")\n",
    "\n",
    "output = bt.run() # バックテスト実行\n",
    "print(output) # 実行結果を表示\n",
    "bt.plot() # 実行結果のグラフを表示"
   ]
  },
  {
   "cell_type": "code",
   "execution_count": null,
   "metadata": {},
   "outputs": [],
   "source": []
  },
  {
   "cell_type": "code",
   "execution_count": null,
   "metadata": {},
   "outputs": [],
   "source": []
  }
 ],
 "metadata": {
  "kernelspec": {
   "display_name": "Python 3",
   "language": "python",
   "name": "python3"
  },
  "language_info": {
   "codemirror_mode": {
    "name": "ipython",
    "version": 3
   },
   "file_extension": ".py",
   "mimetype": "text/x-python",
   "name": "python",
   "nbconvert_exporter": "python",
   "pygments_lexer": "ipython3",
   "version": "3.7.6"
  }
 },
 "nbformat": 4,
 "nbformat_minor": 4
}
