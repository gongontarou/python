{
 "cells": [
  {
   "cell_type": "code",
   "execution_count": null,
   "metadata": {},
   "outputs": [],
   "source": [
    "import csv\n",
    "from requests_html import HTMLSession\n",
    "\n",
    "session = HTMLSession()\n",
    "r = session.get('https://www.jleague.jp/sp/club/sapporo/day/#profile')\n",
    "\n",
    "# Javascriptレンダリング\n",
    "r.html.render()\n",
    "\n",
    "with open('profile.csv', 'w', encoding=\"utf-16\" ) as fw:\n",
    "    writer = csv.writer(fw, dialect='excel', lineterminator='\\n')\n",
    "\n",
    "    for trs in r.html.find('#loadArea > section >p '):\n",
    "        result = [p.text.replace('\\n', '') for p in trs.find('p')]\n",
    "        writer.writerow(result)"
   ]
  },
  {
   "cell_type": "code",
   "execution_count": null,
   "metadata": {},
   "outputs": [],
   "source": []
  }
 ],
 "metadata": {
  "kernelspec": {
   "display_name": "Python 3",
   "language": "python",
   "name": "python3"
  },
  "language_info": {
   "codemirror_mode": {
    "name": "ipython",
    "version": 3
   },
   "file_extension": ".py",
   "mimetype": "text/x-python",
   "name": "python",
   "nbconvert_exporter": "python",
   "pygments_lexer": "ipython3",
   "version": "3.6.4"
  }
 },
 "nbformat": 4,
 "nbformat_minor": 2
}
