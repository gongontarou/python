{
 "cells": [
  {
   "cell_type": "code",
   "execution_count": 4,
   "metadata": {},
   "outputs": [
    {
     "name": "stdout",
     "output_type": "stream",
     "text": [
      "{'name': 'Fear and Greed Index', 'data': [{'value': '38', 'value_classification': 'Fear', 'timestamp': '1592611200', 'time_until_update': '34911'}, {'value': '39', 'value_classification': 'Fear', 'timestamp': '1592524800'}], 'metadata': {'error': None}}\n"
     ]
    }
   ],
   "source": [
    "# APIリクエストに必要なライブラリ\n",
    "import requests\n",
    "# URL＋クエリパラメータ\n",
    "url = 'https://api.alternative.me/fng/?limit=2'\n",
    "# APIリクエストを送信\n",
    "data = requests.get(url).json()\n",
    "print(data)"
   ]
  },
  {
   "cell_type": "code",
   "execution_count": null,
   "metadata": {},
   "outputs": [],
   "source": []
  }
 ],
 "metadata": {
  "kernelspec": {
   "display_name": "Python 3",
   "language": "python",
   "name": "python3"
  },
  "language_info": {
   "codemirror_mode": {
    "name": "ipython",
    "version": 3
   },
   "file_extension": ".py",
   "mimetype": "text/x-python",
   "name": "python",
   "nbconvert_exporter": "python",
   "pygments_lexer": "ipython3",
   "version": "3.7.6"
  }
 },
 "nbformat": 4,
 "nbformat_minor": 4
}
