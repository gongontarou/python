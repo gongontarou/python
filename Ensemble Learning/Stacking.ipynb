{
 "cells": [
  {
   "cell_type": "code",
   "execution_count": 1,
   "metadata": {},
   "outputs": [
    {
     "name": "stdout",
     "output_type": "stream",
     "text": [
      "(506, 13) (323, 13) (81, 13) (102, 13)\n"
     ]
    }
   ],
   "source": [
    "import numpy as np\n",
    "from sklearn.datasets import load_boston #Scikit-learnからbostonのデータをインポート\n",
    "from sklearn.model_selection import train_test_split\n",
    "from sklearn.linear_model import LinearRegression\n",
    "from lightgbm import LGBMRegressor\n",
    "from sklearn.ensemble import RandomForestRegressor\n",
    "from sklearn.metrics import mean_squared_error\n",
    "\n",
    "boston = load_boston() #データをbostonに代入\n",
    "\n",
    "X, y = load_boston(return_X_y=True)\n",
    "\n",
    "X_train_valid, X_test, y_train_valid, y_test = train_test_split(X, y, test_size=0.2, random_state=100)\n",
    "X_train, X_valid, y_train, y_valid = train_test_split(X_train_valid, y_train_valid, test_size=0.2, random_state=100)\n",
    "\n",
    "print(X.shape, X_train.shape, X_valid.shape, X_test.shape)"
   ]
  },
  {
   "cell_type": "code",
   "execution_count": 2,
   "metadata": {},
   "outputs": [
    {
     "name": "stdout",
     "output_type": "stream",
     "text": [
      "モデル1の平均2乗誤差: 24.4851\n",
      "モデル2の平均2乗誤差: 10.1478\n",
      "モデル3の平均2乗誤差: 13.4078\n"
     ]
    }
   ],
   "source": [
    "# 第1段階のモデル作成\n",
    "\n",
    "first_model_1 = LinearRegression() # 線形回帰\n",
    "first_model_2 = RandomForestRegressor() # ランダムフォレスト回帰\n",
    "first_model_3 = LGBMRegressor() # LightGBM \n",
    "\n",
    "first_model_1.fit(X_train, y_train)\n",
    "first_model_2.fit(X_train, y_train)\n",
    "first_model_3.fit(X_train, y_train)\n",
    "\n",
    "# 結果の検証 \n",
    "test_pred_1 = first_model_1.predict(X_test)\n",
    "test_pred_2 = first_model_2.predict(X_test)\n",
    "test_pred_3 = first_model_3.predict(X_test)\n",
    "\n",
    "#　各モデル個別の予測精度を平均二乗誤差で確認\n",
    "print (\"モデル1の平均2乗誤差: {:.4f}\".format(mean_squared_error(y_test, test_pred_1)))\n",
    "print (\"モデル2の平均2乗誤差: {:.4f}\".format(mean_squared_error(y_test, test_pred_2)))\n",
    "print (\"モデル3の平均2乗誤差: {:.4f}\".format(mean_squared_error(y_test, test_pred_3)))"
   ]
  },
  {
   "cell_type": "code",
   "execution_count": 3,
   "metadata": {},
   "outputs": [
    {
     "name": "stdout",
     "output_type": "stream",
     "text": [
      "メタモデルの平均2乗誤差: 10.6706\n"
     ]
    }
   ],
   "source": [
    "# スタッキングによる予測\n",
    "\n",
    "# 第1段階の予測値(この後、メタモデルの入力に使用)\n",
    "first_pred_1 = first_model_1.predict(X_valid)\n",
    "first_pred_2 = first_model_2.predict(X_valid)\n",
    "first_pred_3 = first_model_3.predict(X_valid)\n",
    "\n",
    "#第1段階の予測値を積み重ねる\n",
    "stack_pred = np.column_stack((first_pred_1, first_pred_2, first_pred_3))\n",
    "\n",
    "# メタモデルの学習 \n",
    "meta_model = LinearRegression()\n",
    "meta_model.fit(stack_pred, y_valid)\n",
    "\n",
    "# 各モデルの検証データを積み重ねる\n",
    "stack_test_pred = np.column_stack((test_pred_1, test_pred_2, test_pred_3))\n",
    "\n",
    "# スタッキングの検証\n",
    "meta_test_pred = meta_model.predict(stack_test_pred)\n",
    "print (\"メタモデルの平均2乗誤差: {:.4f}\".format(mean_squared_error(y_test, meta_test_pred)))"
   ]
  },
  {
   "cell_type": "code",
   "execution_count": null,
   "metadata": {},
   "outputs": [],
   "source": []
  }
 ],
 "metadata": {
  "kernelspec": {
   "display_name": "Python 3",
   "language": "python",
   "name": "python3"
  },
  "language_info": {
   "codemirror_mode": {
    "name": "ipython",
    "version": 3
   },
   "file_extension": ".py",
   "mimetype": "text/x-python",
   "name": "python",
   "nbconvert_exporter": "python",
   "pygments_lexer": "ipython3",
   "version": "3.7.6"
  }
 },
 "nbformat": 4,
 "nbformat_minor": 4
}
