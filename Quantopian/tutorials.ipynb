{
 "cells": [
  {
   "cell_type": "code",
   "execution_count": 1,
   "metadata": {},
   "outputs": [
    {
     "ename": "ModuleNotFoundError",
     "evalue": "No module named 'quantopian'",
     "output_type": "error",
     "traceback": [
      "\u001b[0;31m---------------------------------------------------------------------------\u001b[0m",
      "\u001b[0;31mModuleNotFoundError\u001b[0m                       Traceback (most recent call last)",
      "\u001b[0;32m<ipython-input-1-1857c7d1ac06>\u001b[0m in \u001b[0;36m<module>\u001b[0;34m\u001b[0m\n\u001b[0;32m----> 1\u001b[0;31m \u001b[0;32mfrom\u001b[0m \u001b[0mquantopian\u001b[0m\u001b[0;34m.\u001b[0m\u001b[0mpipeline\u001b[0m\u001b[0;34m.\u001b[0m\u001b[0mdata\u001b[0m\u001b[0;34m.\u001b[0m\u001b[0mfactset\u001b[0m \u001b[0;32mimport\u001b[0m \u001b[0mFundamentals\u001b[0m\u001b[0;34m,\u001b[0m \u001b[0mEquityMetadata\u001b[0m\u001b[0;34m\u001b[0m\u001b[0;34m\u001b[0m\u001b[0m\n\u001b[0m\u001b[1;32m      2\u001b[0m \u001b[0;34m\u001b[0m\u001b[0m\n\u001b[1;32m      3\u001b[0m \u001b[0mis_share\u001b[0m \u001b[0;34m=\u001b[0m \u001b[0mEquityMetadata\u001b[0m\u001b[0;34m.\u001b[0m\u001b[0msecurity_type\u001b[0m\u001b[0;34m.\u001b[0m\u001b[0mlatest\u001b[0m\u001b[0;34m.\u001b[0m\u001b[0meq\u001b[0m\u001b[0;34m(\u001b[0m\u001b[0;34m'SHARE'\u001b[0m\u001b[0;34m)\u001b[0m\u001b[0;34m\u001b[0m\u001b[0;34m\u001b[0m\u001b[0m\n\u001b[1;32m      4\u001b[0m \u001b[0mis_primary\u001b[0m \u001b[0;34m=\u001b[0m \u001b[0mEquityMetadata\u001b[0m\u001b[0;34m.\u001b[0m\u001b[0mis_primary\u001b[0m\u001b[0;34m.\u001b[0m\u001b[0mlatest\u001b[0m\u001b[0;34m\u001b[0m\u001b[0;34m\u001b[0m\u001b[0m\n\u001b[1;32m      5\u001b[0m \u001b[0mprimary_shares\u001b[0m \u001b[0;34m=\u001b[0m \u001b[0;34m(\u001b[0m\u001b[0mis_share\u001b[0m \u001b[0;34m&\u001b[0m \u001b[0mis_primary\u001b[0m\u001b[0;34m)\u001b[0m\u001b[0;34m\u001b[0m\u001b[0;34m\u001b[0m\u001b[0m\n",
      "\u001b[0;31mModuleNotFoundError\u001b[0m: No module named 'quantopian'"
     ]
    }
   ],
   "source": [
    "from quantopian.pipeline.data.factset import Fundamentals, EquityMetadata\n",
    "\n",
    "is_share = EquityMetadata.security_type.latest.eq('SHARE')\n",
    "is_primary = EquityMetadata.is_primary.latest\n",
    "primary_shares = (is_share & is_primary)\n",
    "market_cap = Fundamentals.mkt_val.latest\n",
    "\n",
    "universe = market_cap.top(1000, mask=primary_shares)"
   ]
  },
  {
   "cell_type": "code",
   "execution_count": 2,
   "metadata": {},
   "outputs": [
    {
     "name": "stdout",
     "output_type": "stream",
     "text": [
      "\u001b[31mERROR: Could not find a version that satisfies the requirement quantopian (from versions: none)\u001b[0m\r\n",
      "\u001b[31mERROR: No matching distribution found for quantopian\u001b[0m\r\n"
     ]
    }
   ],
   "source": [
    "!pip install quantopian"
   ]
  },
  {
   "cell_type": "code",
   "execution_count": null,
   "metadata": {},
   "outputs": [],
   "source": []
  }
 ],
 "metadata": {
  "kernelspec": {
   "display_name": "Python 3",
   "language": "python",
   "name": "python3"
  },
  "language_info": {
   "codemirror_mode": {
    "name": "ipython",
    "version": 3
   },
   "file_extension": ".py",
   "mimetype": "text/x-python",
   "name": "python",
   "nbconvert_exporter": "python",
   "pygments_lexer": "ipython3",
   "version": "3.7.6"
  }
 },
 "nbformat": 4,
 "nbformat_minor": 4
}
