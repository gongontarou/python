{
 "cells": [
  {
   "cell_type": "code",
   "execution_count": 9,
   "metadata": {},
   "outputs": [],
   "source": [
    "import pandas as pd\n",
    "import sklearn.linear_model\n",
    "\n",
    "# Read the csv file into a pandas Dataframe\n",
    "training_data = pd.read_csv(\"numerai_training_data.csv\")\n",
    "tournament_data = pd.read_csv(\"numerai_tournament_data.csv\")\n",
    "\n",
    "# find only the feature columns\n",
    "feature_cols = training_data.columns[training_data.columns.str.startswith('feature')]\n",
    "# select those columns out of the training dataset\n",
    "training_features = training_data[feature_cols]\n",
    "\n",
    "\n",
    "# create a model and fit the training data (~30 sec to run)\n",
    "model = sklearn.linear_model.LinearRegression()\n",
    "model.fit(training_features, training_data.target_kazutsugi)\n",
    "\n",
    "# select the feature columns from the tournament data\n",
    "live_features = tournament_data[feature_cols]\n",
    "# predict the target on the live features\n",
    "predictions = model.predict(live_features)\n",
    "# predictions must have an `id` column and a `prediction_kazutsugi` column\n",
    "predictions_df = tournament_data[\"id\"].to_frame()\n",
    "predictions_df[\"prediction_kazutsugi\"] = predictions\n",
    "predictions_df.head()\n",
    "\n",
    "# submit predictions to numer.ai\n",
    "predictions_df.to_csv(\"predictions.csv\", index=False)\n"
   ]
  },
  {
   "cell_type": "code",
   "execution_count": null,
   "metadata": {},
   "outputs": [],
   "source": []
  }
 ],
 "metadata": {
  "kernelspec": {
   "display_name": "Python 3",
   "language": "python",
   "name": "python3"
  },
  "language_info": {
   "codemirror_mode": {
    "name": "ipython",
    "version": 3
   },
   "file_extension": ".py",
   "mimetype": "text/x-python",
   "name": "python",
   "nbconvert_exporter": "python",
   "pygments_lexer": "ipython3",
   "version": "3.7.6"
  }
 },
 "nbformat": 4,
 "nbformat_minor": 4
}
